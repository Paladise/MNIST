{
  "cells": [
    {
      "cell_type": "code",
      "execution_count": null,
      "metadata": {
        "id": "6yy2i1UgaFaH"
      },
      "outputs": [],
      "source": [
        "#hide\n",
        "! [ -e /content ] && pip install -Uqq fastbook\n",
        "import fastbook"
      ]
    },
    {
      "cell_type": "code",
      "execution_count": null,
      "metadata": {
        "id": "RTlqpUKSagNH"
      },
      "outputs": [],
      "source": [
        "#hide\n",
        "from fastai.vision.all import *\n",
        "from fastbook import *"
      ]
    },
    {
      "cell_type": "code",
      "execution_count": null,
      "metadata": {
        "id": "VpgYa1-jKNtQ"
      },
      "outputs": [],
      "source": [
        "matplotlib.rc('image', cmap='Greys') # Make images look pretty"
      ]
    },
    {
      "cell_type": "markdown",
      "metadata": {
        "id": "8XgDfngsGU4w"
      },
      "source": [
        "# MNIST Dataset\n",
        "## Retrieving the path to the dataset\n",
        "\n",
        "Note that the full MNIST dataset is under `URLS.MNIST` in the fast ai library, not `URLS.MNIST_SAMPLE`."
      ]
    },
    {
      "cell_type": "code",
      "execution_count": null,
      "metadata": {
        "id": "P3F9lFPCajjJ"
      },
      "outputs": [],
      "source": [
        "path = untar_data(URLs.MNIST)\n",
        "Path.BASE_PATH = path"
      ]
    },
    {
      "cell_type": "markdown",
      "metadata": {
        "id": "CcImiiU-l119"
      },
      "source": [
        "You can use the `ls` method to look inside the directory"
      ]
    },
    {
      "cell_type": "code",
      "execution_count": null,
      "metadata": {
        "colab": {
          "base_uri": "https://localhost:8080/"
        },
        "id": "TH0Iecg7auye",
        "outputId": "dab03308-90d0-4251-ea59-9b7a5044c57f"
      },
      "outputs": [
        {
          "output_type": "execute_result",
          "data": {
            "text/plain": [
              "(#2) [Path('testing'),Path('training')]"
            ]
          },
          "metadata": {},
          "execution_count": 199
        }
      ],
      "source": [
        "path.ls()"
      ]
    },
    {
      "cell_type": "markdown",
      "metadata": {
        "id": "GVmcteGFl12A"
      },
      "source": [
        "Within the main directory, you can see that there are two sub-directories, `testing` and `training`"
      ]
    },
    {
      "cell_type": "code",
      "execution_count": null,
      "metadata": {
        "colab": {
          "base_uri": "https://localhost:8080/"
        },
        "id": "9h4EHIfZa6eN",
        "outputId": "e0ec80f8-a294-4db3-e7f3-87b09463761b"
      },
      "outputs": [
        {
          "output_type": "execute_result",
          "data": {
            "text/plain": [
              "(#10) [Path('training/6'),Path('training/4'),Path('training/1'),Path('training/0'),Path('training/5'),Path('training/8'),Path('training/9'),Path('training/7'),Path('training/3'),Path('training/2')]"
            ]
          },
          "metadata": {},
          "execution_count": 200
        }
      ],
      "source": [
        "(path/\"training\").ls()"
      ]
    },
    {
      "cell_type": "markdown",
      "metadata": {
        "id": "C6O8tI63iQb5"
      },
      "source": [
        "Within the subdirectory are numbers typically called **labels** for the training set, (0 - 9)"
      ]
    },
    {
      "cell_type": "code",
      "execution_count": null,
      "metadata": {
        "colab": {
          "base_uri": "https://localhost:8080/"
        },
        "id": "-Ze66lGsiWu_",
        "outputId": "a5c365f6-05dd-4577-9163-457ac80d3ff1"
      },
      "outputs": [
        {
          "output_type": "execute_result",
          "data": {
            "text/plain": [
              "(#6742) [Path('training/1/10006.png'),Path('training/1/10007.png'),Path('training/1/1002.png'),Path('training/1/10020.png'),Path('training/1/10027.png'),Path('training/1/1003.png'),Path('training/1/10040.png'),Path('training/1/10048.png'),Path('training/1/10058.png'),Path('training/1/10067.png')...]"
            ]
          },
          "metadata": {},
          "execution_count": 201
        }
      ],
      "source": [
        "ones = (path/\"training\"/\"1\").ls().sorted() # Getting all the sorted images labeled one \n",
        "ones"
      ]
    },
    {
      "cell_type": "markdown",
      "metadata": {
        "id": "mDhb7z82GmJU"
      },
      "source": [
        "# Manipulating the Data\n",
        "## Exploring how the data is stored, and how to manipulate / view it\n",
        "\n",
        "We can use PIL's `Image` class to open a image within the Dataset."
      ]
    },
    {
      "cell_type": "code",
      "execution_count": null,
      "metadata": {
        "id": "x_kGiLedizyt"
      },
      "outputs": [],
      "source": [
        "image_one = Image.open(ones[0]) "
      ]
    },
    {
      "cell_type": "markdown",
      "metadata": {
        "id": "4EElKkaJl12M"
      },
      "source": [
        "We can then also change this object into a Numpy Array with the `array` method"
      ]
    },
    {
      "cell_type": "code",
      "execution_count": null,
      "metadata": {
        "colab": {
          "base_uri": "https://localhost:8080/"
        },
        "id": "yKv-cbFJjOMh",
        "outputId": "d8feae8a-8fe2-42be-8985-13601599344c"
      },
      "outputs": [
        {
          "output_type": "execute_result",
          "data": {
            "text/plain": [
              "array([[  0,   0,   0,   0,   0,   0,   0,   0,   0,   0,   0,   0,   0,   0,   0,   0,   0,   0,   0,   0,   0,   0,   0,   0,   0,   0,   0,   0],\n",
              "       [  0,   0,   0,   0,   0,   0,   0,   0,   0,   0,   0,   0,   0,   0,   0,   0,   0,   0,   0,   0,   0,   0,   0,   0,   0,   0,   0,   0],\n",
              "       [  0,   0,   0,   0,   0,   0,   0,   0,   0,   0,   0,   0,   0,   0,   0,   0,   0,   0,   0,   0,   0,   0,   0,   0,   0,   0,   0,   0],\n",
              "       [  0,   0,   0,   0,   0,   0,   0,   0,   0,   0,   0,   0,   0,   0,   0,   0,   0,   0,   0,   0,   0,   0,   0,   0,   0,   0,   0,   0],\n",
              "       [  0,   0,   0,   0,   0,   0,   0,   0,   0,   0,   0,   0,   0,   0,  60, 255,  78,   0,   0,   0,   0,   0,   0,   0,   0,   0,   0,   0],\n",
              "       [  0,   0,   0,   0,   0,   0,   0,   0,   0,   0,   0,   0,   0,   0,  59, 253,  78,   0,   0,   0,   0,   0,   0,   0,   0,   0,   0,   0],\n",
              "       [  0,   0,   0,   0,   0,   0,   0,   0,   0,   0,   0,   0,   0,   0, 183, 253,  78,   0,   0,   0,   0,   0,   0,   0,   0,   0,   0,   0],\n",
              "       [  0,   0,   0,   0,   0,   0,   0,   0,   0,   0,   0,   0,   0,  27, 216, 253,  78,   0,   0,   0,   0,   0,   0,   0,   0,   0,   0,   0],\n",
              "       [  0,   0,   0,   0,   0,   0,   0,   0,   0,   0,   0,   0,   0, 116, 253, 253,  78,   0,   0,   0,   0,   0,   0,   0,   0,   0,   0,   0],\n",
              "       [  0,   0,   0,   0,   0,   0,   0,   0,   0,   0,   0,   0,   0, 196, 253, 207,  10,   0,   0,   0,   0,   0,   0,   0,   0,   0,   0,   0],\n",
              "       [  0,   0,   0,   0,   0,   0,   0,   0,   0,   0,   0,   0,   0, 196, 253, 201,   0,   0,   0,   0,   0,   0,   0,   0,   0,   0,   0,   0],\n",
              "       [  0,   0,   0,   0,   0,   0,   0,   0,   0,   0,   0,   0,   0, 196, 253, 201,   0,   0,   0,   0,   0,   0,   0,   0,   0,   0,   0,   0],\n",
              "       [  0,   0,   0,   0,   0,   0,   0,   0,   0,   0,   0,   0,  21, 212, 253,  97,   0,   0,   0,   0,   0,   0,   0,   0,   0,   0,   0,   0],\n",
              "       [  0,   0,   0,   0,   0,   0,   0,   0,   0,   0,   0,   0,  72, 253, 238,  53,   0,   0,   0,   0,   0,   0,   0,   0,   0,   0,   0,   0],\n",
              "       [  0,   0,   0,   0,   0,   0,   0,   0,   0,   0,   0,   0,  72, 253, 238,  53,   0,   0,   0,   0,   0,   0,   0,   0,   0,   0,   0,   0],\n",
              "       [  0,   0,   0,   0,   0,   0,   0,   0,   0,   0,   0,   0,  72, 253, 241,  57,   0,   0,   0,   0,   0,   0,   0,   0,   0,   0,   0,   0],\n",
              "       [  0,   0,   0,   0,   0,   0,   0,   0,   0,   0,   0,   0,  72, 253, 194,   0,   0,   0,   0,   0,   0,   0,   0,   0,   0,   0,   0,   0],\n",
              "       [  0,   0,   0,   0,   0,   0,   0,   0,   0,   0,   0,   0, 159, 253, 194,   0,   0,   0,   0,   0,   0,   0,   0,   0,   0,   0,   0,   0],\n",
              "       [  0,   0,   0,   0,   0,   0,   0,   0,   0,   0,   0,  51, 235, 253, 177,   0,   0,   0,   0,   0,   0,   0,   0,   0,   0,   0,   0,   0],\n",
              "       [  0,   0,   0,   0,   0,   0,   0,   0,   0,   0,   0,  79, 253, 253,  65,   0,   0,   0,   0,   0,   0,   0,   0,   0,   0,   0,   0,   0],\n",
              "       [  0,   0,   0,   0,   0,   0,   0,   0,   0,   0,   0,  79, 253, 214,  27,   0,   0,   0,   0,   0,   0,   0,   0,   0,   0,   0,   0,   0],\n",
              "       [  0,   0,   0,   0,   0,   0,   0,   0,   0,   0,   0,  79, 253, 191,   4,   0,   0,   0,   0,   0,   0,   0,   0,   0,   0,   0,   0,   0],\n",
              "       [  0,   0,   0,   0,   0,   0,   0,   0,   0,   0,   0,  79, 253, 253, 134,   0,   0,   0,   0,   0,   0,   0,   0,   0,   0,   0,   0,   0],\n",
              "       [  0,   0,   0,   0,   0,   0,   0,   0,   0,   0,   0,  79, 253, 253, 128,   0,   0,   0,   0,   0,   0,   0,   0,   0,   0,   0,   0,   0],\n",
              "       [  0,   0,   0,   0,   0,   0,   0,   0,   0,   0,   0,   0,   0,   0,   0,   0,   0,   0,   0,   0,   0,   0,   0,   0,   0,   0,   0,   0],\n",
              "       [  0,   0,   0,   0,   0,   0,   0,   0,   0,   0,   0,   0,   0,   0,   0,   0,   0,   0,   0,   0,   0,   0,   0,   0,   0,   0,   0,   0],\n",
              "       [  0,   0,   0,   0,   0,   0,   0,   0,   0,   0,   0,   0,   0,   0,   0,   0,   0,   0,   0,   0,   0,   0,   0,   0,   0,   0,   0,   0],\n",
              "       [  0,   0,   0,   0,   0,   0,   0,   0,   0,   0,   0,   0,   0,   0,   0,   0,   0,   0,   0,   0,   0,   0,   0,   0,   0,   0,   0,   0]], dtype=uint8)"
            ]
          },
          "metadata": {},
          "execution_count": 203
        }
      ],
      "source": [
        "image_one_array = array(image_one)\n",
        "image_one_array"
      ]
    },
    {
      "cell_type": "markdown",
      "metadata": {
        "id": "soxN-uw1l12O"
      },
      "source": [
        "And we can also charge this to a PyTorch **tensor**, a multi-dimensional array, with the `tensor` function."
      ]
    },
    {
      "cell_type": "code",
      "execution_count": null,
      "metadata": {
        "colab": {
          "base_uri": "https://localhost:8080/"
        },
        "id": "sJalpRgLjeQq",
        "outputId": "c2df7d35-bef2-4b3c-f4e3-91956516d61f"
      },
      "outputs": [
        {
          "output_type": "execute_result",
          "data": {
            "text/plain": [
              "tensor([[  0,   0,   0,   0,   0,   0,   0,   0,   0,   0,   0,   0,   0,   0,   0,   0,   0,   0,   0,   0,   0,   0,   0,   0,   0,   0,   0,   0],\n",
              "        [  0,   0,   0,   0,   0,   0,   0,   0,   0,   0,   0,   0,   0,   0,   0,   0,   0,   0,   0,   0,   0,   0,   0,   0,   0,   0,   0,   0],\n",
              "        [  0,   0,   0,   0,   0,   0,   0,   0,   0,   0,   0,   0,   0,   0,   0,   0,   0,   0,   0,   0,   0,   0,   0,   0,   0,   0,   0,   0],\n",
              "        [  0,   0,   0,   0,   0,   0,   0,   0,   0,   0,   0,   0,   0,   0,   0,   0,   0,   0,   0,   0,   0,   0,   0,   0,   0,   0,   0,   0],\n",
              "        [  0,   0,   0,   0,   0,   0,   0,   0,   0,   0,   0,   0,   0,   0,  60, 255,  78,   0,   0,   0,   0,   0,   0,   0,   0,   0,   0,   0],\n",
              "        [  0,   0,   0,   0,   0,   0,   0,   0,   0,   0,   0,   0,   0,   0,  59, 253,  78,   0,   0,   0,   0,   0,   0,   0,   0,   0,   0,   0],\n",
              "        [  0,   0,   0,   0,   0,   0,   0,   0,   0,   0,   0,   0,   0,   0, 183, 253,  78,   0,   0,   0,   0,   0,   0,   0,   0,   0,   0,   0],\n",
              "        [  0,   0,   0,   0,   0,   0,   0,   0,   0,   0,   0,   0,   0,  27, 216, 253,  78,   0,   0,   0,   0,   0,   0,   0,   0,   0,   0,   0],\n",
              "        [  0,   0,   0,   0,   0,   0,   0,   0,   0,   0,   0,   0,   0, 116, 253, 253,  78,   0,   0,   0,   0,   0,   0,   0,   0,   0,   0,   0],\n",
              "        [  0,   0,   0,   0,   0,   0,   0,   0,   0,   0,   0,   0,   0, 196, 253, 207,  10,   0,   0,   0,   0,   0,   0,   0,   0,   0,   0,   0],\n",
              "        [  0,   0,   0,   0,   0,   0,   0,   0,   0,   0,   0,   0,   0, 196, 253, 201,   0,   0,   0,   0,   0,   0,   0,   0,   0,   0,   0,   0],\n",
              "        [  0,   0,   0,   0,   0,   0,   0,   0,   0,   0,   0,   0,   0, 196, 253, 201,   0,   0,   0,   0,   0,   0,   0,   0,   0,   0,   0,   0],\n",
              "        [  0,   0,   0,   0,   0,   0,   0,   0,   0,   0,   0,   0,  21, 212, 253,  97,   0,   0,   0,   0,   0,   0,   0,   0,   0,   0,   0,   0],\n",
              "        [  0,   0,   0,   0,   0,   0,   0,   0,   0,   0,   0,   0,  72, 253, 238,  53,   0,   0,   0,   0,   0,   0,   0,   0,   0,   0,   0,   0],\n",
              "        [  0,   0,   0,   0,   0,   0,   0,   0,   0,   0,   0,   0,  72, 253, 238,  53,   0,   0,   0,   0,   0,   0,   0,   0,   0,   0,   0,   0],\n",
              "        [  0,   0,   0,   0,   0,   0,   0,   0,   0,   0,   0,   0,  72, 253, 241,  57,   0,   0,   0,   0,   0,   0,   0,   0,   0,   0,   0,   0],\n",
              "        [  0,   0,   0,   0,   0,   0,   0,   0,   0,   0,   0,   0,  72, 253, 194,   0,   0,   0,   0,   0,   0,   0,   0,   0,   0,   0,   0,   0],\n",
              "        [  0,   0,   0,   0,   0,   0,   0,   0,   0,   0,   0,   0, 159, 253, 194,   0,   0,   0,   0,   0,   0,   0,   0,   0,   0,   0,   0,   0],\n",
              "        [  0,   0,   0,   0,   0,   0,   0,   0,   0,   0,   0,  51, 235, 253, 177,   0,   0,   0,   0,   0,   0,   0,   0,   0,   0,   0,   0,   0],\n",
              "        [  0,   0,   0,   0,   0,   0,   0,   0,   0,   0,   0,  79, 253, 253,  65,   0,   0,   0,   0,   0,   0,   0,   0,   0,   0,   0,   0,   0],\n",
              "        [  0,   0,   0,   0,   0,   0,   0,   0,   0,   0,   0,  79, 253, 214,  27,   0,   0,   0,   0,   0,   0,   0,   0,   0,   0,   0,   0,   0],\n",
              "        [  0,   0,   0,   0,   0,   0,   0,   0,   0,   0,   0,  79, 253, 191,   4,   0,   0,   0,   0,   0,   0,   0,   0,   0,   0,   0,   0,   0],\n",
              "        [  0,   0,   0,   0,   0,   0,   0,   0,   0,   0,   0,  79, 253, 253, 134,   0,   0,   0,   0,   0,   0,   0,   0,   0,   0,   0,   0,   0],\n",
              "        [  0,   0,   0,   0,   0,   0,   0,   0,   0,   0,   0,  79, 253, 253, 128,   0,   0,   0,   0,   0,   0,   0,   0,   0,   0,   0,   0,   0],\n",
              "        [  0,   0,   0,   0,   0,   0,   0,   0,   0,   0,   0,   0,   0,   0,   0,   0,   0,   0,   0,   0,   0,   0,   0,   0,   0,   0,   0,   0],\n",
              "        [  0,   0,   0,   0,   0,   0,   0,   0,   0,   0,   0,   0,   0,   0,   0,   0,   0,   0,   0,   0,   0,   0,   0,   0,   0,   0,   0,   0],\n",
              "        [  0,   0,   0,   0,   0,   0,   0,   0,   0,   0,   0,   0,   0,   0,   0,   0,   0,   0,   0,   0,   0,   0,   0,   0,   0,   0,   0,   0],\n",
              "        [  0,   0,   0,   0,   0,   0,   0,   0,   0,   0,   0,   0,   0,   0,   0,   0,   0,   0,   0,   0,   0,   0,   0,   0,   0,   0,   0,   0]], dtype=torch.uint8)"
            ]
          },
          "metadata": {},
          "execution_count": 204
        }
      ],
      "source": [
        "image_one_tensor = tensor(image_one) \n",
        "image_one_tensor"
      ]
    },
    {
      "cell_type": "markdown",
      "metadata": {
        "id": "_bkeviRul12R"
      },
      "source": [
        "You can see that the array and tensor operate in pretty much the same way, and they will also share many of the same functions. \n",
        "\n",
        "Now onto using a Pandas DataFrame object to color-code the values using a gradient."
      ]
    },
    {
      "cell_type": "code",
      "execution_count": null,
      "metadata": {
        "colab": {
          "base_uri": "https://localhost:8080/"
        },
        "id": "llhmUN3Uj1L4",
        "outputId": "0bcc1c13-1d35-4d72-a614-14238f6566ef"
      },
      "outputs": [
        {
          "output_type": "execute_result",
          "data": {
            "text/plain": [
              "<pandas.io.formats.style.Styler at 0x7f387edc2b90>"
            ],
            "text/html": [
              "<style type=\"text/css\">\n",
              "#T_7a784_row0_col0, #T_7a784_row0_col1, #T_7a784_row0_col2, #T_7a784_row0_col3, #T_7a784_row0_col4, #T_7a784_row0_col5, #T_7a784_row0_col6, #T_7a784_row0_col7, #T_7a784_row0_col8, #T_7a784_row0_col9, #T_7a784_row0_col10, #T_7a784_row0_col11, #T_7a784_row0_col12, #T_7a784_row0_col13, #T_7a784_row0_col14, #T_7a784_row0_col15, #T_7a784_row0_col16, #T_7a784_row0_col17, #T_7a784_row0_col18, #T_7a784_row0_col19, #T_7a784_row0_col20, #T_7a784_row0_col21, #T_7a784_row0_col22, #T_7a784_row0_col23, #T_7a784_row0_col24, #T_7a784_row0_col25, #T_7a784_row0_col26, #T_7a784_row0_col27, #T_7a784_row1_col0, #T_7a784_row1_col1, #T_7a784_row1_col2, #T_7a784_row1_col3, #T_7a784_row1_col4, #T_7a784_row1_col5, #T_7a784_row1_col6, #T_7a784_row1_col7, #T_7a784_row1_col8, #T_7a784_row1_col9, #T_7a784_row1_col10, #T_7a784_row1_col11, #T_7a784_row1_col12, #T_7a784_row1_col13, #T_7a784_row1_col14, #T_7a784_row1_col15, #T_7a784_row1_col16, #T_7a784_row1_col17, #T_7a784_row1_col18, #T_7a784_row1_col19, #T_7a784_row1_col20, #T_7a784_row1_col21, #T_7a784_row1_col22, #T_7a784_row1_col23, #T_7a784_row1_col24, #T_7a784_row1_col25, #T_7a784_row1_col26, #T_7a784_row1_col27, #T_7a784_row2_col0, #T_7a784_row2_col1, #T_7a784_row2_col2, #T_7a784_row2_col3, #T_7a784_row2_col4, #T_7a784_row2_col5, #T_7a784_row2_col6, #T_7a784_row2_col7, #T_7a784_row2_col8, #T_7a784_row2_col9, #T_7a784_row2_col10, #T_7a784_row2_col11, #T_7a784_row2_col12, #T_7a784_row2_col13, #T_7a784_row2_col14, #T_7a784_row2_col15, #T_7a784_row2_col16, #T_7a784_row2_col17, #T_7a784_row2_col18, #T_7a784_row2_col19, #T_7a784_row2_col20, #T_7a784_row2_col21, #T_7a784_row2_col22, #T_7a784_row2_col23, #T_7a784_row2_col24, #T_7a784_row2_col25, #T_7a784_row2_col26, #T_7a784_row2_col27, #T_7a784_row3_col0, #T_7a784_row3_col1, #T_7a784_row3_col2, #T_7a784_row3_col3, #T_7a784_row3_col4, #T_7a784_row3_col5, #T_7a784_row3_col6, #T_7a784_row3_col7, #T_7a784_row3_col8, #T_7a784_row3_col9, #T_7a784_row3_col10, #T_7a784_row3_col11, #T_7a784_row3_col12, #T_7a784_row3_col13, #T_7a784_row3_col14, #T_7a784_row3_col15, #T_7a784_row3_col16, #T_7a784_row3_col17, #T_7a784_row3_col18, #T_7a784_row3_col19, #T_7a784_row3_col20, #T_7a784_row3_col21, #T_7a784_row3_col22, #T_7a784_row3_col23, #T_7a784_row3_col24, #T_7a784_row3_col25, #T_7a784_row3_col26, #T_7a784_row3_col27, #T_7a784_row4_col0, #T_7a784_row4_col1, #T_7a784_row4_col2, #T_7a784_row4_col3, #T_7a784_row4_col4, #T_7a784_row4_col5, #T_7a784_row4_col6, #T_7a784_row4_col7, #T_7a784_row4_col8, #T_7a784_row4_col9, #T_7a784_row4_col10, #T_7a784_row4_col11, #T_7a784_row4_col12, #T_7a784_row4_col13, #T_7a784_row4_col17, #T_7a784_row4_col18, #T_7a784_row4_col19, #T_7a784_row4_col20, #T_7a784_row4_col21, #T_7a784_row4_col22, #T_7a784_row4_col23, #T_7a784_row4_col24, #T_7a784_row4_col25, #T_7a784_row4_col26, #T_7a784_row4_col27, #T_7a784_row5_col0, #T_7a784_row5_col1, #T_7a784_row5_col2, #T_7a784_row5_col3, #T_7a784_row5_col4, #T_7a784_row5_col5, #T_7a784_row5_col6, #T_7a784_row5_col7, #T_7a784_row5_col8, #T_7a784_row5_col9, #T_7a784_row5_col10, #T_7a784_row5_col11, #T_7a784_row5_col12, #T_7a784_row5_col13, #T_7a784_row5_col17, #T_7a784_row5_col18, #T_7a784_row5_col19, #T_7a784_row5_col20, #T_7a784_row5_col21, #T_7a784_row5_col22, #T_7a784_row5_col23, #T_7a784_row5_col24, #T_7a784_row5_col25, #T_7a784_row5_col26, #T_7a784_row5_col27, #T_7a784_row6_col0, #T_7a784_row6_col1, #T_7a784_row6_col2, #T_7a784_row6_col3, #T_7a784_row6_col4, #T_7a784_row6_col5, #T_7a784_row6_col6, #T_7a784_row6_col7, #T_7a784_row6_col8, #T_7a784_row6_col9, #T_7a784_row6_col10, #T_7a784_row6_col11, #T_7a784_row6_col12, #T_7a784_row6_col13, #T_7a784_row6_col17, #T_7a784_row6_col18, #T_7a784_row6_col19, #T_7a784_row6_col20, #T_7a784_row6_col21, #T_7a784_row6_col22, #T_7a784_row6_col23, #T_7a784_row6_col24, #T_7a784_row6_col25, #T_7a784_row6_col26, #T_7a784_row6_col27, #T_7a784_row7_col0, #T_7a784_row7_col1, #T_7a784_row7_col2, #T_7a784_row7_col3, #T_7a784_row7_col4, #T_7a784_row7_col5, #T_7a784_row7_col6, #T_7a784_row7_col7, #T_7a784_row7_col8, #T_7a784_row7_col9, #T_7a784_row7_col10, #T_7a784_row7_col11, #T_7a784_row7_col12, #T_7a784_row7_col17, #T_7a784_row7_col18, #T_7a784_row7_col19, #T_7a784_row7_col20, #T_7a784_row7_col21, #T_7a784_row7_col22, #T_7a784_row7_col23, #T_7a784_row7_col24, #T_7a784_row7_col25, #T_7a784_row7_col26, #T_7a784_row7_col27, #T_7a784_row8_col0, #T_7a784_row8_col1, #T_7a784_row8_col2, #T_7a784_row8_col3, #T_7a784_row8_col4, #T_7a784_row8_col5, #T_7a784_row8_col6, #T_7a784_row8_col7, #T_7a784_row8_col8, #T_7a784_row8_col9, #T_7a784_row8_col10, #T_7a784_row8_col11, #T_7a784_row8_col12, #T_7a784_row8_col17, #T_7a784_row8_col18, #T_7a784_row8_col19, #T_7a784_row8_col20, #T_7a784_row8_col21, #T_7a784_row8_col22, #T_7a784_row8_col23, #T_7a784_row8_col24, #T_7a784_row8_col25, #T_7a784_row8_col26, #T_7a784_row8_col27, #T_7a784_row9_col0, #T_7a784_row9_col1, #T_7a784_row9_col2, #T_7a784_row9_col3, #T_7a784_row9_col4, #T_7a784_row9_col5, #T_7a784_row9_col6, #T_7a784_row9_col7, #T_7a784_row9_col8, #T_7a784_row9_col9, #T_7a784_row9_col10, #T_7a784_row9_col11, #T_7a784_row9_col12, #T_7a784_row9_col17, #T_7a784_row9_col18, #T_7a784_row9_col19, #T_7a784_row9_col20, #T_7a784_row9_col21, #T_7a784_row9_col22, #T_7a784_row9_col23, #T_7a784_row9_col24, #T_7a784_row9_col25, #T_7a784_row9_col26, #T_7a784_row9_col27, #T_7a784_row10_col0, #T_7a784_row10_col1, #T_7a784_row10_col2, #T_7a784_row10_col3, #T_7a784_row10_col4, #T_7a784_row10_col5, #T_7a784_row10_col6, #T_7a784_row10_col7, #T_7a784_row10_col8, #T_7a784_row10_col9, #T_7a784_row10_col10, #T_7a784_row10_col11, #T_7a784_row10_col12, #T_7a784_row10_col16, #T_7a784_row10_col17, #T_7a784_row10_col18, #T_7a784_row10_col19, #T_7a784_row10_col20, #T_7a784_row10_col21, #T_7a784_row10_col22, #T_7a784_row10_col23, #T_7a784_row10_col24, #T_7a784_row10_col25, #T_7a784_row10_col26, #T_7a784_row10_col27, #T_7a784_row11_col0, #T_7a784_row11_col1, #T_7a784_row11_col2, #T_7a784_row11_col3, #T_7a784_row11_col4, #T_7a784_row11_col5, #T_7a784_row11_col6, #T_7a784_row11_col7, #T_7a784_row11_col8, #T_7a784_row11_col9, #T_7a784_row11_col10, #T_7a784_row11_col11, #T_7a784_row11_col12, #T_7a784_row11_col16, #T_7a784_row11_col17, #T_7a784_row11_col18, #T_7a784_row11_col19, #T_7a784_row11_col20, #T_7a784_row11_col21, #T_7a784_row11_col22, #T_7a784_row11_col23, #T_7a784_row11_col24, #T_7a784_row11_col25, #T_7a784_row11_col26, #T_7a784_row11_col27, #T_7a784_row12_col0, #T_7a784_row12_col1, #T_7a784_row12_col2, #T_7a784_row12_col3, #T_7a784_row12_col4, #T_7a784_row12_col5, #T_7a784_row12_col6, #T_7a784_row12_col7, #T_7a784_row12_col8, #T_7a784_row12_col9, #T_7a784_row12_col10, #T_7a784_row12_col11, #T_7a784_row12_col16, #T_7a784_row12_col17, #T_7a784_row12_col18, #T_7a784_row12_col19, #T_7a784_row12_col20, #T_7a784_row12_col21, #T_7a784_row12_col22, #T_7a784_row12_col23, #T_7a784_row12_col24, #T_7a784_row12_col25, #T_7a784_row12_col26, #T_7a784_row12_col27, #T_7a784_row13_col0, #T_7a784_row13_col1, #T_7a784_row13_col2, #T_7a784_row13_col3, #T_7a784_row13_col4, #T_7a784_row13_col5, #T_7a784_row13_col6, #T_7a784_row13_col7, #T_7a784_row13_col8, #T_7a784_row13_col9, #T_7a784_row13_col10, #T_7a784_row13_col11, #T_7a784_row13_col16, #T_7a784_row13_col17, #T_7a784_row13_col18, #T_7a784_row13_col19, #T_7a784_row13_col20, #T_7a784_row13_col21, #T_7a784_row13_col22, #T_7a784_row13_col23, #T_7a784_row13_col24, #T_7a784_row13_col25, #T_7a784_row13_col26, #T_7a784_row13_col27, #T_7a784_row14_col0, #T_7a784_row14_col1, #T_7a784_row14_col2, #T_7a784_row14_col3, #T_7a784_row14_col4, #T_7a784_row14_col5, #T_7a784_row14_col6, #T_7a784_row14_col7, #T_7a784_row14_col8, #T_7a784_row14_col9, #T_7a784_row14_col10, #T_7a784_row14_col11, #T_7a784_row14_col16, #T_7a784_row14_col17, #T_7a784_row14_col18, #T_7a784_row14_col19, #T_7a784_row14_col20, #T_7a784_row14_col21, #T_7a784_row14_col22, #T_7a784_row14_col23, #T_7a784_row14_col24, #T_7a784_row14_col25, #T_7a784_row14_col26, #T_7a784_row14_col27, #T_7a784_row15_col0, #T_7a784_row15_col1, #T_7a784_row15_col2, #T_7a784_row15_col3, #T_7a784_row15_col4, #T_7a784_row15_col5, #T_7a784_row15_col6, #T_7a784_row15_col7, #T_7a784_row15_col8, #T_7a784_row15_col9, #T_7a784_row15_col10, #T_7a784_row15_col11, #T_7a784_row15_col16, #T_7a784_row15_col17, #T_7a784_row15_col18, #T_7a784_row15_col19, #T_7a784_row15_col20, #T_7a784_row15_col21, #T_7a784_row15_col22, #T_7a784_row15_col23, #T_7a784_row15_col24, #T_7a784_row15_col25, #T_7a784_row15_col26, #T_7a784_row15_col27, #T_7a784_row16_col0, #T_7a784_row16_col1, #T_7a784_row16_col2, #T_7a784_row16_col3, #T_7a784_row16_col4, #T_7a784_row16_col5, #T_7a784_row16_col6, #T_7a784_row16_col7, #T_7a784_row16_col8, #T_7a784_row16_col9, #T_7a784_row16_col10, #T_7a784_row16_col11, #T_7a784_row16_col15, #T_7a784_row16_col16, #T_7a784_row16_col17, #T_7a784_row16_col18, #T_7a784_row16_col19, #T_7a784_row16_col20, #T_7a784_row16_col21, #T_7a784_row16_col22, #T_7a784_row16_col23, #T_7a784_row16_col24, #T_7a784_row16_col25, #T_7a784_row16_col26, #T_7a784_row16_col27, #T_7a784_row17_col0, #T_7a784_row17_col1, #T_7a784_row17_col2, #T_7a784_row17_col3, #T_7a784_row17_col4, #T_7a784_row17_col5, #T_7a784_row17_col6, #T_7a784_row17_col7, #T_7a784_row17_col8, #T_7a784_row17_col9, #T_7a784_row17_col10, #T_7a784_row17_col11, #T_7a784_row17_col15, #T_7a784_row17_col16, #T_7a784_row17_col17, #T_7a784_row17_col18, #T_7a784_row17_col19, #T_7a784_row17_col20, #T_7a784_row17_col21, #T_7a784_row17_col22, #T_7a784_row17_col23, #T_7a784_row17_col24, #T_7a784_row17_col25, #T_7a784_row17_col26, #T_7a784_row17_col27, #T_7a784_row18_col0, #T_7a784_row18_col1, #T_7a784_row18_col2, #T_7a784_row18_col3, #T_7a784_row18_col4, #T_7a784_row18_col5, #T_7a784_row18_col6, #T_7a784_row18_col7, #T_7a784_row18_col8, #T_7a784_row18_col9, #T_7a784_row18_col10, #T_7a784_row18_col15, #T_7a784_row18_col16, #T_7a784_row18_col17, #T_7a784_row18_col18, #T_7a784_row18_col19, #T_7a784_row18_col20, #T_7a784_row18_col21, #T_7a784_row18_col22, #T_7a784_row18_col23, #T_7a784_row18_col24, #T_7a784_row18_col25, #T_7a784_row18_col26, #T_7a784_row18_col27, #T_7a784_row19_col0, #T_7a784_row19_col1, #T_7a784_row19_col2, #T_7a784_row19_col3, #T_7a784_row19_col4, #T_7a784_row19_col5, #T_7a784_row19_col6, #T_7a784_row19_col7, #T_7a784_row19_col8, #T_7a784_row19_col9, #T_7a784_row19_col10, #T_7a784_row19_col15, #T_7a784_row19_col16, #T_7a784_row19_col17, #T_7a784_row19_col18, #T_7a784_row19_col19, #T_7a784_row19_col20, #T_7a784_row19_col21, #T_7a784_row19_col22, #T_7a784_row19_col23, #T_7a784_row19_col24, #T_7a784_row19_col25, #T_7a784_row19_col26, #T_7a784_row19_col27, #T_7a784_row20_col0, #T_7a784_row20_col1, #T_7a784_row20_col2, #T_7a784_row20_col3, #T_7a784_row20_col4, #T_7a784_row20_col5, #T_7a784_row20_col6, #T_7a784_row20_col7, #T_7a784_row20_col8, #T_7a784_row20_col9, #T_7a784_row20_col10, #T_7a784_row20_col15, #T_7a784_row20_col16, #T_7a784_row20_col17, #T_7a784_row20_col18, #T_7a784_row20_col19, #T_7a784_row20_col20, #T_7a784_row20_col21, #T_7a784_row20_col22, #T_7a784_row20_col23, #T_7a784_row20_col24, #T_7a784_row20_col25, #T_7a784_row20_col26, #T_7a784_row20_col27, #T_7a784_row21_col0, #T_7a784_row21_col1, #T_7a784_row21_col2, #T_7a784_row21_col3, #T_7a784_row21_col4, #T_7a784_row21_col5, #T_7a784_row21_col6, #T_7a784_row21_col7, #T_7a784_row21_col8, #T_7a784_row21_col9, #T_7a784_row21_col10, #T_7a784_row21_col15, #T_7a784_row21_col16, #T_7a784_row21_col17, #T_7a784_row21_col18, #T_7a784_row21_col19, #T_7a784_row21_col20, #T_7a784_row21_col21, #T_7a784_row21_col22, #T_7a784_row21_col23, #T_7a784_row21_col24, #T_7a784_row21_col25, #T_7a784_row21_col26, #T_7a784_row21_col27, #T_7a784_row22_col0, #T_7a784_row22_col1, #T_7a784_row22_col2, #T_7a784_row22_col3, #T_7a784_row22_col4, #T_7a784_row22_col5, #T_7a784_row22_col6, #T_7a784_row22_col7, #T_7a784_row22_col8, #T_7a784_row22_col9, #T_7a784_row22_col10, #T_7a784_row22_col15, #T_7a784_row22_col16, #T_7a784_row22_col17, #T_7a784_row22_col18, #T_7a784_row22_col19, #T_7a784_row22_col20, #T_7a784_row22_col21, #T_7a784_row22_col22, #T_7a784_row22_col23, #T_7a784_row22_col24, #T_7a784_row22_col25, #T_7a784_row22_col26, #T_7a784_row22_col27, #T_7a784_row23_col0, #T_7a784_row23_col1, #T_7a784_row23_col2, #T_7a784_row23_col3, #T_7a784_row23_col4, #T_7a784_row23_col5, #T_7a784_row23_col6, #T_7a784_row23_col7, #T_7a784_row23_col8, #T_7a784_row23_col9, #T_7a784_row23_col10, #T_7a784_row23_col15, #T_7a784_row23_col16, #T_7a784_row23_col17, #T_7a784_row23_col18, #T_7a784_row23_col19, #T_7a784_row23_col20, #T_7a784_row23_col21, #T_7a784_row23_col22, #T_7a784_row23_col23, #T_7a784_row23_col24, #T_7a784_row23_col25, #T_7a784_row23_col26, #T_7a784_row23_col27, #T_7a784_row24_col0, #T_7a784_row24_col1, #T_7a784_row24_col2, #T_7a784_row24_col3, #T_7a784_row24_col4, #T_7a784_row24_col5, #T_7a784_row24_col6, #T_7a784_row24_col7, #T_7a784_row24_col8, #T_7a784_row24_col9, #T_7a784_row24_col10, #T_7a784_row24_col11, #T_7a784_row24_col12, #T_7a784_row24_col13, #T_7a784_row24_col14, #T_7a784_row24_col15, #T_7a784_row24_col16, #T_7a784_row24_col17, #T_7a784_row24_col18, #T_7a784_row24_col19, #T_7a784_row24_col20, #T_7a784_row24_col21, #T_7a784_row24_col22, #T_7a784_row24_col23, #T_7a784_row24_col24, #T_7a784_row24_col25, #T_7a784_row24_col26, #T_7a784_row24_col27, #T_7a784_row25_col0, #T_7a784_row25_col1, #T_7a784_row25_col2, #T_7a784_row25_col3, #T_7a784_row25_col4, #T_7a784_row25_col5, #T_7a784_row25_col6, #T_7a784_row25_col7, #T_7a784_row25_col8, #T_7a784_row25_col9, #T_7a784_row25_col10, #T_7a784_row25_col11, #T_7a784_row25_col12, #T_7a784_row25_col13, #T_7a784_row25_col14, #T_7a784_row25_col15, #T_7a784_row25_col16, #T_7a784_row25_col17, #T_7a784_row25_col18, #T_7a784_row25_col19, #T_7a784_row25_col20, #T_7a784_row25_col21, #T_7a784_row25_col22, #T_7a784_row25_col23, #T_7a784_row25_col24, #T_7a784_row25_col25, #T_7a784_row25_col26, #T_7a784_row25_col27, #T_7a784_row26_col0, #T_7a784_row26_col1, #T_7a784_row26_col2, #T_7a784_row26_col3, #T_7a784_row26_col4, #T_7a784_row26_col5, #T_7a784_row26_col6, #T_7a784_row26_col7, #T_7a784_row26_col8, #T_7a784_row26_col9, #T_7a784_row26_col10, #T_7a784_row26_col11, #T_7a784_row26_col12, #T_7a784_row26_col13, #T_7a784_row26_col14, #T_7a784_row26_col15, #T_7a784_row26_col16, #T_7a784_row26_col17, #T_7a784_row26_col18, #T_7a784_row26_col19, #T_7a784_row26_col20, #T_7a784_row26_col21, #T_7a784_row26_col22, #T_7a784_row26_col23, #T_7a784_row26_col24, #T_7a784_row26_col25, #T_7a784_row26_col26, #T_7a784_row26_col27, #T_7a784_row27_col0, #T_7a784_row27_col1, #T_7a784_row27_col2, #T_7a784_row27_col3, #T_7a784_row27_col4, #T_7a784_row27_col5, #T_7a784_row27_col6, #T_7a784_row27_col7, #T_7a784_row27_col8, #T_7a784_row27_col9, #T_7a784_row27_col10, #T_7a784_row27_col11, #T_7a784_row27_col12, #T_7a784_row27_col13, #T_7a784_row27_col14, #T_7a784_row27_col15, #T_7a784_row27_col16, #T_7a784_row27_col17, #T_7a784_row27_col18, #T_7a784_row27_col19, #T_7a784_row27_col20, #T_7a784_row27_col21, #T_7a784_row27_col22, #T_7a784_row27_col23, #T_7a784_row27_col24, #T_7a784_row27_col25, #T_7a784_row27_col26, #T_7a784_row27_col27 {\n",
              "  font-size: 6pt;\n",
              "  background-color: #ffffff;\n",
              "  color: #000000;\n",
              "}\n",
              "#T_7a784_row4_col14, #T_7a784_row5_col14 {\n",
              "  font-size: 6pt;\n",
              "  background-color: #dcdcdc;\n",
              "  color: #000000;\n",
              "}\n",
              "#T_7a784_row4_col15, #T_7a784_row4_col16, #T_7a784_row5_col16, #T_7a784_row6_col16, #T_7a784_row7_col16, #T_7a784_row8_col14, #T_7a784_row8_col16, #T_7a784_row9_col14, #T_7a784_row10_col14, #T_7a784_row11_col14, #T_7a784_row12_col14, #T_7a784_row13_col13, #T_7a784_row14_col13, #T_7a784_row15_col13, #T_7a784_row16_col13, #T_7a784_row17_col13, #T_7a784_row18_col13, #T_7a784_row19_col11, #T_7a784_row19_col12, #T_7a784_row19_col13, #T_7a784_row20_col11, #T_7a784_row20_col12, #T_7a784_row21_col11, #T_7a784_row21_col12, #T_7a784_row22_col11, #T_7a784_row22_col12, #T_7a784_row22_col13, #T_7a784_row23_col11, #T_7a784_row23_col12, #T_7a784_row23_col13 {\n",
              "  font-size: 6pt;\n",
              "  background-color: #000000;\n",
              "  color: #f1f1f1;\n",
              "}\n",
              "#T_7a784_row5_col15, #T_7a784_row6_col15, #T_7a784_row7_col15, #T_7a784_row8_col15 {\n",
              "  font-size: 6pt;\n",
              "  background-color: #020202;\n",
              "  color: #f1f1f1;\n",
              "}\n",
              "#T_7a784_row6_col14 {\n",
              "  font-size: 6pt;\n",
              "  background-color: #585858;\n",
              "  color: #f1f1f1;\n",
              "}\n",
              "#T_7a784_row7_col13, #T_7a784_row20_col14 {\n",
              "  font-size: 6pt;\n",
              "  background-color: #f2f2f2;\n",
              "  color: #000000;\n",
              "}\n",
              "#T_7a784_row7_col14 {\n",
              "  font-size: 6pt;\n",
              "  background-color: #2c2c2c;\n",
              "  color: #f1f1f1;\n",
              "}\n",
              "#T_7a784_row8_col13 {\n",
              "  font-size: 6pt;\n",
              "  background-color: #a3a3a3;\n",
              "  color: #f1f1f1;\n",
              "}\n",
              "#T_7a784_row9_col13, #T_7a784_row10_col13, #T_7a784_row11_col13 {\n",
              "  font-size: 6pt;\n",
              "  background-color: #484848;\n",
              "  color: #f1f1f1;\n",
              "}\n",
              "#T_7a784_row9_col15 {\n",
              "  font-size: 6pt;\n",
              "  background-color: #3c3c3c;\n",
              "  color: #f1f1f1;\n",
              "}\n",
              "#T_7a784_row9_col16 {\n",
              "  font-size: 6pt;\n",
              "  background-color: #f0f0f0;\n",
              "  color: #000000;\n",
              "}\n",
              "#T_7a784_row10_col15, #T_7a784_row11_col15 {\n",
              "  font-size: 6pt;\n",
              "  background-color: #444444;\n",
              "  color: #f1f1f1;\n",
              "}\n",
              "#T_7a784_row12_col12 {\n",
              "  font-size: 6pt;\n",
              "  background-color: #f5f5f5;\n",
              "  color: #000000;\n",
              "}\n",
              "#T_7a784_row12_col13 {\n",
              "  font-size: 6pt;\n",
              "  background-color: #323232;\n",
              "  color: #f1f1f1;\n",
              "}\n",
              "#T_7a784_row12_col15 {\n",
              "  font-size: 6pt;\n",
              "  background-color: #bbbbbb;\n",
              "  color: #000000;\n",
              "}\n",
              "#T_7a784_row13_col12, #T_7a784_row14_col12, #T_7a784_row15_col12, #T_7a784_row16_col12 {\n",
              "  font-size: 6pt;\n",
              "  background-color: #d2d2d2;\n",
              "  color: #000000;\n",
              "}\n",
              "#T_7a784_row13_col14, #T_7a784_row14_col14 {\n",
              "  font-size: 6pt;\n",
              "  background-color: #111111;\n",
              "  color: #f1f1f1;\n",
              "}\n",
              "#T_7a784_row13_col15, #T_7a784_row14_col15 {\n",
              "  font-size: 6pt;\n",
              "  background-color: #e1e1e1;\n",
              "  color: #000000;\n",
              "}\n",
              "#T_7a784_row15_col14 {\n",
              "  font-size: 6pt;\n",
              "  background-color: #0e0e0e;\n",
              "  color: #f1f1f1;\n",
              "}\n",
              "#T_7a784_row15_col15 {\n",
              "  font-size: 6pt;\n",
              "  background-color: #dedede;\n",
              "  color: #000000;\n",
              "}\n",
              "#T_7a784_row16_col14, #T_7a784_row17_col14 {\n",
              "  font-size: 6pt;\n",
              "  background-color: #4b4b4b;\n",
              "  color: #f1f1f1;\n",
              "}\n",
              "#T_7a784_row17_col12 {\n",
              "  font-size: 6pt;\n",
              "  background-color: #727272;\n",
              "  color: #f1f1f1;\n",
              "}\n",
              "#T_7a784_row18_col11 {\n",
              "  font-size: 6pt;\n",
              "  background-color: #6d6d6d;\n",
              "  color: #f1f1f1;\n",
              "}\n",
              "#T_7a784_row18_col12 {\n",
              "  font-size: 6pt;\n",
              "  background-color: #151515;\n",
              "  color: #f1f1f1;\n",
              "}\n",
              "#T_7a784_row18_col14 {\n",
              "  font-size: 6pt;\n",
              "  background-color: #5f5f5f;\n",
              "  color: #f1f1f1;\n",
              "}\n",
              "#T_7a784_row19_col14 {\n",
              "  font-size: 6pt;\n",
              "  background-color: #d8d8d8;\n",
              "  color: #000000;\n",
              "}\n",
              "#T_7a784_row20_col13 {\n",
              "  font-size: 6pt;\n",
              "  background-color: #2f2f2f;\n",
              "  color: #f1f1f1;\n",
              "}\n",
              "#T_7a784_row21_col13 {\n",
              "  font-size: 6pt;\n",
              "  background-color: #505050;\n",
              "  color: #f1f1f1;\n",
              "}\n",
              "#T_7a784_row21_col14 {\n",
              "  font-size: 6pt;\n",
              "  background-color: #fdfdfd;\n",
              "  color: #000000;\n",
              "}\n",
              "#T_7a784_row22_col14 {\n",
              "  font-size: 6pt;\n",
              "  background-color: #8e8e8e;\n",
              "  color: #f1f1f1;\n",
              "}\n",
              "#T_7a784_row23_col14 {\n",
              "  font-size: 6pt;\n",
              "  background-color: #949494;\n",
              "  color: #f1f1f1;\n",
              "}\n",
              "</style>\n",
              "<table id=\"T_7a784_\" class=\"dataframe\">\n",
              "  <thead>\n",
              "    <tr>\n",
              "      <th class=\"blank level0\" >&nbsp;</th>\n",
              "      <th class=\"col_heading level0 col0\" >0</th>\n",
              "      <th class=\"col_heading level0 col1\" >1</th>\n",
              "      <th class=\"col_heading level0 col2\" >2</th>\n",
              "      <th class=\"col_heading level0 col3\" >3</th>\n",
              "      <th class=\"col_heading level0 col4\" >4</th>\n",
              "      <th class=\"col_heading level0 col5\" >5</th>\n",
              "      <th class=\"col_heading level0 col6\" >6</th>\n",
              "      <th class=\"col_heading level0 col7\" >7</th>\n",
              "      <th class=\"col_heading level0 col8\" >8</th>\n",
              "      <th class=\"col_heading level0 col9\" >9</th>\n",
              "      <th class=\"col_heading level0 col10\" >10</th>\n",
              "      <th class=\"col_heading level0 col11\" >11</th>\n",
              "      <th class=\"col_heading level0 col12\" >12</th>\n",
              "      <th class=\"col_heading level0 col13\" >13</th>\n",
              "      <th class=\"col_heading level0 col14\" >14</th>\n",
              "      <th class=\"col_heading level0 col15\" >15</th>\n",
              "      <th class=\"col_heading level0 col16\" >16</th>\n",
              "      <th class=\"col_heading level0 col17\" >17</th>\n",
              "      <th class=\"col_heading level0 col18\" >18</th>\n",
              "      <th class=\"col_heading level0 col19\" >19</th>\n",
              "      <th class=\"col_heading level0 col20\" >20</th>\n",
              "      <th class=\"col_heading level0 col21\" >21</th>\n",
              "      <th class=\"col_heading level0 col22\" >22</th>\n",
              "      <th class=\"col_heading level0 col23\" >23</th>\n",
              "      <th class=\"col_heading level0 col24\" >24</th>\n",
              "      <th class=\"col_heading level0 col25\" >25</th>\n",
              "      <th class=\"col_heading level0 col26\" >26</th>\n",
              "      <th class=\"col_heading level0 col27\" >27</th>\n",
              "    </tr>\n",
              "  </thead>\n",
              "  <tbody>\n",
              "    <tr>\n",
              "      <th id=\"T_7a784_level0_row0\" class=\"row_heading level0 row0\" >0</th>\n",
              "      <td id=\"T_7a784_row0_col0\" class=\"data row0 col0\" >0</td>\n",
              "      <td id=\"T_7a784_row0_col1\" class=\"data row0 col1\" >0</td>\n",
              "      <td id=\"T_7a784_row0_col2\" class=\"data row0 col2\" >0</td>\n",
              "      <td id=\"T_7a784_row0_col3\" class=\"data row0 col3\" >0</td>\n",
              "      <td id=\"T_7a784_row0_col4\" class=\"data row0 col4\" >0</td>\n",
              "      <td id=\"T_7a784_row0_col5\" class=\"data row0 col5\" >0</td>\n",
              "      <td id=\"T_7a784_row0_col6\" class=\"data row0 col6\" >0</td>\n",
              "      <td id=\"T_7a784_row0_col7\" class=\"data row0 col7\" >0</td>\n",
              "      <td id=\"T_7a784_row0_col8\" class=\"data row0 col8\" >0</td>\n",
              "      <td id=\"T_7a784_row0_col9\" class=\"data row0 col9\" >0</td>\n",
              "      <td id=\"T_7a784_row0_col10\" class=\"data row0 col10\" >0</td>\n",
              "      <td id=\"T_7a784_row0_col11\" class=\"data row0 col11\" >0</td>\n",
              "      <td id=\"T_7a784_row0_col12\" class=\"data row0 col12\" >0</td>\n",
              "      <td id=\"T_7a784_row0_col13\" class=\"data row0 col13\" >0</td>\n",
              "      <td id=\"T_7a784_row0_col14\" class=\"data row0 col14\" >0</td>\n",
              "      <td id=\"T_7a784_row0_col15\" class=\"data row0 col15\" >0</td>\n",
              "      <td id=\"T_7a784_row0_col16\" class=\"data row0 col16\" >0</td>\n",
              "      <td id=\"T_7a784_row0_col17\" class=\"data row0 col17\" >0</td>\n",
              "      <td id=\"T_7a784_row0_col18\" class=\"data row0 col18\" >0</td>\n",
              "      <td id=\"T_7a784_row0_col19\" class=\"data row0 col19\" >0</td>\n",
              "      <td id=\"T_7a784_row0_col20\" class=\"data row0 col20\" >0</td>\n",
              "      <td id=\"T_7a784_row0_col21\" class=\"data row0 col21\" >0</td>\n",
              "      <td id=\"T_7a784_row0_col22\" class=\"data row0 col22\" >0</td>\n",
              "      <td id=\"T_7a784_row0_col23\" class=\"data row0 col23\" >0</td>\n",
              "      <td id=\"T_7a784_row0_col24\" class=\"data row0 col24\" >0</td>\n",
              "      <td id=\"T_7a784_row0_col25\" class=\"data row0 col25\" >0</td>\n",
              "      <td id=\"T_7a784_row0_col26\" class=\"data row0 col26\" >0</td>\n",
              "      <td id=\"T_7a784_row0_col27\" class=\"data row0 col27\" >0</td>\n",
              "    </tr>\n",
              "    <tr>\n",
              "      <th id=\"T_7a784_level0_row1\" class=\"row_heading level0 row1\" >1</th>\n",
              "      <td id=\"T_7a784_row1_col0\" class=\"data row1 col0\" >0</td>\n",
              "      <td id=\"T_7a784_row1_col1\" class=\"data row1 col1\" >0</td>\n",
              "      <td id=\"T_7a784_row1_col2\" class=\"data row1 col2\" >0</td>\n",
              "      <td id=\"T_7a784_row1_col3\" class=\"data row1 col3\" >0</td>\n",
              "      <td id=\"T_7a784_row1_col4\" class=\"data row1 col4\" >0</td>\n",
              "      <td id=\"T_7a784_row1_col5\" class=\"data row1 col5\" >0</td>\n",
              "      <td id=\"T_7a784_row1_col6\" class=\"data row1 col6\" >0</td>\n",
              "      <td id=\"T_7a784_row1_col7\" class=\"data row1 col7\" >0</td>\n",
              "      <td id=\"T_7a784_row1_col8\" class=\"data row1 col8\" >0</td>\n",
              "      <td id=\"T_7a784_row1_col9\" class=\"data row1 col9\" >0</td>\n",
              "      <td id=\"T_7a784_row1_col10\" class=\"data row1 col10\" >0</td>\n",
              "      <td id=\"T_7a784_row1_col11\" class=\"data row1 col11\" >0</td>\n",
              "      <td id=\"T_7a784_row1_col12\" class=\"data row1 col12\" >0</td>\n",
              "      <td id=\"T_7a784_row1_col13\" class=\"data row1 col13\" >0</td>\n",
              "      <td id=\"T_7a784_row1_col14\" class=\"data row1 col14\" >0</td>\n",
              "      <td id=\"T_7a784_row1_col15\" class=\"data row1 col15\" >0</td>\n",
              "      <td id=\"T_7a784_row1_col16\" class=\"data row1 col16\" >0</td>\n",
              "      <td id=\"T_7a784_row1_col17\" class=\"data row1 col17\" >0</td>\n",
              "      <td id=\"T_7a784_row1_col18\" class=\"data row1 col18\" >0</td>\n",
              "      <td id=\"T_7a784_row1_col19\" class=\"data row1 col19\" >0</td>\n",
              "      <td id=\"T_7a784_row1_col20\" class=\"data row1 col20\" >0</td>\n",
              "      <td id=\"T_7a784_row1_col21\" class=\"data row1 col21\" >0</td>\n",
              "      <td id=\"T_7a784_row1_col22\" class=\"data row1 col22\" >0</td>\n",
              "      <td id=\"T_7a784_row1_col23\" class=\"data row1 col23\" >0</td>\n",
              "      <td id=\"T_7a784_row1_col24\" class=\"data row1 col24\" >0</td>\n",
              "      <td id=\"T_7a784_row1_col25\" class=\"data row1 col25\" >0</td>\n",
              "      <td id=\"T_7a784_row1_col26\" class=\"data row1 col26\" >0</td>\n",
              "      <td id=\"T_7a784_row1_col27\" class=\"data row1 col27\" >0</td>\n",
              "    </tr>\n",
              "    <tr>\n",
              "      <th id=\"T_7a784_level0_row2\" class=\"row_heading level0 row2\" >2</th>\n",
              "      <td id=\"T_7a784_row2_col0\" class=\"data row2 col0\" >0</td>\n",
              "      <td id=\"T_7a784_row2_col1\" class=\"data row2 col1\" >0</td>\n",
              "      <td id=\"T_7a784_row2_col2\" class=\"data row2 col2\" >0</td>\n",
              "      <td id=\"T_7a784_row2_col3\" class=\"data row2 col3\" >0</td>\n",
              "      <td id=\"T_7a784_row2_col4\" class=\"data row2 col4\" >0</td>\n",
              "      <td id=\"T_7a784_row2_col5\" class=\"data row2 col5\" >0</td>\n",
              "      <td id=\"T_7a784_row2_col6\" class=\"data row2 col6\" >0</td>\n",
              "      <td id=\"T_7a784_row2_col7\" class=\"data row2 col7\" >0</td>\n",
              "      <td id=\"T_7a784_row2_col8\" class=\"data row2 col8\" >0</td>\n",
              "      <td id=\"T_7a784_row2_col9\" class=\"data row2 col9\" >0</td>\n",
              "      <td id=\"T_7a784_row2_col10\" class=\"data row2 col10\" >0</td>\n",
              "      <td id=\"T_7a784_row2_col11\" class=\"data row2 col11\" >0</td>\n",
              "      <td id=\"T_7a784_row2_col12\" class=\"data row2 col12\" >0</td>\n",
              "      <td id=\"T_7a784_row2_col13\" class=\"data row2 col13\" >0</td>\n",
              "      <td id=\"T_7a784_row2_col14\" class=\"data row2 col14\" >0</td>\n",
              "      <td id=\"T_7a784_row2_col15\" class=\"data row2 col15\" >0</td>\n",
              "      <td id=\"T_7a784_row2_col16\" class=\"data row2 col16\" >0</td>\n",
              "      <td id=\"T_7a784_row2_col17\" class=\"data row2 col17\" >0</td>\n",
              "      <td id=\"T_7a784_row2_col18\" class=\"data row2 col18\" >0</td>\n",
              "      <td id=\"T_7a784_row2_col19\" class=\"data row2 col19\" >0</td>\n",
              "      <td id=\"T_7a784_row2_col20\" class=\"data row2 col20\" >0</td>\n",
              "      <td id=\"T_7a784_row2_col21\" class=\"data row2 col21\" >0</td>\n",
              "      <td id=\"T_7a784_row2_col22\" class=\"data row2 col22\" >0</td>\n",
              "      <td id=\"T_7a784_row2_col23\" class=\"data row2 col23\" >0</td>\n",
              "      <td id=\"T_7a784_row2_col24\" class=\"data row2 col24\" >0</td>\n",
              "      <td id=\"T_7a784_row2_col25\" class=\"data row2 col25\" >0</td>\n",
              "      <td id=\"T_7a784_row2_col26\" class=\"data row2 col26\" >0</td>\n",
              "      <td id=\"T_7a784_row2_col27\" class=\"data row2 col27\" >0</td>\n",
              "    </tr>\n",
              "    <tr>\n",
              "      <th id=\"T_7a784_level0_row3\" class=\"row_heading level0 row3\" >3</th>\n",
              "      <td id=\"T_7a784_row3_col0\" class=\"data row3 col0\" >0</td>\n",
              "      <td id=\"T_7a784_row3_col1\" class=\"data row3 col1\" >0</td>\n",
              "      <td id=\"T_7a784_row3_col2\" class=\"data row3 col2\" >0</td>\n",
              "      <td id=\"T_7a784_row3_col3\" class=\"data row3 col3\" >0</td>\n",
              "      <td id=\"T_7a784_row3_col4\" class=\"data row3 col4\" >0</td>\n",
              "      <td id=\"T_7a784_row3_col5\" class=\"data row3 col5\" >0</td>\n",
              "      <td id=\"T_7a784_row3_col6\" class=\"data row3 col6\" >0</td>\n",
              "      <td id=\"T_7a784_row3_col7\" class=\"data row3 col7\" >0</td>\n",
              "      <td id=\"T_7a784_row3_col8\" class=\"data row3 col8\" >0</td>\n",
              "      <td id=\"T_7a784_row3_col9\" class=\"data row3 col9\" >0</td>\n",
              "      <td id=\"T_7a784_row3_col10\" class=\"data row3 col10\" >0</td>\n",
              "      <td id=\"T_7a784_row3_col11\" class=\"data row3 col11\" >0</td>\n",
              "      <td id=\"T_7a784_row3_col12\" class=\"data row3 col12\" >0</td>\n",
              "      <td id=\"T_7a784_row3_col13\" class=\"data row3 col13\" >0</td>\n",
              "      <td id=\"T_7a784_row3_col14\" class=\"data row3 col14\" >0</td>\n",
              "      <td id=\"T_7a784_row3_col15\" class=\"data row3 col15\" >0</td>\n",
              "      <td id=\"T_7a784_row3_col16\" class=\"data row3 col16\" >0</td>\n",
              "      <td id=\"T_7a784_row3_col17\" class=\"data row3 col17\" >0</td>\n",
              "      <td id=\"T_7a784_row3_col18\" class=\"data row3 col18\" >0</td>\n",
              "      <td id=\"T_7a784_row3_col19\" class=\"data row3 col19\" >0</td>\n",
              "      <td id=\"T_7a784_row3_col20\" class=\"data row3 col20\" >0</td>\n",
              "      <td id=\"T_7a784_row3_col21\" class=\"data row3 col21\" >0</td>\n",
              "      <td id=\"T_7a784_row3_col22\" class=\"data row3 col22\" >0</td>\n",
              "      <td id=\"T_7a784_row3_col23\" class=\"data row3 col23\" >0</td>\n",
              "      <td id=\"T_7a784_row3_col24\" class=\"data row3 col24\" >0</td>\n",
              "      <td id=\"T_7a784_row3_col25\" class=\"data row3 col25\" >0</td>\n",
              "      <td id=\"T_7a784_row3_col26\" class=\"data row3 col26\" >0</td>\n",
              "      <td id=\"T_7a784_row3_col27\" class=\"data row3 col27\" >0</td>\n",
              "    </tr>\n",
              "    <tr>\n",
              "      <th id=\"T_7a784_level0_row4\" class=\"row_heading level0 row4\" >4</th>\n",
              "      <td id=\"T_7a784_row4_col0\" class=\"data row4 col0\" >0</td>\n",
              "      <td id=\"T_7a784_row4_col1\" class=\"data row4 col1\" >0</td>\n",
              "      <td id=\"T_7a784_row4_col2\" class=\"data row4 col2\" >0</td>\n",
              "      <td id=\"T_7a784_row4_col3\" class=\"data row4 col3\" >0</td>\n",
              "      <td id=\"T_7a784_row4_col4\" class=\"data row4 col4\" >0</td>\n",
              "      <td id=\"T_7a784_row4_col5\" class=\"data row4 col5\" >0</td>\n",
              "      <td id=\"T_7a784_row4_col6\" class=\"data row4 col6\" >0</td>\n",
              "      <td id=\"T_7a784_row4_col7\" class=\"data row4 col7\" >0</td>\n",
              "      <td id=\"T_7a784_row4_col8\" class=\"data row4 col8\" >0</td>\n",
              "      <td id=\"T_7a784_row4_col9\" class=\"data row4 col9\" >0</td>\n",
              "      <td id=\"T_7a784_row4_col10\" class=\"data row4 col10\" >0</td>\n",
              "      <td id=\"T_7a784_row4_col11\" class=\"data row4 col11\" >0</td>\n",
              "      <td id=\"T_7a784_row4_col12\" class=\"data row4 col12\" >0</td>\n",
              "      <td id=\"T_7a784_row4_col13\" class=\"data row4 col13\" >0</td>\n",
              "      <td id=\"T_7a784_row4_col14\" class=\"data row4 col14\" >60</td>\n",
              "      <td id=\"T_7a784_row4_col15\" class=\"data row4 col15\" >255</td>\n",
              "      <td id=\"T_7a784_row4_col16\" class=\"data row4 col16\" >78</td>\n",
              "      <td id=\"T_7a784_row4_col17\" class=\"data row4 col17\" >0</td>\n",
              "      <td id=\"T_7a784_row4_col18\" class=\"data row4 col18\" >0</td>\n",
              "      <td id=\"T_7a784_row4_col19\" class=\"data row4 col19\" >0</td>\n",
              "      <td id=\"T_7a784_row4_col20\" class=\"data row4 col20\" >0</td>\n",
              "      <td id=\"T_7a784_row4_col21\" class=\"data row4 col21\" >0</td>\n",
              "      <td id=\"T_7a784_row4_col22\" class=\"data row4 col22\" >0</td>\n",
              "      <td id=\"T_7a784_row4_col23\" class=\"data row4 col23\" >0</td>\n",
              "      <td id=\"T_7a784_row4_col24\" class=\"data row4 col24\" >0</td>\n",
              "      <td id=\"T_7a784_row4_col25\" class=\"data row4 col25\" >0</td>\n",
              "      <td id=\"T_7a784_row4_col26\" class=\"data row4 col26\" >0</td>\n",
              "      <td id=\"T_7a784_row4_col27\" class=\"data row4 col27\" >0</td>\n",
              "    </tr>\n",
              "    <tr>\n",
              "      <th id=\"T_7a784_level0_row5\" class=\"row_heading level0 row5\" >5</th>\n",
              "      <td id=\"T_7a784_row5_col0\" class=\"data row5 col0\" >0</td>\n",
              "      <td id=\"T_7a784_row5_col1\" class=\"data row5 col1\" >0</td>\n",
              "      <td id=\"T_7a784_row5_col2\" class=\"data row5 col2\" >0</td>\n",
              "      <td id=\"T_7a784_row5_col3\" class=\"data row5 col3\" >0</td>\n",
              "      <td id=\"T_7a784_row5_col4\" class=\"data row5 col4\" >0</td>\n",
              "      <td id=\"T_7a784_row5_col5\" class=\"data row5 col5\" >0</td>\n",
              "      <td id=\"T_7a784_row5_col6\" class=\"data row5 col6\" >0</td>\n",
              "      <td id=\"T_7a784_row5_col7\" class=\"data row5 col7\" >0</td>\n",
              "      <td id=\"T_7a784_row5_col8\" class=\"data row5 col8\" >0</td>\n",
              "      <td id=\"T_7a784_row5_col9\" class=\"data row5 col9\" >0</td>\n",
              "      <td id=\"T_7a784_row5_col10\" class=\"data row5 col10\" >0</td>\n",
              "      <td id=\"T_7a784_row5_col11\" class=\"data row5 col11\" >0</td>\n",
              "      <td id=\"T_7a784_row5_col12\" class=\"data row5 col12\" >0</td>\n",
              "      <td id=\"T_7a784_row5_col13\" class=\"data row5 col13\" >0</td>\n",
              "      <td id=\"T_7a784_row5_col14\" class=\"data row5 col14\" >59</td>\n",
              "      <td id=\"T_7a784_row5_col15\" class=\"data row5 col15\" >253</td>\n",
              "      <td id=\"T_7a784_row5_col16\" class=\"data row5 col16\" >78</td>\n",
              "      <td id=\"T_7a784_row5_col17\" class=\"data row5 col17\" >0</td>\n",
              "      <td id=\"T_7a784_row5_col18\" class=\"data row5 col18\" >0</td>\n",
              "      <td id=\"T_7a784_row5_col19\" class=\"data row5 col19\" >0</td>\n",
              "      <td id=\"T_7a784_row5_col20\" class=\"data row5 col20\" >0</td>\n",
              "      <td id=\"T_7a784_row5_col21\" class=\"data row5 col21\" >0</td>\n",
              "      <td id=\"T_7a784_row5_col22\" class=\"data row5 col22\" >0</td>\n",
              "      <td id=\"T_7a784_row5_col23\" class=\"data row5 col23\" >0</td>\n",
              "      <td id=\"T_7a784_row5_col24\" class=\"data row5 col24\" >0</td>\n",
              "      <td id=\"T_7a784_row5_col25\" class=\"data row5 col25\" >0</td>\n",
              "      <td id=\"T_7a784_row5_col26\" class=\"data row5 col26\" >0</td>\n",
              "      <td id=\"T_7a784_row5_col27\" class=\"data row5 col27\" >0</td>\n",
              "    </tr>\n",
              "    <tr>\n",
              "      <th id=\"T_7a784_level0_row6\" class=\"row_heading level0 row6\" >6</th>\n",
              "      <td id=\"T_7a784_row6_col0\" class=\"data row6 col0\" >0</td>\n",
              "      <td id=\"T_7a784_row6_col1\" class=\"data row6 col1\" >0</td>\n",
              "      <td id=\"T_7a784_row6_col2\" class=\"data row6 col2\" >0</td>\n",
              "      <td id=\"T_7a784_row6_col3\" class=\"data row6 col3\" >0</td>\n",
              "      <td id=\"T_7a784_row6_col4\" class=\"data row6 col4\" >0</td>\n",
              "      <td id=\"T_7a784_row6_col5\" class=\"data row6 col5\" >0</td>\n",
              "      <td id=\"T_7a784_row6_col6\" class=\"data row6 col6\" >0</td>\n",
              "      <td id=\"T_7a784_row6_col7\" class=\"data row6 col7\" >0</td>\n",
              "      <td id=\"T_7a784_row6_col8\" class=\"data row6 col8\" >0</td>\n",
              "      <td id=\"T_7a784_row6_col9\" class=\"data row6 col9\" >0</td>\n",
              "      <td id=\"T_7a784_row6_col10\" class=\"data row6 col10\" >0</td>\n",
              "      <td id=\"T_7a784_row6_col11\" class=\"data row6 col11\" >0</td>\n",
              "      <td id=\"T_7a784_row6_col12\" class=\"data row6 col12\" >0</td>\n",
              "      <td id=\"T_7a784_row6_col13\" class=\"data row6 col13\" >0</td>\n",
              "      <td id=\"T_7a784_row6_col14\" class=\"data row6 col14\" >183</td>\n",
              "      <td id=\"T_7a784_row6_col15\" class=\"data row6 col15\" >253</td>\n",
              "      <td id=\"T_7a784_row6_col16\" class=\"data row6 col16\" >78</td>\n",
              "      <td id=\"T_7a784_row6_col17\" class=\"data row6 col17\" >0</td>\n",
              "      <td id=\"T_7a784_row6_col18\" class=\"data row6 col18\" >0</td>\n",
              "      <td id=\"T_7a784_row6_col19\" class=\"data row6 col19\" >0</td>\n",
              "      <td id=\"T_7a784_row6_col20\" class=\"data row6 col20\" >0</td>\n",
              "      <td id=\"T_7a784_row6_col21\" class=\"data row6 col21\" >0</td>\n",
              "      <td id=\"T_7a784_row6_col22\" class=\"data row6 col22\" >0</td>\n",
              "      <td id=\"T_7a784_row6_col23\" class=\"data row6 col23\" >0</td>\n",
              "      <td id=\"T_7a784_row6_col24\" class=\"data row6 col24\" >0</td>\n",
              "      <td id=\"T_7a784_row6_col25\" class=\"data row6 col25\" >0</td>\n",
              "      <td id=\"T_7a784_row6_col26\" class=\"data row6 col26\" >0</td>\n",
              "      <td id=\"T_7a784_row6_col27\" class=\"data row6 col27\" >0</td>\n",
              "    </tr>\n",
              "    <tr>\n",
              "      <th id=\"T_7a784_level0_row7\" class=\"row_heading level0 row7\" >7</th>\n",
              "      <td id=\"T_7a784_row7_col0\" class=\"data row7 col0\" >0</td>\n",
              "      <td id=\"T_7a784_row7_col1\" class=\"data row7 col1\" >0</td>\n",
              "      <td id=\"T_7a784_row7_col2\" class=\"data row7 col2\" >0</td>\n",
              "      <td id=\"T_7a784_row7_col3\" class=\"data row7 col3\" >0</td>\n",
              "      <td id=\"T_7a784_row7_col4\" class=\"data row7 col4\" >0</td>\n",
              "      <td id=\"T_7a784_row7_col5\" class=\"data row7 col5\" >0</td>\n",
              "      <td id=\"T_7a784_row7_col6\" class=\"data row7 col6\" >0</td>\n",
              "      <td id=\"T_7a784_row7_col7\" class=\"data row7 col7\" >0</td>\n",
              "      <td id=\"T_7a784_row7_col8\" class=\"data row7 col8\" >0</td>\n",
              "      <td id=\"T_7a784_row7_col9\" class=\"data row7 col9\" >0</td>\n",
              "      <td id=\"T_7a784_row7_col10\" class=\"data row7 col10\" >0</td>\n",
              "      <td id=\"T_7a784_row7_col11\" class=\"data row7 col11\" >0</td>\n",
              "      <td id=\"T_7a784_row7_col12\" class=\"data row7 col12\" >0</td>\n",
              "      <td id=\"T_7a784_row7_col13\" class=\"data row7 col13\" >27</td>\n",
              "      <td id=\"T_7a784_row7_col14\" class=\"data row7 col14\" >216</td>\n",
              "      <td id=\"T_7a784_row7_col15\" class=\"data row7 col15\" >253</td>\n",
              "      <td id=\"T_7a784_row7_col16\" class=\"data row7 col16\" >78</td>\n",
              "      <td id=\"T_7a784_row7_col17\" class=\"data row7 col17\" >0</td>\n",
              "      <td id=\"T_7a784_row7_col18\" class=\"data row7 col18\" >0</td>\n",
              "      <td id=\"T_7a784_row7_col19\" class=\"data row7 col19\" >0</td>\n",
              "      <td id=\"T_7a784_row7_col20\" class=\"data row7 col20\" >0</td>\n",
              "      <td id=\"T_7a784_row7_col21\" class=\"data row7 col21\" >0</td>\n",
              "      <td id=\"T_7a784_row7_col22\" class=\"data row7 col22\" >0</td>\n",
              "      <td id=\"T_7a784_row7_col23\" class=\"data row7 col23\" >0</td>\n",
              "      <td id=\"T_7a784_row7_col24\" class=\"data row7 col24\" >0</td>\n",
              "      <td id=\"T_7a784_row7_col25\" class=\"data row7 col25\" >0</td>\n",
              "      <td id=\"T_7a784_row7_col26\" class=\"data row7 col26\" >0</td>\n",
              "      <td id=\"T_7a784_row7_col27\" class=\"data row7 col27\" >0</td>\n",
              "    </tr>\n",
              "    <tr>\n",
              "      <th id=\"T_7a784_level0_row8\" class=\"row_heading level0 row8\" >8</th>\n",
              "      <td id=\"T_7a784_row8_col0\" class=\"data row8 col0\" >0</td>\n",
              "      <td id=\"T_7a784_row8_col1\" class=\"data row8 col1\" >0</td>\n",
              "      <td id=\"T_7a784_row8_col2\" class=\"data row8 col2\" >0</td>\n",
              "      <td id=\"T_7a784_row8_col3\" class=\"data row8 col3\" >0</td>\n",
              "      <td id=\"T_7a784_row8_col4\" class=\"data row8 col4\" >0</td>\n",
              "      <td id=\"T_7a784_row8_col5\" class=\"data row8 col5\" >0</td>\n",
              "      <td id=\"T_7a784_row8_col6\" class=\"data row8 col6\" >0</td>\n",
              "      <td id=\"T_7a784_row8_col7\" class=\"data row8 col7\" >0</td>\n",
              "      <td id=\"T_7a784_row8_col8\" class=\"data row8 col8\" >0</td>\n",
              "      <td id=\"T_7a784_row8_col9\" class=\"data row8 col9\" >0</td>\n",
              "      <td id=\"T_7a784_row8_col10\" class=\"data row8 col10\" >0</td>\n",
              "      <td id=\"T_7a784_row8_col11\" class=\"data row8 col11\" >0</td>\n",
              "      <td id=\"T_7a784_row8_col12\" class=\"data row8 col12\" >0</td>\n",
              "      <td id=\"T_7a784_row8_col13\" class=\"data row8 col13\" >116</td>\n",
              "      <td id=\"T_7a784_row8_col14\" class=\"data row8 col14\" >253</td>\n",
              "      <td id=\"T_7a784_row8_col15\" class=\"data row8 col15\" >253</td>\n",
              "      <td id=\"T_7a784_row8_col16\" class=\"data row8 col16\" >78</td>\n",
              "      <td id=\"T_7a784_row8_col17\" class=\"data row8 col17\" >0</td>\n",
              "      <td id=\"T_7a784_row8_col18\" class=\"data row8 col18\" >0</td>\n",
              "      <td id=\"T_7a784_row8_col19\" class=\"data row8 col19\" >0</td>\n",
              "      <td id=\"T_7a784_row8_col20\" class=\"data row8 col20\" >0</td>\n",
              "      <td id=\"T_7a784_row8_col21\" class=\"data row8 col21\" >0</td>\n",
              "      <td id=\"T_7a784_row8_col22\" class=\"data row8 col22\" >0</td>\n",
              "      <td id=\"T_7a784_row8_col23\" class=\"data row8 col23\" >0</td>\n",
              "      <td id=\"T_7a784_row8_col24\" class=\"data row8 col24\" >0</td>\n",
              "      <td id=\"T_7a784_row8_col25\" class=\"data row8 col25\" >0</td>\n",
              "      <td id=\"T_7a784_row8_col26\" class=\"data row8 col26\" >0</td>\n",
              "      <td id=\"T_7a784_row8_col27\" class=\"data row8 col27\" >0</td>\n",
              "    </tr>\n",
              "    <tr>\n",
              "      <th id=\"T_7a784_level0_row9\" class=\"row_heading level0 row9\" >9</th>\n",
              "      <td id=\"T_7a784_row9_col0\" class=\"data row9 col0\" >0</td>\n",
              "      <td id=\"T_7a784_row9_col1\" class=\"data row9 col1\" >0</td>\n",
              "      <td id=\"T_7a784_row9_col2\" class=\"data row9 col2\" >0</td>\n",
              "      <td id=\"T_7a784_row9_col3\" class=\"data row9 col3\" >0</td>\n",
              "      <td id=\"T_7a784_row9_col4\" class=\"data row9 col4\" >0</td>\n",
              "      <td id=\"T_7a784_row9_col5\" class=\"data row9 col5\" >0</td>\n",
              "      <td id=\"T_7a784_row9_col6\" class=\"data row9 col6\" >0</td>\n",
              "      <td id=\"T_7a784_row9_col7\" class=\"data row9 col7\" >0</td>\n",
              "      <td id=\"T_7a784_row9_col8\" class=\"data row9 col8\" >0</td>\n",
              "      <td id=\"T_7a784_row9_col9\" class=\"data row9 col9\" >0</td>\n",
              "      <td id=\"T_7a784_row9_col10\" class=\"data row9 col10\" >0</td>\n",
              "      <td id=\"T_7a784_row9_col11\" class=\"data row9 col11\" >0</td>\n",
              "      <td id=\"T_7a784_row9_col12\" class=\"data row9 col12\" >0</td>\n",
              "      <td id=\"T_7a784_row9_col13\" class=\"data row9 col13\" >196</td>\n",
              "      <td id=\"T_7a784_row9_col14\" class=\"data row9 col14\" >253</td>\n",
              "      <td id=\"T_7a784_row9_col15\" class=\"data row9 col15\" >207</td>\n",
              "      <td id=\"T_7a784_row9_col16\" class=\"data row9 col16\" >10</td>\n",
              "      <td id=\"T_7a784_row9_col17\" class=\"data row9 col17\" >0</td>\n",
              "      <td id=\"T_7a784_row9_col18\" class=\"data row9 col18\" >0</td>\n",
              "      <td id=\"T_7a784_row9_col19\" class=\"data row9 col19\" >0</td>\n",
              "      <td id=\"T_7a784_row9_col20\" class=\"data row9 col20\" >0</td>\n",
              "      <td id=\"T_7a784_row9_col21\" class=\"data row9 col21\" >0</td>\n",
              "      <td id=\"T_7a784_row9_col22\" class=\"data row9 col22\" >0</td>\n",
              "      <td id=\"T_7a784_row9_col23\" class=\"data row9 col23\" >0</td>\n",
              "      <td id=\"T_7a784_row9_col24\" class=\"data row9 col24\" >0</td>\n",
              "      <td id=\"T_7a784_row9_col25\" class=\"data row9 col25\" >0</td>\n",
              "      <td id=\"T_7a784_row9_col26\" class=\"data row9 col26\" >0</td>\n",
              "      <td id=\"T_7a784_row9_col27\" class=\"data row9 col27\" >0</td>\n",
              "    </tr>\n",
              "    <tr>\n",
              "      <th id=\"T_7a784_level0_row10\" class=\"row_heading level0 row10\" >10</th>\n",
              "      <td id=\"T_7a784_row10_col0\" class=\"data row10 col0\" >0</td>\n",
              "      <td id=\"T_7a784_row10_col1\" class=\"data row10 col1\" >0</td>\n",
              "      <td id=\"T_7a784_row10_col2\" class=\"data row10 col2\" >0</td>\n",
              "      <td id=\"T_7a784_row10_col3\" class=\"data row10 col3\" >0</td>\n",
              "      <td id=\"T_7a784_row10_col4\" class=\"data row10 col4\" >0</td>\n",
              "      <td id=\"T_7a784_row10_col5\" class=\"data row10 col5\" >0</td>\n",
              "      <td id=\"T_7a784_row10_col6\" class=\"data row10 col6\" >0</td>\n",
              "      <td id=\"T_7a784_row10_col7\" class=\"data row10 col7\" >0</td>\n",
              "      <td id=\"T_7a784_row10_col8\" class=\"data row10 col8\" >0</td>\n",
              "      <td id=\"T_7a784_row10_col9\" class=\"data row10 col9\" >0</td>\n",
              "      <td id=\"T_7a784_row10_col10\" class=\"data row10 col10\" >0</td>\n",
              "      <td id=\"T_7a784_row10_col11\" class=\"data row10 col11\" >0</td>\n",
              "      <td id=\"T_7a784_row10_col12\" class=\"data row10 col12\" >0</td>\n",
              "      <td id=\"T_7a784_row10_col13\" class=\"data row10 col13\" >196</td>\n",
              "      <td id=\"T_7a784_row10_col14\" class=\"data row10 col14\" >253</td>\n",
              "      <td id=\"T_7a784_row10_col15\" class=\"data row10 col15\" >201</td>\n",
              "      <td id=\"T_7a784_row10_col16\" class=\"data row10 col16\" >0</td>\n",
              "      <td id=\"T_7a784_row10_col17\" class=\"data row10 col17\" >0</td>\n",
              "      <td id=\"T_7a784_row10_col18\" class=\"data row10 col18\" >0</td>\n",
              "      <td id=\"T_7a784_row10_col19\" class=\"data row10 col19\" >0</td>\n",
              "      <td id=\"T_7a784_row10_col20\" class=\"data row10 col20\" >0</td>\n",
              "      <td id=\"T_7a784_row10_col21\" class=\"data row10 col21\" >0</td>\n",
              "      <td id=\"T_7a784_row10_col22\" class=\"data row10 col22\" >0</td>\n",
              "      <td id=\"T_7a784_row10_col23\" class=\"data row10 col23\" >0</td>\n",
              "      <td id=\"T_7a784_row10_col24\" class=\"data row10 col24\" >0</td>\n",
              "      <td id=\"T_7a784_row10_col25\" class=\"data row10 col25\" >0</td>\n",
              "      <td id=\"T_7a784_row10_col26\" class=\"data row10 col26\" >0</td>\n",
              "      <td id=\"T_7a784_row10_col27\" class=\"data row10 col27\" >0</td>\n",
              "    </tr>\n",
              "    <tr>\n",
              "      <th id=\"T_7a784_level0_row11\" class=\"row_heading level0 row11\" >11</th>\n",
              "      <td id=\"T_7a784_row11_col0\" class=\"data row11 col0\" >0</td>\n",
              "      <td id=\"T_7a784_row11_col1\" class=\"data row11 col1\" >0</td>\n",
              "      <td id=\"T_7a784_row11_col2\" class=\"data row11 col2\" >0</td>\n",
              "      <td id=\"T_7a784_row11_col3\" class=\"data row11 col3\" >0</td>\n",
              "      <td id=\"T_7a784_row11_col4\" class=\"data row11 col4\" >0</td>\n",
              "      <td id=\"T_7a784_row11_col5\" class=\"data row11 col5\" >0</td>\n",
              "      <td id=\"T_7a784_row11_col6\" class=\"data row11 col6\" >0</td>\n",
              "      <td id=\"T_7a784_row11_col7\" class=\"data row11 col7\" >0</td>\n",
              "      <td id=\"T_7a784_row11_col8\" class=\"data row11 col8\" >0</td>\n",
              "      <td id=\"T_7a784_row11_col9\" class=\"data row11 col9\" >0</td>\n",
              "      <td id=\"T_7a784_row11_col10\" class=\"data row11 col10\" >0</td>\n",
              "      <td id=\"T_7a784_row11_col11\" class=\"data row11 col11\" >0</td>\n",
              "      <td id=\"T_7a784_row11_col12\" class=\"data row11 col12\" >0</td>\n",
              "      <td id=\"T_7a784_row11_col13\" class=\"data row11 col13\" >196</td>\n",
              "      <td id=\"T_7a784_row11_col14\" class=\"data row11 col14\" >253</td>\n",
              "      <td id=\"T_7a784_row11_col15\" class=\"data row11 col15\" >201</td>\n",
              "      <td id=\"T_7a784_row11_col16\" class=\"data row11 col16\" >0</td>\n",
              "      <td id=\"T_7a784_row11_col17\" class=\"data row11 col17\" >0</td>\n",
              "      <td id=\"T_7a784_row11_col18\" class=\"data row11 col18\" >0</td>\n",
              "      <td id=\"T_7a784_row11_col19\" class=\"data row11 col19\" >0</td>\n",
              "      <td id=\"T_7a784_row11_col20\" class=\"data row11 col20\" >0</td>\n",
              "      <td id=\"T_7a784_row11_col21\" class=\"data row11 col21\" >0</td>\n",
              "      <td id=\"T_7a784_row11_col22\" class=\"data row11 col22\" >0</td>\n",
              "      <td id=\"T_7a784_row11_col23\" class=\"data row11 col23\" >0</td>\n",
              "      <td id=\"T_7a784_row11_col24\" class=\"data row11 col24\" >0</td>\n",
              "      <td id=\"T_7a784_row11_col25\" class=\"data row11 col25\" >0</td>\n",
              "      <td id=\"T_7a784_row11_col26\" class=\"data row11 col26\" >0</td>\n",
              "      <td id=\"T_7a784_row11_col27\" class=\"data row11 col27\" >0</td>\n",
              "    </tr>\n",
              "    <tr>\n",
              "      <th id=\"T_7a784_level0_row12\" class=\"row_heading level0 row12\" >12</th>\n",
              "      <td id=\"T_7a784_row12_col0\" class=\"data row12 col0\" >0</td>\n",
              "      <td id=\"T_7a784_row12_col1\" class=\"data row12 col1\" >0</td>\n",
              "      <td id=\"T_7a784_row12_col2\" class=\"data row12 col2\" >0</td>\n",
              "      <td id=\"T_7a784_row12_col3\" class=\"data row12 col3\" >0</td>\n",
              "      <td id=\"T_7a784_row12_col4\" class=\"data row12 col4\" >0</td>\n",
              "      <td id=\"T_7a784_row12_col5\" class=\"data row12 col5\" >0</td>\n",
              "      <td id=\"T_7a784_row12_col6\" class=\"data row12 col6\" >0</td>\n",
              "      <td id=\"T_7a784_row12_col7\" class=\"data row12 col7\" >0</td>\n",
              "      <td id=\"T_7a784_row12_col8\" class=\"data row12 col8\" >0</td>\n",
              "      <td id=\"T_7a784_row12_col9\" class=\"data row12 col9\" >0</td>\n",
              "      <td id=\"T_7a784_row12_col10\" class=\"data row12 col10\" >0</td>\n",
              "      <td id=\"T_7a784_row12_col11\" class=\"data row12 col11\" >0</td>\n",
              "      <td id=\"T_7a784_row12_col12\" class=\"data row12 col12\" >21</td>\n",
              "      <td id=\"T_7a784_row12_col13\" class=\"data row12 col13\" >212</td>\n",
              "      <td id=\"T_7a784_row12_col14\" class=\"data row12 col14\" >253</td>\n",
              "      <td id=\"T_7a784_row12_col15\" class=\"data row12 col15\" >97</td>\n",
              "      <td id=\"T_7a784_row12_col16\" class=\"data row12 col16\" >0</td>\n",
              "      <td id=\"T_7a784_row12_col17\" class=\"data row12 col17\" >0</td>\n",
              "      <td id=\"T_7a784_row12_col18\" class=\"data row12 col18\" >0</td>\n",
              "      <td id=\"T_7a784_row12_col19\" class=\"data row12 col19\" >0</td>\n",
              "      <td id=\"T_7a784_row12_col20\" class=\"data row12 col20\" >0</td>\n",
              "      <td id=\"T_7a784_row12_col21\" class=\"data row12 col21\" >0</td>\n",
              "      <td id=\"T_7a784_row12_col22\" class=\"data row12 col22\" >0</td>\n",
              "      <td id=\"T_7a784_row12_col23\" class=\"data row12 col23\" >0</td>\n",
              "      <td id=\"T_7a784_row12_col24\" class=\"data row12 col24\" >0</td>\n",
              "      <td id=\"T_7a784_row12_col25\" class=\"data row12 col25\" >0</td>\n",
              "      <td id=\"T_7a784_row12_col26\" class=\"data row12 col26\" >0</td>\n",
              "      <td id=\"T_7a784_row12_col27\" class=\"data row12 col27\" >0</td>\n",
              "    </tr>\n",
              "    <tr>\n",
              "      <th id=\"T_7a784_level0_row13\" class=\"row_heading level0 row13\" >13</th>\n",
              "      <td id=\"T_7a784_row13_col0\" class=\"data row13 col0\" >0</td>\n",
              "      <td id=\"T_7a784_row13_col1\" class=\"data row13 col1\" >0</td>\n",
              "      <td id=\"T_7a784_row13_col2\" class=\"data row13 col2\" >0</td>\n",
              "      <td id=\"T_7a784_row13_col3\" class=\"data row13 col3\" >0</td>\n",
              "      <td id=\"T_7a784_row13_col4\" class=\"data row13 col4\" >0</td>\n",
              "      <td id=\"T_7a784_row13_col5\" class=\"data row13 col5\" >0</td>\n",
              "      <td id=\"T_7a784_row13_col6\" class=\"data row13 col6\" >0</td>\n",
              "      <td id=\"T_7a784_row13_col7\" class=\"data row13 col7\" >0</td>\n",
              "      <td id=\"T_7a784_row13_col8\" class=\"data row13 col8\" >0</td>\n",
              "      <td id=\"T_7a784_row13_col9\" class=\"data row13 col9\" >0</td>\n",
              "      <td id=\"T_7a784_row13_col10\" class=\"data row13 col10\" >0</td>\n",
              "      <td id=\"T_7a784_row13_col11\" class=\"data row13 col11\" >0</td>\n",
              "      <td id=\"T_7a784_row13_col12\" class=\"data row13 col12\" >72</td>\n",
              "      <td id=\"T_7a784_row13_col13\" class=\"data row13 col13\" >253</td>\n",
              "      <td id=\"T_7a784_row13_col14\" class=\"data row13 col14\" >238</td>\n",
              "      <td id=\"T_7a784_row13_col15\" class=\"data row13 col15\" >53</td>\n",
              "      <td id=\"T_7a784_row13_col16\" class=\"data row13 col16\" >0</td>\n",
              "      <td id=\"T_7a784_row13_col17\" class=\"data row13 col17\" >0</td>\n",
              "      <td id=\"T_7a784_row13_col18\" class=\"data row13 col18\" >0</td>\n",
              "      <td id=\"T_7a784_row13_col19\" class=\"data row13 col19\" >0</td>\n",
              "      <td id=\"T_7a784_row13_col20\" class=\"data row13 col20\" >0</td>\n",
              "      <td id=\"T_7a784_row13_col21\" class=\"data row13 col21\" >0</td>\n",
              "      <td id=\"T_7a784_row13_col22\" class=\"data row13 col22\" >0</td>\n",
              "      <td id=\"T_7a784_row13_col23\" class=\"data row13 col23\" >0</td>\n",
              "      <td id=\"T_7a784_row13_col24\" class=\"data row13 col24\" >0</td>\n",
              "      <td id=\"T_7a784_row13_col25\" class=\"data row13 col25\" >0</td>\n",
              "      <td id=\"T_7a784_row13_col26\" class=\"data row13 col26\" >0</td>\n",
              "      <td id=\"T_7a784_row13_col27\" class=\"data row13 col27\" >0</td>\n",
              "    </tr>\n",
              "    <tr>\n",
              "      <th id=\"T_7a784_level0_row14\" class=\"row_heading level0 row14\" >14</th>\n",
              "      <td id=\"T_7a784_row14_col0\" class=\"data row14 col0\" >0</td>\n",
              "      <td id=\"T_7a784_row14_col1\" class=\"data row14 col1\" >0</td>\n",
              "      <td id=\"T_7a784_row14_col2\" class=\"data row14 col2\" >0</td>\n",
              "      <td id=\"T_7a784_row14_col3\" class=\"data row14 col3\" >0</td>\n",
              "      <td id=\"T_7a784_row14_col4\" class=\"data row14 col4\" >0</td>\n",
              "      <td id=\"T_7a784_row14_col5\" class=\"data row14 col5\" >0</td>\n",
              "      <td id=\"T_7a784_row14_col6\" class=\"data row14 col6\" >0</td>\n",
              "      <td id=\"T_7a784_row14_col7\" class=\"data row14 col7\" >0</td>\n",
              "      <td id=\"T_7a784_row14_col8\" class=\"data row14 col8\" >0</td>\n",
              "      <td id=\"T_7a784_row14_col9\" class=\"data row14 col9\" >0</td>\n",
              "      <td id=\"T_7a784_row14_col10\" class=\"data row14 col10\" >0</td>\n",
              "      <td id=\"T_7a784_row14_col11\" class=\"data row14 col11\" >0</td>\n",
              "      <td id=\"T_7a784_row14_col12\" class=\"data row14 col12\" >72</td>\n",
              "      <td id=\"T_7a784_row14_col13\" class=\"data row14 col13\" >253</td>\n",
              "      <td id=\"T_7a784_row14_col14\" class=\"data row14 col14\" >238</td>\n",
              "      <td id=\"T_7a784_row14_col15\" class=\"data row14 col15\" >53</td>\n",
              "      <td id=\"T_7a784_row14_col16\" class=\"data row14 col16\" >0</td>\n",
              "      <td id=\"T_7a784_row14_col17\" class=\"data row14 col17\" >0</td>\n",
              "      <td id=\"T_7a784_row14_col18\" class=\"data row14 col18\" >0</td>\n",
              "      <td id=\"T_7a784_row14_col19\" class=\"data row14 col19\" >0</td>\n",
              "      <td id=\"T_7a784_row14_col20\" class=\"data row14 col20\" >0</td>\n",
              "      <td id=\"T_7a784_row14_col21\" class=\"data row14 col21\" >0</td>\n",
              "      <td id=\"T_7a784_row14_col22\" class=\"data row14 col22\" >0</td>\n",
              "      <td id=\"T_7a784_row14_col23\" class=\"data row14 col23\" >0</td>\n",
              "      <td id=\"T_7a784_row14_col24\" class=\"data row14 col24\" >0</td>\n",
              "      <td id=\"T_7a784_row14_col25\" class=\"data row14 col25\" >0</td>\n",
              "      <td id=\"T_7a784_row14_col26\" class=\"data row14 col26\" >0</td>\n",
              "      <td id=\"T_7a784_row14_col27\" class=\"data row14 col27\" >0</td>\n",
              "    </tr>\n",
              "    <tr>\n",
              "      <th id=\"T_7a784_level0_row15\" class=\"row_heading level0 row15\" >15</th>\n",
              "      <td id=\"T_7a784_row15_col0\" class=\"data row15 col0\" >0</td>\n",
              "      <td id=\"T_7a784_row15_col1\" class=\"data row15 col1\" >0</td>\n",
              "      <td id=\"T_7a784_row15_col2\" class=\"data row15 col2\" >0</td>\n",
              "      <td id=\"T_7a784_row15_col3\" class=\"data row15 col3\" >0</td>\n",
              "      <td id=\"T_7a784_row15_col4\" class=\"data row15 col4\" >0</td>\n",
              "      <td id=\"T_7a784_row15_col5\" class=\"data row15 col5\" >0</td>\n",
              "      <td id=\"T_7a784_row15_col6\" class=\"data row15 col6\" >0</td>\n",
              "      <td id=\"T_7a784_row15_col7\" class=\"data row15 col7\" >0</td>\n",
              "      <td id=\"T_7a784_row15_col8\" class=\"data row15 col8\" >0</td>\n",
              "      <td id=\"T_7a784_row15_col9\" class=\"data row15 col9\" >0</td>\n",
              "      <td id=\"T_7a784_row15_col10\" class=\"data row15 col10\" >0</td>\n",
              "      <td id=\"T_7a784_row15_col11\" class=\"data row15 col11\" >0</td>\n",
              "      <td id=\"T_7a784_row15_col12\" class=\"data row15 col12\" >72</td>\n",
              "      <td id=\"T_7a784_row15_col13\" class=\"data row15 col13\" >253</td>\n",
              "      <td id=\"T_7a784_row15_col14\" class=\"data row15 col14\" >241</td>\n",
              "      <td id=\"T_7a784_row15_col15\" class=\"data row15 col15\" >57</td>\n",
              "      <td id=\"T_7a784_row15_col16\" class=\"data row15 col16\" >0</td>\n",
              "      <td id=\"T_7a784_row15_col17\" class=\"data row15 col17\" >0</td>\n",
              "      <td id=\"T_7a784_row15_col18\" class=\"data row15 col18\" >0</td>\n",
              "      <td id=\"T_7a784_row15_col19\" class=\"data row15 col19\" >0</td>\n",
              "      <td id=\"T_7a784_row15_col20\" class=\"data row15 col20\" >0</td>\n",
              "      <td id=\"T_7a784_row15_col21\" class=\"data row15 col21\" >0</td>\n",
              "      <td id=\"T_7a784_row15_col22\" class=\"data row15 col22\" >0</td>\n",
              "      <td id=\"T_7a784_row15_col23\" class=\"data row15 col23\" >0</td>\n",
              "      <td id=\"T_7a784_row15_col24\" class=\"data row15 col24\" >0</td>\n",
              "      <td id=\"T_7a784_row15_col25\" class=\"data row15 col25\" >0</td>\n",
              "      <td id=\"T_7a784_row15_col26\" class=\"data row15 col26\" >0</td>\n",
              "      <td id=\"T_7a784_row15_col27\" class=\"data row15 col27\" >0</td>\n",
              "    </tr>\n",
              "    <tr>\n",
              "      <th id=\"T_7a784_level0_row16\" class=\"row_heading level0 row16\" >16</th>\n",
              "      <td id=\"T_7a784_row16_col0\" class=\"data row16 col0\" >0</td>\n",
              "      <td id=\"T_7a784_row16_col1\" class=\"data row16 col1\" >0</td>\n",
              "      <td id=\"T_7a784_row16_col2\" class=\"data row16 col2\" >0</td>\n",
              "      <td id=\"T_7a784_row16_col3\" class=\"data row16 col3\" >0</td>\n",
              "      <td id=\"T_7a784_row16_col4\" class=\"data row16 col4\" >0</td>\n",
              "      <td id=\"T_7a784_row16_col5\" class=\"data row16 col5\" >0</td>\n",
              "      <td id=\"T_7a784_row16_col6\" class=\"data row16 col6\" >0</td>\n",
              "      <td id=\"T_7a784_row16_col7\" class=\"data row16 col7\" >0</td>\n",
              "      <td id=\"T_7a784_row16_col8\" class=\"data row16 col8\" >0</td>\n",
              "      <td id=\"T_7a784_row16_col9\" class=\"data row16 col9\" >0</td>\n",
              "      <td id=\"T_7a784_row16_col10\" class=\"data row16 col10\" >0</td>\n",
              "      <td id=\"T_7a784_row16_col11\" class=\"data row16 col11\" >0</td>\n",
              "      <td id=\"T_7a784_row16_col12\" class=\"data row16 col12\" >72</td>\n",
              "      <td id=\"T_7a784_row16_col13\" class=\"data row16 col13\" >253</td>\n",
              "      <td id=\"T_7a784_row16_col14\" class=\"data row16 col14\" >194</td>\n",
              "      <td id=\"T_7a784_row16_col15\" class=\"data row16 col15\" >0</td>\n",
              "      <td id=\"T_7a784_row16_col16\" class=\"data row16 col16\" >0</td>\n",
              "      <td id=\"T_7a784_row16_col17\" class=\"data row16 col17\" >0</td>\n",
              "      <td id=\"T_7a784_row16_col18\" class=\"data row16 col18\" >0</td>\n",
              "      <td id=\"T_7a784_row16_col19\" class=\"data row16 col19\" >0</td>\n",
              "      <td id=\"T_7a784_row16_col20\" class=\"data row16 col20\" >0</td>\n",
              "      <td id=\"T_7a784_row16_col21\" class=\"data row16 col21\" >0</td>\n",
              "      <td id=\"T_7a784_row16_col22\" class=\"data row16 col22\" >0</td>\n",
              "      <td id=\"T_7a784_row16_col23\" class=\"data row16 col23\" >0</td>\n",
              "      <td id=\"T_7a784_row16_col24\" class=\"data row16 col24\" >0</td>\n",
              "      <td id=\"T_7a784_row16_col25\" class=\"data row16 col25\" >0</td>\n",
              "      <td id=\"T_7a784_row16_col26\" class=\"data row16 col26\" >0</td>\n",
              "      <td id=\"T_7a784_row16_col27\" class=\"data row16 col27\" >0</td>\n",
              "    </tr>\n",
              "    <tr>\n",
              "      <th id=\"T_7a784_level0_row17\" class=\"row_heading level0 row17\" >17</th>\n",
              "      <td id=\"T_7a784_row17_col0\" class=\"data row17 col0\" >0</td>\n",
              "      <td id=\"T_7a784_row17_col1\" class=\"data row17 col1\" >0</td>\n",
              "      <td id=\"T_7a784_row17_col2\" class=\"data row17 col2\" >0</td>\n",
              "      <td id=\"T_7a784_row17_col3\" class=\"data row17 col3\" >0</td>\n",
              "      <td id=\"T_7a784_row17_col4\" class=\"data row17 col4\" >0</td>\n",
              "      <td id=\"T_7a784_row17_col5\" class=\"data row17 col5\" >0</td>\n",
              "      <td id=\"T_7a784_row17_col6\" class=\"data row17 col6\" >0</td>\n",
              "      <td id=\"T_7a784_row17_col7\" class=\"data row17 col7\" >0</td>\n",
              "      <td id=\"T_7a784_row17_col8\" class=\"data row17 col8\" >0</td>\n",
              "      <td id=\"T_7a784_row17_col9\" class=\"data row17 col9\" >0</td>\n",
              "      <td id=\"T_7a784_row17_col10\" class=\"data row17 col10\" >0</td>\n",
              "      <td id=\"T_7a784_row17_col11\" class=\"data row17 col11\" >0</td>\n",
              "      <td id=\"T_7a784_row17_col12\" class=\"data row17 col12\" >159</td>\n",
              "      <td id=\"T_7a784_row17_col13\" class=\"data row17 col13\" >253</td>\n",
              "      <td id=\"T_7a784_row17_col14\" class=\"data row17 col14\" >194</td>\n",
              "      <td id=\"T_7a784_row17_col15\" class=\"data row17 col15\" >0</td>\n",
              "      <td id=\"T_7a784_row17_col16\" class=\"data row17 col16\" >0</td>\n",
              "      <td id=\"T_7a784_row17_col17\" class=\"data row17 col17\" >0</td>\n",
              "      <td id=\"T_7a784_row17_col18\" class=\"data row17 col18\" >0</td>\n",
              "      <td id=\"T_7a784_row17_col19\" class=\"data row17 col19\" >0</td>\n",
              "      <td id=\"T_7a784_row17_col20\" class=\"data row17 col20\" >0</td>\n",
              "      <td id=\"T_7a784_row17_col21\" class=\"data row17 col21\" >0</td>\n",
              "      <td id=\"T_7a784_row17_col22\" class=\"data row17 col22\" >0</td>\n",
              "      <td id=\"T_7a784_row17_col23\" class=\"data row17 col23\" >0</td>\n",
              "      <td id=\"T_7a784_row17_col24\" class=\"data row17 col24\" >0</td>\n",
              "      <td id=\"T_7a784_row17_col25\" class=\"data row17 col25\" >0</td>\n",
              "      <td id=\"T_7a784_row17_col26\" class=\"data row17 col26\" >0</td>\n",
              "      <td id=\"T_7a784_row17_col27\" class=\"data row17 col27\" >0</td>\n",
              "    </tr>\n",
              "    <tr>\n",
              "      <th id=\"T_7a784_level0_row18\" class=\"row_heading level0 row18\" >18</th>\n",
              "      <td id=\"T_7a784_row18_col0\" class=\"data row18 col0\" >0</td>\n",
              "      <td id=\"T_7a784_row18_col1\" class=\"data row18 col1\" >0</td>\n",
              "      <td id=\"T_7a784_row18_col2\" class=\"data row18 col2\" >0</td>\n",
              "      <td id=\"T_7a784_row18_col3\" class=\"data row18 col3\" >0</td>\n",
              "      <td id=\"T_7a784_row18_col4\" class=\"data row18 col4\" >0</td>\n",
              "      <td id=\"T_7a784_row18_col5\" class=\"data row18 col5\" >0</td>\n",
              "      <td id=\"T_7a784_row18_col6\" class=\"data row18 col6\" >0</td>\n",
              "      <td id=\"T_7a784_row18_col7\" class=\"data row18 col7\" >0</td>\n",
              "      <td id=\"T_7a784_row18_col8\" class=\"data row18 col8\" >0</td>\n",
              "      <td id=\"T_7a784_row18_col9\" class=\"data row18 col9\" >0</td>\n",
              "      <td id=\"T_7a784_row18_col10\" class=\"data row18 col10\" >0</td>\n",
              "      <td id=\"T_7a784_row18_col11\" class=\"data row18 col11\" >51</td>\n",
              "      <td id=\"T_7a784_row18_col12\" class=\"data row18 col12\" >235</td>\n",
              "      <td id=\"T_7a784_row18_col13\" class=\"data row18 col13\" >253</td>\n",
              "      <td id=\"T_7a784_row18_col14\" class=\"data row18 col14\" >177</td>\n",
              "      <td id=\"T_7a784_row18_col15\" class=\"data row18 col15\" >0</td>\n",
              "      <td id=\"T_7a784_row18_col16\" class=\"data row18 col16\" >0</td>\n",
              "      <td id=\"T_7a784_row18_col17\" class=\"data row18 col17\" >0</td>\n",
              "      <td id=\"T_7a784_row18_col18\" class=\"data row18 col18\" >0</td>\n",
              "      <td id=\"T_7a784_row18_col19\" class=\"data row18 col19\" >0</td>\n",
              "      <td id=\"T_7a784_row18_col20\" class=\"data row18 col20\" >0</td>\n",
              "      <td id=\"T_7a784_row18_col21\" class=\"data row18 col21\" >0</td>\n",
              "      <td id=\"T_7a784_row18_col22\" class=\"data row18 col22\" >0</td>\n",
              "      <td id=\"T_7a784_row18_col23\" class=\"data row18 col23\" >0</td>\n",
              "      <td id=\"T_7a784_row18_col24\" class=\"data row18 col24\" >0</td>\n",
              "      <td id=\"T_7a784_row18_col25\" class=\"data row18 col25\" >0</td>\n",
              "      <td id=\"T_7a784_row18_col26\" class=\"data row18 col26\" >0</td>\n",
              "      <td id=\"T_7a784_row18_col27\" class=\"data row18 col27\" >0</td>\n",
              "    </tr>\n",
              "    <tr>\n",
              "      <th id=\"T_7a784_level0_row19\" class=\"row_heading level0 row19\" >19</th>\n",
              "      <td id=\"T_7a784_row19_col0\" class=\"data row19 col0\" >0</td>\n",
              "      <td id=\"T_7a784_row19_col1\" class=\"data row19 col1\" >0</td>\n",
              "      <td id=\"T_7a784_row19_col2\" class=\"data row19 col2\" >0</td>\n",
              "      <td id=\"T_7a784_row19_col3\" class=\"data row19 col3\" >0</td>\n",
              "      <td id=\"T_7a784_row19_col4\" class=\"data row19 col4\" >0</td>\n",
              "      <td id=\"T_7a784_row19_col5\" class=\"data row19 col5\" >0</td>\n",
              "      <td id=\"T_7a784_row19_col6\" class=\"data row19 col6\" >0</td>\n",
              "      <td id=\"T_7a784_row19_col7\" class=\"data row19 col7\" >0</td>\n",
              "      <td id=\"T_7a784_row19_col8\" class=\"data row19 col8\" >0</td>\n",
              "      <td id=\"T_7a784_row19_col9\" class=\"data row19 col9\" >0</td>\n",
              "      <td id=\"T_7a784_row19_col10\" class=\"data row19 col10\" >0</td>\n",
              "      <td id=\"T_7a784_row19_col11\" class=\"data row19 col11\" >79</td>\n",
              "      <td id=\"T_7a784_row19_col12\" class=\"data row19 col12\" >253</td>\n",
              "      <td id=\"T_7a784_row19_col13\" class=\"data row19 col13\" >253</td>\n",
              "      <td id=\"T_7a784_row19_col14\" class=\"data row19 col14\" >65</td>\n",
              "      <td id=\"T_7a784_row19_col15\" class=\"data row19 col15\" >0</td>\n",
              "      <td id=\"T_7a784_row19_col16\" class=\"data row19 col16\" >0</td>\n",
              "      <td id=\"T_7a784_row19_col17\" class=\"data row19 col17\" >0</td>\n",
              "      <td id=\"T_7a784_row19_col18\" class=\"data row19 col18\" >0</td>\n",
              "      <td id=\"T_7a784_row19_col19\" class=\"data row19 col19\" >0</td>\n",
              "      <td id=\"T_7a784_row19_col20\" class=\"data row19 col20\" >0</td>\n",
              "      <td id=\"T_7a784_row19_col21\" class=\"data row19 col21\" >0</td>\n",
              "      <td id=\"T_7a784_row19_col22\" class=\"data row19 col22\" >0</td>\n",
              "      <td id=\"T_7a784_row19_col23\" class=\"data row19 col23\" >0</td>\n",
              "      <td id=\"T_7a784_row19_col24\" class=\"data row19 col24\" >0</td>\n",
              "      <td id=\"T_7a784_row19_col25\" class=\"data row19 col25\" >0</td>\n",
              "      <td id=\"T_7a784_row19_col26\" class=\"data row19 col26\" >0</td>\n",
              "      <td id=\"T_7a784_row19_col27\" class=\"data row19 col27\" >0</td>\n",
              "    </tr>\n",
              "    <tr>\n",
              "      <th id=\"T_7a784_level0_row20\" class=\"row_heading level0 row20\" >20</th>\n",
              "      <td id=\"T_7a784_row20_col0\" class=\"data row20 col0\" >0</td>\n",
              "      <td id=\"T_7a784_row20_col1\" class=\"data row20 col1\" >0</td>\n",
              "      <td id=\"T_7a784_row20_col2\" class=\"data row20 col2\" >0</td>\n",
              "      <td id=\"T_7a784_row20_col3\" class=\"data row20 col3\" >0</td>\n",
              "      <td id=\"T_7a784_row20_col4\" class=\"data row20 col4\" >0</td>\n",
              "      <td id=\"T_7a784_row20_col5\" class=\"data row20 col5\" >0</td>\n",
              "      <td id=\"T_7a784_row20_col6\" class=\"data row20 col6\" >0</td>\n",
              "      <td id=\"T_7a784_row20_col7\" class=\"data row20 col7\" >0</td>\n",
              "      <td id=\"T_7a784_row20_col8\" class=\"data row20 col8\" >0</td>\n",
              "      <td id=\"T_7a784_row20_col9\" class=\"data row20 col9\" >0</td>\n",
              "      <td id=\"T_7a784_row20_col10\" class=\"data row20 col10\" >0</td>\n",
              "      <td id=\"T_7a784_row20_col11\" class=\"data row20 col11\" >79</td>\n",
              "      <td id=\"T_7a784_row20_col12\" class=\"data row20 col12\" >253</td>\n",
              "      <td id=\"T_7a784_row20_col13\" class=\"data row20 col13\" >214</td>\n",
              "      <td id=\"T_7a784_row20_col14\" class=\"data row20 col14\" >27</td>\n",
              "      <td id=\"T_7a784_row20_col15\" class=\"data row20 col15\" >0</td>\n",
              "      <td id=\"T_7a784_row20_col16\" class=\"data row20 col16\" >0</td>\n",
              "      <td id=\"T_7a784_row20_col17\" class=\"data row20 col17\" >0</td>\n",
              "      <td id=\"T_7a784_row20_col18\" class=\"data row20 col18\" >0</td>\n",
              "      <td id=\"T_7a784_row20_col19\" class=\"data row20 col19\" >0</td>\n",
              "      <td id=\"T_7a784_row20_col20\" class=\"data row20 col20\" >0</td>\n",
              "      <td id=\"T_7a784_row20_col21\" class=\"data row20 col21\" >0</td>\n",
              "      <td id=\"T_7a784_row20_col22\" class=\"data row20 col22\" >0</td>\n",
              "      <td id=\"T_7a784_row20_col23\" class=\"data row20 col23\" >0</td>\n",
              "      <td id=\"T_7a784_row20_col24\" class=\"data row20 col24\" >0</td>\n",
              "      <td id=\"T_7a784_row20_col25\" class=\"data row20 col25\" >0</td>\n",
              "      <td id=\"T_7a784_row20_col26\" class=\"data row20 col26\" >0</td>\n",
              "      <td id=\"T_7a784_row20_col27\" class=\"data row20 col27\" >0</td>\n",
              "    </tr>\n",
              "    <tr>\n",
              "      <th id=\"T_7a784_level0_row21\" class=\"row_heading level0 row21\" >21</th>\n",
              "      <td id=\"T_7a784_row21_col0\" class=\"data row21 col0\" >0</td>\n",
              "      <td id=\"T_7a784_row21_col1\" class=\"data row21 col1\" >0</td>\n",
              "      <td id=\"T_7a784_row21_col2\" class=\"data row21 col2\" >0</td>\n",
              "      <td id=\"T_7a784_row21_col3\" class=\"data row21 col3\" >0</td>\n",
              "      <td id=\"T_7a784_row21_col4\" class=\"data row21 col4\" >0</td>\n",
              "      <td id=\"T_7a784_row21_col5\" class=\"data row21 col5\" >0</td>\n",
              "      <td id=\"T_7a784_row21_col6\" class=\"data row21 col6\" >0</td>\n",
              "      <td id=\"T_7a784_row21_col7\" class=\"data row21 col7\" >0</td>\n",
              "      <td id=\"T_7a784_row21_col8\" class=\"data row21 col8\" >0</td>\n",
              "      <td id=\"T_7a784_row21_col9\" class=\"data row21 col9\" >0</td>\n",
              "      <td id=\"T_7a784_row21_col10\" class=\"data row21 col10\" >0</td>\n",
              "      <td id=\"T_7a784_row21_col11\" class=\"data row21 col11\" >79</td>\n",
              "      <td id=\"T_7a784_row21_col12\" class=\"data row21 col12\" >253</td>\n",
              "      <td id=\"T_7a784_row21_col13\" class=\"data row21 col13\" >191</td>\n",
              "      <td id=\"T_7a784_row21_col14\" class=\"data row21 col14\" >4</td>\n",
              "      <td id=\"T_7a784_row21_col15\" class=\"data row21 col15\" >0</td>\n",
              "      <td id=\"T_7a784_row21_col16\" class=\"data row21 col16\" >0</td>\n",
              "      <td id=\"T_7a784_row21_col17\" class=\"data row21 col17\" >0</td>\n",
              "      <td id=\"T_7a784_row21_col18\" class=\"data row21 col18\" >0</td>\n",
              "      <td id=\"T_7a784_row21_col19\" class=\"data row21 col19\" >0</td>\n",
              "      <td id=\"T_7a784_row21_col20\" class=\"data row21 col20\" >0</td>\n",
              "      <td id=\"T_7a784_row21_col21\" class=\"data row21 col21\" >0</td>\n",
              "      <td id=\"T_7a784_row21_col22\" class=\"data row21 col22\" >0</td>\n",
              "      <td id=\"T_7a784_row21_col23\" class=\"data row21 col23\" >0</td>\n",
              "      <td id=\"T_7a784_row21_col24\" class=\"data row21 col24\" >0</td>\n",
              "      <td id=\"T_7a784_row21_col25\" class=\"data row21 col25\" >0</td>\n",
              "      <td id=\"T_7a784_row21_col26\" class=\"data row21 col26\" >0</td>\n",
              "      <td id=\"T_7a784_row21_col27\" class=\"data row21 col27\" >0</td>\n",
              "    </tr>\n",
              "    <tr>\n",
              "      <th id=\"T_7a784_level0_row22\" class=\"row_heading level0 row22\" >22</th>\n",
              "      <td id=\"T_7a784_row22_col0\" class=\"data row22 col0\" >0</td>\n",
              "      <td id=\"T_7a784_row22_col1\" class=\"data row22 col1\" >0</td>\n",
              "      <td id=\"T_7a784_row22_col2\" class=\"data row22 col2\" >0</td>\n",
              "      <td id=\"T_7a784_row22_col3\" class=\"data row22 col3\" >0</td>\n",
              "      <td id=\"T_7a784_row22_col4\" class=\"data row22 col4\" >0</td>\n",
              "      <td id=\"T_7a784_row22_col5\" class=\"data row22 col5\" >0</td>\n",
              "      <td id=\"T_7a784_row22_col6\" class=\"data row22 col6\" >0</td>\n",
              "      <td id=\"T_7a784_row22_col7\" class=\"data row22 col7\" >0</td>\n",
              "      <td id=\"T_7a784_row22_col8\" class=\"data row22 col8\" >0</td>\n",
              "      <td id=\"T_7a784_row22_col9\" class=\"data row22 col9\" >0</td>\n",
              "      <td id=\"T_7a784_row22_col10\" class=\"data row22 col10\" >0</td>\n",
              "      <td id=\"T_7a784_row22_col11\" class=\"data row22 col11\" >79</td>\n",
              "      <td id=\"T_7a784_row22_col12\" class=\"data row22 col12\" >253</td>\n",
              "      <td id=\"T_7a784_row22_col13\" class=\"data row22 col13\" >253</td>\n",
              "      <td id=\"T_7a784_row22_col14\" class=\"data row22 col14\" >134</td>\n",
              "      <td id=\"T_7a784_row22_col15\" class=\"data row22 col15\" >0</td>\n",
              "      <td id=\"T_7a784_row22_col16\" class=\"data row22 col16\" >0</td>\n",
              "      <td id=\"T_7a784_row22_col17\" class=\"data row22 col17\" >0</td>\n",
              "      <td id=\"T_7a784_row22_col18\" class=\"data row22 col18\" >0</td>\n",
              "      <td id=\"T_7a784_row22_col19\" class=\"data row22 col19\" >0</td>\n",
              "      <td id=\"T_7a784_row22_col20\" class=\"data row22 col20\" >0</td>\n",
              "      <td id=\"T_7a784_row22_col21\" class=\"data row22 col21\" >0</td>\n",
              "      <td id=\"T_7a784_row22_col22\" class=\"data row22 col22\" >0</td>\n",
              "      <td id=\"T_7a784_row22_col23\" class=\"data row22 col23\" >0</td>\n",
              "      <td id=\"T_7a784_row22_col24\" class=\"data row22 col24\" >0</td>\n",
              "      <td id=\"T_7a784_row22_col25\" class=\"data row22 col25\" >0</td>\n",
              "      <td id=\"T_7a784_row22_col26\" class=\"data row22 col26\" >0</td>\n",
              "      <td id=\"T_7a784_row22_col27\" class=\"data row22 col27\" >0</td>\n",
              "    </tr>\n",
              "    <tr>\n",
              "      <th id=\"T_7a784_level0_row23\" class=\"row_heading level0 row23\" >23</th>\n",
              "      <td id=\"T_7a784_row23_col0\" class=\"data row23 col0\" >0</td>\n",
              "      <td id=\"T_7a784_row23_col1\" class=\"data row23 col1\" >0</td>\n",
              "      <td id=\"T_7a784_row23_col2\" class=\"data row23 col2\" >0</td>\n",
              "      <td id=\"T_7a784_row23_col3\" class=\"data row23 col3\" >0</td>\n",
              "      <td id=\"T_7a784_row23_col4\" class=\"data row23 col4\" >0</td>\n",
              "      <td id=\"T_7a784_row23_col5\" class=\"data row23 col5\" >0</td>\n",
              "      <td id=\"T_7a784_row23_col6\" class=\"data row23 col6\" >0</td>\n",
              "      <td id=\"T_7a784_row23_col7\" class=\"data row23 col7\" >0</td>\n",
              "      <td id=\"T_7a784_row23_col8\" class=\"data row23 col8\" >0</td>\n",
              "      <td id=\"T_7a784_row23_col9\" class=\"data row23 col9\" >0</td>\n",
              "      <td id=\"T_7a784_row23_col10\" class=\"data row23 col10\" >0</td>\n",
              "      <td id=\"T_7a784_row23_col11\" class=\"data row23 col11\" >79</td>\n",
              "      <td id=\"T_7a784_row23_col12\" class=\"data row23 col12\" >253</td>\n",
              "      <td id=\"T_7a784_row23_col13\" class=\"data row23 col13\" >253</td>\n",
              "      <td id=\"T_7a784_row23_col14\" class=\"data row23 col14\" >128</td>\n",
              "      <td id=\"T_7a784_row23_col15\" class=\"data row23 col15\" >0</td>\n",
              "      <td id=\"T_7a784_row23_col16\" class=\"data row23 col16\" >0</td>\n",
              "      <td id=\"T_7a784_row23_col17\" class=\"data row23 col17\" >0</td>\n",
              "      <td id=\"T_7a784_row23_col18\" class=\"data row23 col18\" >0</td>\n",
              "      <td id=\"T_7a784_row23_col19\" class=\"data row23 col19\" >0</td>\n",
              "      <td id=\"T_7a784_row23_col20\" class=\"data row23 col20\" >0</td>\n",
              "      <td id=\"T_7a784_row23_col21\" class=\"data row23 col21\" >0</td>\n",
              "      <td id=\"T_7a784_row23_col22\" class=\"data row23 col22\" >0</td>\n",
              "      <td id=\"T_7a784_row23_col23\" class=\"data row23 col23\" >0</td>\n",
              "      <td id=\"T_7a784_row23_col24\" class=\"data row23 col24\" >0</td>\n",
              "      <td id=\"T_7a784_row23_col25\" class=\"data row23 col25\" >0</td>\n",
              "      <td id=\"T_7a784_row23_col26\" class=\"data row23 col26\" >0</td>\n",
              "      <td id=\"T_7a784_row23_col27\" class=\"data row23 col27\" >0</td>\n",
              "    </tr>\n",
              "    <tr>\n",
              "      <th id=\"T_7a784_level0_row24\" class=\"row_heading level0 row24\" >24</th>\n",
              "      <td id=\"T_7a784_row24_col0\" class=\"data row24 col0\" >0</td>\n",
              "      <td id=\"T_7a784_row24_col1\" class=\"data row24 col1\" >0</td>\n",
              "      <td id=\"T_7a784_row24_col2\" class=\"data row24 col2\" >0</td>\n",
              "      <td id=\"T_7a784_row24_col3\" class=\"data row24 col3\" >0</td>\n",
              "      <td id=\"T_7a784_row24_col4\" class=\"data row24 col4\" >0</td>\n",
              "      <td id=\"T_7a784_row24_col5\" class=\"data row24 col5\" >0</td>\n",
              "      <td id=\"T_7a784_row24_col6\" class=\"data row24 col6\" >0</td>\n",
              "      <td id=\"T_7a784_row24_col7\" class=\"data row24 col7\" >0</td>\n",
              "      <td id=\"T_7a784_row24_col8\" class=\"data row24 col8\" >0</td>\n",
              "      <td id=\"T_7a784_row24_col9\" class=\"data row24 col9\" >0</td>\n",
              "      <td id=\"T_7a784_row24_col10\" class=\"data row24 col10\" >0</td>\n",
              "      <td id=\"T_7a784_row24_col11\" class=\"data row24 col11\" >0</td>\n",
              "      <td id=\"T_7a784_row24_col12\" class=\"data row24 col12\" >0</td>\n",
              "      <td id=\"T_7a784_row24_col13\" class=\"data row24 col13\" >0</td>\n",
              "      <td id=\"T_7a784_row24_col14\" class=\"data row24 col14\" >0</td>\n",
              "      <td id=\"T_7a784_row24_col15\" class=\"data row24 col15\" >0</td>\n",
              "      <td id=\"T_7a784_row24_col16\" class=\"data row24 col16\" >0</td>\n",
              "      <td id=\"T_7a784_row24_col17\" class=\"data row24 col17\" >0</td>\n",
              "      <td id=\"T_7a784_row24_col18\" class=\"data row24 col18\" >0</td>\n",
              "      <td id=\"T_7a784_row24_col19\" class=\"data row24 col19\" >0</td>\n",
              "      <td id=\"T_7a784_row24_col20\" class=\"data row24 col20\" >0</td>\n",
              "      <td id=\"T_7a784_row24_col21\" class=\"data row24 col21\" >0</td>\n",
              "      <td id=\"T_7a784_row24_col22\" class=\"data row24 col22\" >0</td>\n",
              "      <td id=\"T_7a784_row24_col23\" class=\"data row24 col23\" >0</td>\n",
              "      <td id=\"T_7a784_row24_col24\" class=\"data row24 col24\" >0</td>\n",
              "      <td id=\"T_7a784_row24_col25\" class=\"data row24 col25\" >0</td>\n",
              "      <td id=\"T_7a784_row24_col26\" class=\"data row24 col26\" >0</td>\n",
              "      <td id=\"T_7a784_row24_col27\" class=\"data row24 col27\" >0</td>\n",
              "    </tr>\n",
              "    <tr>\n",
              "      <th id=\"T_7a784_level0_row25\" class=\"row_heading level0 row25\" >25</th>\n",
              "      <td id=\"T_7a784_row25_col0\" class=\"data row25 col0\" >0</td>\n",
              "      <td id=\"T_7a784_row25_col1\" class=\"data row25 col1\" >0</td>\n",
              "      <td id=\"T_7a784_row25_col2\" class=\"data row25 col2\" >0</td>\n",
              "      <td id=\"T_7a784_row25_col3\" class=\"data row25 col3\" >0</td>\n",
              "      <td id=\"T_7a784_row25_col4\" class=\"data row25 col4\" >0</td>\n",
              "      <td id=\"T_7a784_row25_col5\" class=\"data row25 col5\" >0</td>\n",
              "      <td id=\"T_7a784_row25_col6\" class=\"data row25 col6\" >0</td>\n",
              "      <td id=\"T_7a784_row25_col7\" class=\"data row25 col7\" >0</td>\n",
              "      <td id=\"T_7a784_row25_col8\" class=\"data row25 col8\" >0</td>\n",
              "      <td id=\"T_7a784_row25_col9\" class=\"data row25 col9\" >0</td>\n",
              "      <td id=\"T_7a784_row25_col10\" class=\"data row25 col10\" >0</td>\n",
              "      <td id=\"T_7a784_row25_col11\" class=\"data row25 col11\" >0</td>\n",
              "      <td id=\"T_7a784_row25_col12\" class=\"data row25 col12\" >0</td>\n",
              "      <td id=\"T_7a784_row25_col13\" class=\"data row25 col13\" >0</td>\n",
              "      <td id=\"T_7a784_row25_col14\" class=\"data row25 col14\" >0</td>\n",
              "      <td id=\"T_7a784_row25_col15\" class=\"data row25 col15\" >0</td>\n",
              "      <td id=\"T_7a784_row25_col16\" class=\"data row25 col16\" >0</td>\n",
              "      <td id=\"T_7a784_row25_col17\" class=\"data row25 col17\" >0</td>\n",
              "      <td id=\"T_7a784_row25_col18\" class=\"data row25 col18\" >0</td>\n",
              "      <td id=\"T_7a784_row25_col19\" class=\"data row25 col19\" >0</td>\n",
              "      <td id=\"T_7a784_row25_col20\" class=\"data row25 col20\" >0</td>\n",
              "      <td id=\"T_7a784_row25_col21\" class=\"data row25 col21\" >0</td>\n",
              "      <td id=\"T_7a784_row25_col22\" class=\"data row25 col22\" >0</td>\n",
              "      <td id=\"T_7a784_row25_col23\" class=\"data row25 col23\" >0</td>\n",
              "      <td id=\"T_7a784_row25_col24\" class=\"data row25 col24\" >0</td>\n",
              "      <td id=\"T_7a784_row25_col25\" class=\"data row25 col25\" >0</td>\n",
              "      <td id=\"T_7a784_row25_col26\" class=\"data row25 col26\" >0</td>\n",
              "      <td id=\"T_7a784_row25_col27\" class=\"data row25 col27\" >0</td>\n",
              "    </tr>\n",
              "    <tr>\n",
              "      <th id=\"T_7a784_level0_row26\" class=\"row_heading level0 row26\" >26</th>\n",
              "      <td id=\"T_7a784_row26_col0\" class=\"data row26 col0\" >0</td>\n",
              "      <td id=\"T_7a784_row26_col1\" class=\"data row26 col1\" >0</td>\n",
              "      <td id=\"T_7a784_row26_col2\" class=\"data row26 col2\" >0</td>\n",
              "      <td id=\"T_7a784_row26_col3\" class=\"data row26 col3\" >0</td>\n",
              "      <td id=\"T_7a784_row26_col4\" class=\"data row26 col4\" >0</td>\n",
              "      <td id=\"T_7a784_row26_col5\" class=\"data row26 col5\" >0</td>\n",
              "      <td id=\"T_7a784_row26_col6\" class=\"data row26 col6\" >0</td>\n",
              "      <td id=\"T_7a784_row26_col7\" class=\"data row26 col7\" >0</td>\n",
              "      <td id=\"T_7a784_row26_col8\" class=\"data row26 col8\" >0</td>\n",
              "      <td id=\"T_7a784_row26_col9\" class=\"data row26 col9\" >0</td>\n",
              "      <td id=\"T_7a784_row26_col10\" class=\"data row26 col10\" >0</td>\n",
              "      <td id=\"T_7a784_row26_col11\" class=\"data row26 col11\" >0</td>\n",
              "      <td id=\"T_7a784_row26_col12\" class=\"data row26 col12\" >0</td>\n",
              "      <td id=\"T_7a784_row26_col13\" class=\"data row26 col13\" >0</td>\n",
              "      <td id=\"T_7a784_row26_col14\" class=\"data row26 col14\" >0</td>\n",
              "      <td id=\"T_7a784_row26_col15\" class=\"data row26 col15\" >0</td>\n",
              "      <td id=\"T_7a784_row26_col16\" class=\"data row26 col16\" >0</td>\n",
              "      <td id=\"T_7a784_row26_col17\" class=\"data row26 col17\" >0</td>\n",
              "      <td id=\"T_7a784_row26_col18\" class=\"data row26 col18\" >0</td>\n",
              "      <td id=\"T_7a784_row26_col19\" class=\"data row26 col19\" >0</td>\n",
              "      <td id=\"T_7a784_row26_col20\" class=\"data row26 col20\" >0</td>\n",
              "      <td id=\"T_7a784_row26_col21\" class=\"data row26 col21\" >0</td>\n",
              "      <td id=\"T_7a784_row26_col22\" class=\"data row26 col22\" >0</td>\n",
              "      <td id=\"T_7a784_row26_col23\" class=\"data row26 col23\" >0</td>\n",
              "      <td id=\"T_7a784_row26_col24\" class=\"data row26 col24\" >0</td>\n",
              "      <td id=\"T_7a784_row26_col25\" class=\"data row26 col25\" >0</td>\n",
              "      <td id=\"T_7a784_row26_col26\" class=\"data row26 col26\" >0</td>\n",
              "      <td id=\"T_7a784_row26_col27\" class=\"data row26 col27\" >0</td>\n",
              "    </tr>\n",
              "    <tr>\n",
              "      <th id=\"T_7a784_level0_row27\" class=\"row_heading level0 row27\" >27</th>\n",
              "      <td id=\"T_7a784_row27_col0\" class=\"data row27 col0\" >0</td>\n",
              "      <td id=\"T_7a784_row27_col1\" class=\"data row27 col1\" >0</td>\n",
              "      <td id=\"T_7a784_row27_col2\" class=\"data row27 col2\" >0</td>\n",
              "      <td id=\"T_7a784_row27_col3\" class=\"data row27 col3\" >0</td>\n",
              "      <td id=\"T_7a784_row27_col4\" class=\"data row27 col4\" >0</td>\n",
              "      <td id=\"T_7a784_row27_col5\" class=\"data row27 col5\" >0</td>\n",
              "      <td id=\"T_7a784_row27_col6\" class=\"data row27 col6\" >0</td>\n",
              "      <td id=\"T_7a784_row27_col7\" class=\"data row27 col7\" >0</td>\n",
              "      <td id=\"T_7a784_row27_col8\" class=\"data row27 col8\" >0</td>\n",
              "      <td id=\"T_7a784_row27_col9\" class=\"data row27 col9\" >0</td>\n",
              "      <td id=\"T_7a784_row27_col10\" class=\"data row27 col10\" >0</td>\n",
              "      <td id=\"T_7a784_row27_col11\" class=\"data row27 col11\" >0</td>\n",
              "      <td id=\"T_7a784_row27_col12\" class=\"data row27 col12\" >0</td>\n",
              "      <td id=\"T_7a784_row27_col13\" class=\"data row27 col13\" >0</td>\n",
              "      <td id=\"T_7a784_row27_col14\" class=\"data row27 col14\" >0</td>\n",
              "      <td id=\"T_7a784_row27_col15\" class=\"data row27 col15\" >0</td>\n",
              "      <td id=\"T_7a784_row27_col16\" class=\"data row27 col16\" >0</td>\n",
              "      <td id=\"T_7a784_row27_col17\" class=\"data row27 col17\" >0</td>\n",
              "      <td id=\"T_7a784_row27_col18\" class=\"data row27 col18\" >0</td>\n",
              "      <td id=\"T_7a784_row27_col19\" class=\"data row27 col19\" >0</td>\n",
              "      <td id=\"T_7a784_row27_col20\" class=\"data row27 col20\" >0</td>\n",
              "      <td id=\"T_7a784_row27_col21\" class=\"data row27 col21\" >0</td>\n",
              "      <td id=\"T_7a784_row27_col22\" class=\"data row27 col22\" >0</td>\n",
              "      <td id=\"T_7a784_row27_col23\" class=\"data row27 col23\" >0</td>\n",
              "      <td id=\"T_7a784_row27_col24\" class=\"data row27 col24\" >0</td>\n",
              "      <td id=\"T_7a784_row27_col25\" class=\"data row27 col25\" >0</td>\n",
              "      <td id=\"T_7a784_row27_col26\" class=\"data row27 col26\" >0</td>\n",
              "      <td id=\"T_7a784_row27_col27\" class=\"data row27 col27\" >0</td>\n",
              "    </tr>\n",
              "  </tbody>\n",
              "</table>\n"
            ]
          },
          "metadata": {},
          "execution_count": 205
        }
      ],
      "source": [
        "df = pd.DataFrame(image_one_tensor) # Convert to Panda Dataframe\n",
        "df.style.set_properties(**{'font-size':'6pt'}).background_gradient('Greys')"
      ]
    },
    {
      "cell_type": "markdown",
      "source": [
        "You can see above that every image will be made up of 28x28 (784) pixels, each with a value between 0 (white) and 255 (black)"
      ],
      "metadata": {
        "id": "HMXALbTzMDQq"
      }
    },
    {
      "cell_type": "markdown",
      "metadata": {
        "id": "5fM_qqRNE9Wf"
      },
      "source": [
        "# Pixel Similarity Approach\n",
        "## Getting all the images for the dataset"
      ]
    },
    {
      "cell_type": "code",
      "execution_count": null,
      "metadata": {
        "id": "fBfLHPwNE8ob"
      },
      "outputs": [],
      "source": [
        "training_dataset = {i: (path/\"training\"/str(i)).ls().sorted() for i in range(10)}\n",
        "testing_dataset = {i: (path/\"testing\"/str(i)).ls().sorted() for i in range(10)}"
      ]
    },
    {
      "cell_type": "markdown",
      "metadata": {
        "id": "B99Ar-DtlVkl"
      },
      "source": [
        "## Converting datasets of paths to datasets of tensors\n",
        "\n"
      ]
    },
    {
      "cell_type": "code",
      "execution_count": null,
      "metadata": {
        "id": "fP8ZQeQClb4a"
      },
      "outputs": [],
      "source": [
        "training_tensors = {i: [tensor(Image.open(j)) for j in images] for i, images in training_dataset.items()}\n",
        "testing_tensors = {i: [tensor(Image.open(j)) for j in images] for i, images in testing_dataset.items()}"
      ]
    },
    {
      "cell_type": "code",
      "execution_count": null,
      "metadata": {
        "colab": {
          "base_uri": "https://localhost:8080/"
        },
        "id": "bUaAiRj0IHrx",
        "outputId": "3127a898-6ba8-4b24-822d-6cad25409ad2"
      },
      "outputs": [
        {
          "output_type": "stream",
          "name": "stdout",
          "text": [
            "Number of images (tensors) labeled 7 in training set: 6265\n"
          ]
        }
      ],
      "source": [
        "print(\"Number of images (tensors) labeled 7 in training set:\", len(training_tensors[7]))"
      ]
    },
    {
      "cell_type": "markdown",
      "metadata": {
        "id": "Ry-G6QMBIg5r"
      },
      "source": [
        "## Using `show_image()` to look at individual data"
      ]
    },
    {
      "cell_type": "markdown",
      "source": [
        "Since we have now converted them to tensors, rather than PIL Images, we need to use fast ai's `show_image` function to display a image"
      ],
      "metadata": {
        "id": "f2TfFXnAMseC"
      }
    },
    {
      "cell_type": "code",
      "execution_count": null,
      "metadata": {
        "colab": {
          "base_uri": "https://localhost:8080/",
          "height": 697
        },
        "id": "1uqlSsfiIjKA",
        "outputId": "cd44f01c-2406-4b1a-98a5-117828707ee4"
      },
      "outputs": [
        {
          "output_type": "display_data",
          "data": {
            "text/plain": [
              "<Figure size 72x72 with 1 Axes>"
            ],
            "image/png": "[encoded data removed]"
          },
          "metadata": {
            "needs_background": "light"
          }
        },
        {
          "output_type": "display_data",
          "data": {
            "text/plain": [
              "<Figure size 72x72 with 1 Axes>"
            ],
            "image/png": "[encoded data removed]"
          },
          "metadata": {
            "needs_background": "light"
          }
        },
        {
          "output_type": "display_data",
          "data": {
            "text/plain": [
              "<Figure size 72x72 with 1 Axes>"
            ],
            "image/png": "[encoded data removed]"
          },
          "metadata": {
            "needs_background": "light"
          }
        },
        {
          "output_type": "display_data",
          "data": {
            "text/plain": [
              "<Figure size 72x72 with 1 Axes>"
            ],
            "image/png": "[encoded data removed]"
          },
          "metadata": {
            "needs_background": "light"
          }
        },
        {
          "output_type": "display_data",
          "data": {
            "text/plain": [
              "<Figure size 72x72 with 1 Axes>"
            ],
            "image/png": "[encoded data removed]"
          },
          "metadata": {
            "needs_background": "light"
          }
        },
        {
          "output_type": "display_data",
          "data": {
            "text/plain": [
              "<Figure size 72x72 with 1 Axes>"
            ],
            "image/png": "[encoded data removed]"
          },
          "metadata": {
            "needs_background": "light"
          }
        },
        {
          "output_type": "display_data",
          "data": {
            "text/plain": [
              "<Figure size 72x72 with 1 Axes>"
            ],
            "image/png": "[encoded data removed]"
          },
          "metadata": {
            "needs_background": "light"
          }
        },
        {
          "output_type": "display_data",
          "data": {
            "text/plain": [
              "<Figure size 72x72 with 1 Axes>"
            ],
            "image/png": "[encoded data removed]"
          },
          "metadata": {
            "needs_background": "light"
          }
        },
        {
          "output_type": "display_data",
          "data": {
            "text/plain": [
              "<Figure size 72x72 with 1 Axes>"
            ],
            "image/png": "[encoded data removed]"
          },
          "metadata": {
            "needs_background": "light"
          }
        },
        {
          "output_type": "display_data",
          "data": {
            "text/plain": [
              "<Figure size 72x72 with 1 Axes>"
            ],
            "image/png": "[encoded data removed]"
          },
          "metadata": {
            "needs_background": "light"
          }
        }
      ],
      "source": [
        "[show_image(training_tensors[i][0]) for i in range(10)];"
      ]
    },
    {
      "cell_type": "markdown",
      "metadata": {
        "id": "ZGx0-MQIKrMZ"
      },
      "source": [
        "## Stacking the Tensors\n",
        "For every pixel position, we want to compute the average over all the images of the intensity of that pixel. To do this we first combine all the images in this list into a single three-dimensional tensor. The most common way to describe such a tensor is to call it a rank-3 tensor. We often need to stack up individual tensors in a collection into a single tensor. Unsurprisingly, PyTorch comes with a function called `stack` that we can use for this purpose.\n",
        "\n",
        "Some operations in PyTorch, such as taking a mean, require us to cast our integer types to float types. Since we'll be needing this later, we'll also cast our stacked tensor to float now. Casting in PyTorch is as simple as typing the name of the type you wish to cast to, and treating it as a method.\n",
        "\n",
        "Generally when images are floats, the pixel values are expected to be between 0 and 1, so we will also divide by 255 here:"
      ]
    },
    {
      "cell_type": "code",
      "execution_count": null,
      "metadata": {
        "colab": {
          "base_uri": "https://localhost:8080/"
        },
        "id": "It8_wkKIKqgp",
        "outputId": "73f7c01e-8b0e-43e0-8c0f-0d0b60025038"
      },
      "outputs": [
        {
          "output_type": "execute_result",
          "data": {
            "text/plain": [
              "(3, 3)"
            ]
          },
          "metadata": {},
          "execution_count": 210
        }
      ],
      "source": [
        "stacked_numbers = {i: torch.stack(tensors).float() / 255 for i, tensors in training_tensors.items()} # Convert to float for later purposes, divide by 255 for formality\n",
        "stacked_numbers[0].ndim, len(stacked_numbers[0].shape) # Number of axises is the rank of a tensor"
      ]
    },
    {
      "cell_type": "markdown",
      "metadata": {
        "id": "3ZSHpzwjLg5j"
      },
      "source": [
        "## Calculating the 'mean' images\n",
        "\n",
        "> The way to understand the \"axis\" of an operation is that the operation collapses the specified axis. So when it collapses the axis 0, axis 0 becomes length 1."
      ]
    },
    {
      "cell_type": "code",
      "execution_count": null,
      "metadata": {
        "colab": {
          "base_uri": "https://localhost:8080/"
        },
        "id": "1y6gPZS1Le6Q",
        "outputId": "7eebd8f9-69dd-4e09-d2bf-192acd117594"
      },
      "outputs": [
        {
          "output_type": "execute_result",
          "data": {
            "text/plain": [
              "(torch.Size([5923, 28, 28]), torch.Size([28, 28]))"
            ]
          },
          "metadata": {},
          "execution_count": 211
        }
      ],
      "source": [
        "mean_numbers = {i: images.mean(0) for i, images in stacked_numbers.items()} # Get mean along axis 0 since those are the stacked images\n",
        "stacked_numbers[0].shape, mean_numbers[0].shape"
      ]
    },
    {
      "cell_type": "markdown",
      "metadata": {
        "id": "o8wZEK2Kl13R"
      },
      "source": [
        "## Showing each of the 'mean' images"
      ]
    },
    {
      "cell_type": "code",
      "execution_count": null,
      "metadata": {
        "colab": {
          "base_uri": "https://localhost:8080/",
          "height": 132
        },
        "id": "dGZM2kBLLw0R",
        "outputId": "1bd9d7d8-a9d7-4fa9-fa55-355fb9c47597"
      },
      "outputs": [
        {
          "output_type": "display_data",
          "data": {
            "text/plain": [
              "<Figure size 2160x216 with 10 Axes>"
            ],
            "image/png": "[encoded data removed]"
          },
          "metadata": {
            "needs_background": "light"
          }
        }
      ],
      "source": [
        "show_images(list(mean_numbers.values()))"
      ]
    },
    {
      "cell_type": "markdown",
      "source": [
        "According to this dataset, these are the ideal numbers 0 - 9! You can see how it's very dark where all the images agree it should be dark, but it becomes wispy and blurry where the images disagree."
      ],
      "metadata": {
        "id": "Dp5vQgaNUKR7"
      }
    },
    {
      "cell_type": "markdown",
      "metadata": {
        "id": "aPq6OfrYNdqw"
      },
      "source": [
        "## Picking arbitrary datapoint"
      ]
    },
    {
      "cell_type": "code",
      "execution_count": null,
      "metadata": {
        "colab": {
          "base_uri": "https://localhost:8080/",
          "height": 85
        },
        "id": "h3iRccYBNiGT",
        "outputId": "49ae9e65-2edb-4c1f-d405-92b8210d4aeb"
      },
      "outputs": [
        {
          "output_type": "display_data",
          "data": {
            "text/plain": [
              "<Figure size 72x72 with 1 Axes>"
            ],
            "image/png": "[encoded data removed]"
          },
          "metadata": {
            "needs_background": "light"
          }
        }
      ],
      "source": [
        "ex_zero = stacked_numbers[0][0]\n",
        "show_image(ex_zero);"
      ]
    },
    {
      "cell_type": "markdown",
      "metadata": {
        "id": "L5SaCUEYNrFb"
      },
      "source": [
        "## Getting distance from example image to mean image\n",
        "How can we determine its distance from our ideal 3? We can't just add up the differences between the pixels of this image and the ideal digit. Some differences will be positive while others will be negative, and these differences will cancel out, resulting in a situation where an image that is too dark in some places and too light in others might be shown as having zero total differences from the ideal. That would be misleading!\n",
        "\n",
        "To avoid this, we can take the mean of the *absolute value* of differences (absolute value is the function that replaces negative values with positive values). This is called the *mean absolute difference* or *L1 norm*"
      ]
    },
    {
      "cell_type": "code",
      "execution_count": null,
      "metadata": {
        "colab": {
          "base_uri": "https://localhost:8080/"
        },
        "id": "jp0Hc-jsNvu4",
        "outputId": "c155fa96-bea8-451b-cf47-c8a80578b75c"
      },
      "outputs": [
        {
          "output_type": "stream",
          "name": "stdout",
          "text": [
            "0: 0.11076949536800385\n",
            "1: 0.16433314979076385\n",
            "2: 0.17881086468696594\n",
            "3: 0.16792801022529602\n",
            "4: 0.17648711800575256\n",
            "5: 0.14877468347549438\n",
            "6: 0.16509674489498138\n",
            "7: 0.16900908946990967\n",
            "8: 0.17084139585494995\n",
            "9: 0.16944833099842072\n"
          ]
        }
      ],
      "source": [
        "for i, mean in mean_numbers.items():\n",
        "  dist = (ex_zero - mean).abs().mean()\n",
        "  print(f\"{i}: {dist}\")"
      ]
    },
    {
      "cell_type": "markdown",
      "metadata": {
        "id": "ZwzYkO2ol13b"
      },
      "source": [
        "You can see that the example image is 'closest' to the mean image of 0, which is great :)\n",
        "\n",
        "Now onto checking how accurate this approach truly is"
      ]
    },
    {
      "cell_type": "markdown",
      "metadata": {
        "id": "Gma0-6cwQtSP"
      },
      "source": [
        "## Metric for overall Accuracy\n",
        "In order to calculate a metric for overall accuracy, we will need to calculate the distance to the ideal label for every image in the validation set. How do we do that calculation? We could write a loop over all of the single-image tensors that are stacked within our validation set tensor, but instead we can take advantage of broadcasting."
      ]
    },
    {
      "cell_type": "code",
      "execution_count": null,
      "metadata": {
        "id": "D3nNswaJRhI4"
      },
      "outputs": [],
      "source": [
        "def diff(a, b): \n",
        "  return (a - b).abs().mean((-1, -2))"
      ]
    },
    {
      "cell_type": "markdown",
      "metadata": {
        "id": "qEPpYuanRlHt"
      },
      "source": [
        "The `diff` function takes advantage of broadcasting, allowing tensors of different sizes to be compared. This is WAY more efficient when comparing all the tensors corresponding to a label to the general mean. \n",
        "\n",
        "Note that `diff` calls `mean((-1,-2))`. The tuple `(-1,-2)` represents a range of axes. In Python, `-1` refers to the last element, and `-2` refers to the second-to-last. So in this case, this tells PyTorch that we want to take the mean ranging over the values indexed by the last two axes of the tensor. The last two axes are the horizontal and vertical dimensions of an image. After taking the mean over the last two axes, we are left with just the first tensor axis, which indexes over our images, which is why our final size was `(1010)`. In other words, for every image, we averaged the intensity of all the pixels in that image."
      ]
    },
    {
      "cell_type": "markdown",
      "metadata": {
        "id": "mJXBSjHxSC4K"
      },
      "source": [
        "## Calculating accuracy of this approach\n",
        "We are now going to try the distance function on the test (validation) set, and see how accurate the pixel similarity approach is.\n",
        "\n",
        "First, we are going to stack the tensors within the test set (also making sure to convert them into floats and divide by 255)"
      ]
    },
    {
      "cell_type": "code",
      "execution_count": null,
      "metadata": {
        "id": "wUnGY0lySHSZ"
      },
      "outputs": [],
      "source": [
        "test_stacked_numbers = {i: torch.stack(tensors).float() / 255 for i, tensors in testing_tensors.items()}"
      ]
    },
    {
      "cell_type": "markdown",
      "metadata": {
        "id": "UthERo4Yl13g"
      },
      "source": [
        "Now to get the accuracies for each different label, we will loop over every label, and then for each label and its stacked images, we will calculate the distance from its stacked images to every mean image. We can then calculate the minimum distance of those distances, and get how accurate it was overall."
      ]
    },
    {
      "cell_type": "code",
      "execution_count": null,
      "metadata": {
        "colab": {
          "base_uri": "https://localhost:8080/"
        },
        "id": "MZSecMmsSWfh",
        "outputId": "edf39e57-adc7-4e97-f1a2-f5a2f878c580"
      },
      "outputs": [
        {
          "output_type": "stream",
          "name": "stdout",
          "text": [
            "torch.Size([3])\n",
            "Label: 0 had an accuracy of: tensor(0.8153)\n",
            "Label: 1 had an accuracy of: tensor(0.9982)\n",
            "Label: 2 had an accuracy of: tensor(0.4234)\n",
            "Label: 3 had an accuracy of: tensor(0.6089)\n",
            "Label: 4 had an accuracy of: tensor(0.6680)\n",
            "Label: 5 had an accuracy of: tensor(0.3262)\n",
            "Label: 6 had an accuracy of: tensor(0.7871)\n",
            "Label: 7 had an accuracy of: tensor(0.7646)\n",
            "Label: 8 had an accuracy of: tensor(0.4425)\n",
            "Label: 9 had an accuracy of: tensor(0.7760)\n",
            "Overall accuracy: tensor(0.6610)\n"
          ]
        }
      ],
      "source": [
        "print(tensor([1, 2, 3]).shape)\n",
        "accuracies = []\n",
        "for i, stacked in test_stacked_numbers.items():\n",
        "  errs = [diff(stacked, mean_numbers[num]) for num in range(10)]\n",
        "  stacked_errs = torch.stack(errs)\n",
        "  min = stacked_errs.min(0)\n",
        "  acc = (tensor(i) == min.indices).float().mean()\n",
        "  print(\"Label:\", i, \"had an accuracy of:\", acc)\n",
        "  accuracies.append(acc)\n",
        "print(\"Overall accuracy:\", tensor(accuracies).mean())  "
      ]
    },
    {
      "cell_type": "markdown",
      "metadata": {
        "id": "zaSzKwB2tszS"
      },
      "source": [
        "# Modeling using Stochastic Gradient Descent (SGD)\n",
        "## Getting the training set\n",
        "We first combine all of the images and resize each of the images to be a vector instead of a matrix. And then for each of the labels, we create a 1x10 tensor representing the correct label. "
      ]
    },
    {
      "cell_type": "code",
      "execution_count": null,
      "metadata": {
        "colab": {
          "base_uri": "https://localhost:8080/"
        },
        "id": "HaHfe5o8s8e1",
        "outputId": "289bd2c6-8152-4de8-f91a-a428a43a8339"
      },
      "outputs": [
        {
          "output_type": "execute_result",
          "data": {
            "text/plain": [
              "(torch.Size([60000, 784]), torch.Size([60000, 10]))"
            ]
          },
          "metadata": {},
          "execution_count": 218
        }
      ],
      "source": [
        "train_x = torch.cat([stacked_numbers[i] for i in range(10)]).view(-1, 28*28)\n",
        "train_y = tensor([[1 if i == num else 0 for i in range(10)] for num, images in training_tensors.items() for _ in range(len(images))])\n",
        "train_x.shape, train_y.shape"
      ]
    },
    {
      "cell_type": "markdown",
      "metadata": {
        "id": "tNGxKXpaD45H"
      },
      "source": [
        "## Creating datasets\n",
        "A `Dataset` in PyTorch is required to return a tuple of (x,y) when indexed. Python provides a zip function which, when combined with list, provides a simple way to get this functionality:"
      ]
    },
    {
      "cell_type": "code",
      "execution_count": null,
      "metadata": {
        "colab": {
          "base_uri": "https://localhost:8080/"
        },
        "id": "QQK3OZ5aIT9H",
        "outputId": "734894ce-6dd4-4721-c754-a5132c338018"
      },
      "outputs": [
        {
          "output_type": "execute_result",
          "data": {
            "text/plain": [
              "(torch.Size([784]), tensor([1, 0, 0, 0, 0, 0, 0, 0, 0, 0]))"
            ]
          },
          "metadata": {},
          "execution_count": 219
        }
      ],
      "source": [
        "dset = list(zip(train_x, train_y))\n",
        "x,y = dset[0]\n",
        "x.shape,y"
      ]
    },
    {
      "cell_type": "markdown",
      "metadata": {
        "id": "Jvs3FTW91oK5"
      },
      "source": [
        "## Creating datasets for the tests\n",
        "We do the same thing as before except now for the training sets."
      ]
    },
    {
      "cell_type": "code",
      "execution_count": null,
      "metadata": {
        "colab": {
          "base_uri": "https://localhost:8080/"
        },
        "id": "cISzPcdpLPGc",
        "outputId": "aefb52fd-55b2-4425-e625-c4639b55f780"
      },
      "outputs": [
        {
          "output_type": "stream",
          "name": "stdout",
          "text": [
            "torch.Size([10000, 784]) torch.Size([10000, 10])\n"
          ]
        },
        {
          "output_type": "execute_result",
          "data": {
            "text/plain": [
              "(torch.Size([784]), tensor([1, 0, 0, 0, 0, 0, 0, 0, 0, 0]))"
            ]
          },
          "metadata": {},
          "execution_count": 220
        }
      ],
      "source": [
        "test_x = torch.cat([test_stacked_numbers[i] for i in range(10)]).view(-1, 28*28)\n",
        "test_y = tensor([[1 if i == num else 0 for i in range(10)] for num, images in testing_tensors.items() for _ in range(len(images))])\n",
        "print(test_x.shape, test_y.shape)\n",
        "test_dset = list(zip(test_x, test_y))\n",
        "x, y = test_dset[0]\n",
        "x.shape, y"
      ]
    },
    {
      "cell_type": "markdown",
      "source": [
        "# Creating / Training a Linear Model"
      ],
      "metadata": {
        "id": "b3IQDU5wxZQZ"
      }
    },
    {
      "cell_type": "markdown",
      "metadata": {
        "id": "I9bWYCSpvON4"
      },
      "source": [
        "## Defining the initial weights function\n",
        "Instantiates matrices full of random values of the given size"
      ]
    },
    {
      "cell_type": "code",
      "execution_count": null,
      "metadata": {
        "id": "NqMxxAZ1vQ6H"
      },
      "outputs": [],
      "source": [
        "def init_params(size, std=1.0): return (torch.randn(size)*std).requires_grad_()\n",
        "weights = init_params((28*28,10))\n",
        "bias = init_params(10)"
      ]
    },
    {
      "cell_type": "markdown",
      "metadata": {
        "id": "D8a9ykOFvmvW"
      },
      "source": [
        "## Creating linear perceptron model"
      ]
    },
    {
      "cell_type": "code",
      "execution_count": null,
      "metadata": {
        "colab": {
          "base_uri": "https://localhost:8080/"
        },
        "id": "c9nhpTHtvqTe",
        "outputId": "51bebf7e-f750-4796-e54d-7dec294c57c0"
      },
      "outputs": [
        {
          "output_type": "execute_result",
          "data": {
            "text/plain": [
              "(tensor([[  2.9148,   2.0788,  -3.7751,  ...,  -9.6422,  -3.5034,  -2.1119],\n",
              "         [  4.7848,  -5.7576,  -9.4797,  ...,  -4.7872,  -9.0003,  -7.4292],\n",
              "         [ 13.6202,  -1.7590,   0.0569,  ..., -13.3066, -11.7494, -11.7438],\n",
              "         ...,\n",
              "         [  2.4666, -11.6480,  -0.8789,  ...,  -9.9539,   1.2532, -14.9289],\n",
              "         [  8.6999,   4.4458,  10.2046,  ...,  -2.0210,  -0.3945, -11.4134],\n",
              "         [ 10.5432,  -5.3799,  -5.4897,  ...,   1.3866,   4.3778, -11.3147]], grad_fn=<AddBackward0>),\n",
              " torch.Size([60000, 10]))"
            ]
          },
          "metadata": {},
          "execution_count": 222
        }
      ],
      "source": [
        "def linear_model(xbatch): \n",
        "  return xbatch @ weights + bias\n",
        "preds = linear_model(train_x)\n",
        "preds, preds.shape"
      ]
    },
    {
      "cell_type": "markdown",
      "source": [
        "We need gradients in order to improve our model using SGD, and in order to calculate gradients we need some loss function that represents how good our model is. That is because the gradients are a measure of how that loss function changes with small tweaks to the weights.\n",
        "\n",
        "Instead of using the previous loss function, since there are multiple possible labels, we are going to use the cross entropy loss function, which measures the performance of a classification model whose output is a probability value between 0 and 1. Cross-entropy loss increases as the predicted probability diverges from the actual label."
      ],
      "metadata": {
        "id": "2MNE3HRizrB0"
      }
    },
    {
      "cell_type": "code",
      "execution_count": null,
      "metadata": {
        "id": "w5J7awv6yZm3"
      },
      "outputs": [],
      "source": [
        "def cross_entropy_loss(xbatch, ybatch):\n",
        "    probs = xbatch.softmax(dim=1)\n",
        "    loss = -(ybatch * probs.log()).sum() / len(probs)\n",
        "    return loss"
      ]
    },
    {
      "cell_type": "markdown",
      "metadata": {
        "id": "vEWePkx4bRYs"
      },
      "source": [
        "## Creating dataloaders"
      ]
    },
    {
      "cell_type": "markdown",
      "metadata": {
        "id": "jSsEr-H5yx3g"
      },
      "source": [
        "Now that we have a loss function that is suitable for driving SGD, we can consider some of the details involved in the next phase of the learning process, which is to change or update the weights based on the gradients. This is called an *optimization step*.\n",
        "\n",
        "In order to take an optimization step we need to calculate the loss over one or more data items. How many should we use? We could calculate it for the whole dataset, and take the average, or we could calculate it for a single data item. But neither of these is ideal. Calculating it for the whole dataset would take a very long time. Calculating it for a single item would not use much information, so it would result in a very imprecise and unstable gradient. That is, you'd be going to the trouble of updating the weights, but taking into account only how that would improve the model's performance on that single item.\n",
        "\n",
        "So instead we take a compromise between the two: we calculate the average loss for a few data items at a time. This is called a *mini-batch*. The number of data items in the mini-batch is called the *batch size*. A larger batch size means that you will get a more accurate and stable estimate of your dataset's gradients from the loss function, but it will take longer, and you will process fewer mini-batches per epoch. \n",
        "\n",
        "We get better generalization if we can vary things during training. One simple and effective thing we can vary is what data items we put in each mini-batch. Rather than simply enumerating our dataset in order for every epoch, instead what we normally do is randomly shuffle it on every epoch, before we create mini-batches. PyTorch and fastai provide a class that will do the shuffling and mini-batch collation for you, called `DataLoader`.\n",
        "\n",
        "A `DataLoader` can take any Python collection and turn it into an iterator over mini-batches, like so:\n",
        "\n",
        "When we pass a `Dataset` to a `DataLoader` we will get back mini-batches which are themselves tuples of tensors representing batches of independent and dependent variables:"
      ]
    },
    {
      "cell_type": "code",
      "execution_count": null,
      "metadata": {
        "colab": {
          "base_uri": "https://localhost:8080/"
        },
        "id": "9k9egtpIL0Vl",
        "outputId": "144da9e5-221e-41bd-b94e-bc1ad0f8fb14"
      },
      "outputs": [
        {
          "output_type": "execute_result",
          "data": {
            "text/plain": [
              "(torch.Size([64, 784]), torch.Size([64, 10]))"
            ]
          },
          "metadata": {},
          "execution_count": 224
        }
      ],
      "source": [
        "dl = DataLoader(dset, batch_size = 64)\n",
        "test_dl = DataLoader(test_dset, batch_size = 64)\n",
        "a_batch = first(dl)\n",
        "a_batch[0].shape, a_batch[1].shape"
      ]
    },
    {
      "cell_type": "markdown",
      "metadata": {
        "id": "LsThGFFz9g0N"
      },
      "source": [
        "Getting the loss of the sample batch versus the actual labels"
      ]
    },
    {
      "cell_type": "code",
      "execution_count": null,
      "metadata": {
        "colab": {
          "base_uri": "https://localhost:8080/"
        },
        "id": "8ZZsGEWI3Ua7",
        "outputId": "adc0cc84-62f4-4add-eb18-526e1ca462ee"
      },
      "outputs": [
        {
          "output_type": "execute_result",
          "data": {
            "text/plain": [
              "tensor(11.0960, grad_fn=<DivBackward0>)"
            ]
          },
          "metadata": {},
          "execution_count": 225
        }
      ],
      "source": [
        "images, labels = a_batch\n",
        "preds = linear_model(images)\n",
        "loss = cross_entropy_loss(preds, labels)\n",
        "loss"
      ]
    },
    {
      "cell_type": "markdown",
      "metadata": {
        "id": "6oT6zfT39lYF"
      },
      "source": [
        "Back propagate the loss to update the weights and bias, making sure to reset the gradients to zero with `.grad.zero_()` since `loss.backward` actually adds the gradients of loss to any gradients that are currently stored."
      ]
    },
    {
      "cell_type": "code",
      "execution_count": null,
      "metadata": {
        "colab": {
          "base_uri": "https://localhost:8080/"
        },
        "id": "sllWfnEi8xrt",
        "outputId": "63938d50-2dae-4f2e-b775-ad1a23a875aa"
      },
      "outputs": [
        {
          "output_type": "execute_result",
          "data": {
            "text/plain": [
              "tensor(10.9900, grad_fn=<DivBackward0>)"
            ]
          },
          "metadata": {},
          "execution_count": 226
        }
      ],
      "source": [
        "loss.backward()\n",
        "lr = 1e-3\n",
        "weights.data -= weights.grad * lr\n",
        "bias.data -= bias.grad * lr\n",
        "weights.grad.zero_()\n",
        "bias.grad.zero_();\n",
        "preds = linear_model(images)\n",
        "loss = cross_entropy_loss(preds, labels)\n",
        "loss"
      ]
    },
    {
      "cell_type": "markdown",
      "metadata": {
        "id": "kZhQGdxkzZfA"
      },
      "source": [
        "Calculating / updating gradients"
      ]
    },
    {
      "cell_type": "code",
      "execution_count": null,
      "metadata": {
        "id": "ILj5EgHSzauA"
      },
      "outputs": [],
      "source": [
        "def calc_grad(xbatch, ybatch, model):\n",
        "    preds = model(xbatch)\n",
        "    loss = cross_entropy_loss(preds, ybatch)\n",
        "    loss.backward()"
      ]
    },
    {
      "cell_type": "markdown",
      "source": [
        "Calculating the accuracy for a batch, by taking the predictions, seeing which prediction was highest, and assuming that was the classification from the model. Then it compares the highest prediction, to the actual label (which will be the greatest value in the tensor) and checking the accuracy."
      ],
      "metadata": {
        "id": "Os07Jmh8zVr3"
      }
    },
    {
      "cell_type": "code",
      "execution_count": null,
      "metadata": {
        "id": "OSzvjP0Nz1mI"
      },
      "outputs": [],
      "source": [
        "def batch_accuracy(xpreds, ybatch):\n",
        "    return (xpreds.max(1).indices == ybatch.max(1).indices).float().mean()"
      ]
    },
    {
      "cell_type": "markdown",
      "source": [
        "Creating a function that measures the overall accuracy by going through each batch in the validation dataloader and getting that batches' accuracy."
      ],
      "metadata": {
        "id": "6PId4cl1fKVs"
      }
    },
    {
      "cell_type": "code",
      "execution_count": null,
      "metadata": {
        "colab": {
          "base_uri": "https://localhost:8080/"
        },
        "id": "k0-ntyyR0H9I",
        "outputId": "6d2a6775-62d2-4f22-e51d-77c29a159b81"
      },
      "outputs": [
        {
          "output_type": "execute_result",
          "data": {
            "text/plain": [
              "0.0699"
            ]
          },
          "metadata": {},
          "execution_count": 229
        }
      ],
      "source": [
        "def validate_epoch(model):\n",
        "  accs = [batch_accuracy(model(xbatch), ybatch) for xbatch, ybatch in test_dl]\n",
        "  return round(torch.stack(accs).mean().item(), 4)\n",
        "validate_epoch(linear_model)"
      ]
    },
    {
      "cell_type": "markdown",
      "metadata": {
        "id": "4SZ7UVoN16H6"
      },
      "source": [
        "Check to see if the accuracy increases after training for one epoch"
      ]
    },
    {
      "cell_type": "code",
      "execution_count": null,
      "metadata": {
        "id": "f3h4o7rxzplA"
      },
      "outputs": [],
      "source": [
        "def train_epoch(model, lr, params):\n",
        "    for xbatch, ybatch in dl:\n",
        "        calc_grad(xbatch, ybatch, model)\n",
        "        for p in params:\n",
        "            p.data -= p.grad * lr\n",
        "            p.grad.zero_()          "
      ]
    },
    {
      "cell_type": "code",
      "execution_count": null,
      "metadata": {
        "colab": {
          "base_uri": "https://localhost:8080/"
        },
        "id": "THm-hY9x17jq",
        "outputId": "aee54825-e49c-4113-d5ca-1d042628eb33"
      },
      "outputs": [
        {
          "output_type": "execute_result",
          "data": {
            "text/plain": [
              "0.0973"
            ]
          },
          "metadata": {},
          "execution_count": 231
        }
      ],
      "source": [
        "lr = 1e-3\n",
        "params = weights, bias\n",
        "train_epoch(linear_model, lr, params)\n",
        "validate_epoch(linear_model)"
      ]
    },
    {
      "cell_type": "markdown",
      "metadata": {
        "id": "qfTxixdB2Iv6"
      },
      "source": [
        "You can see that the accuracy increased, so let's continue training the model"
      ]
    },
    {
      "cell_type": "code",
      "execution_count": null,
      "metadata": {
        "colab": {
          "base_uri": "https://localhost:8080/"
        },
        "id": "bwyjZzGz2KHS",
        "outputId": "e9e76327-f3a3-4d9f-bf73-e2b7759853dd"
      },
      "outputs": [
        {
          "output_type": "stream",
          "name": "stdout",
          "text": [
            "0.1241 0.1503 0.1794 0.2129 0.2501 0.2886 0.3245 0.3564 0.3891 0.4189 0.4426 0.4668 0.483 0.5005 0.5175 0.532 0.5454 0.5574 0.5703 0.5824 0.5941 0.6038 0.6131 0.6201 0.6278 0.6367 0.6435 0.6488 0.6541 0.6607 0.6654 0.6697 0.6747 0.6792 0.6838 0.6882 0.6912 0.6955 0.7001 0.7027 "
          ]
        }
      ],
      "source": [
        "for i in range(40):\n",
        "    train_epoch(linear_model, lr, params)\n",
        "    print(validate_epoch(linear_model), end=' ')"
      ]
    },
    {
      "cell_type": "markdown",
      "metadata": {
        "id": "qufRLBG4N9hT"
      },
      "source": [
        "# Creating an Optimizer"
      ]
    },
    {
      "cell_type": "markdown",
      "metadata": {
        "id": "NLgeFTsbOKhC"
      },
      "source": [
        "Our next step will be to create an object that will handle the SGD step for us. In PyTorch, it's called an *optimizer*. First, we are going to replace our model with PyTorch's `nn.Linear` module, which does the same thing as our `init_params` and `linear_model` together"
      ]
    },
    {
      "cell_type": "code",
      "execution_count": null,
      "metadata": {
        "id": "OZcNrgh9N_4v"
      },
      "outputs": [],
      "source": [
        "linear_model = nn.Linear(28 * 28, 10)"
      ]
    },
    {
      "cell_type": "markdown",
      "source": [
        "Every PyTorch module knows what parameters it has that can be trained; they are available through the `parameters` method:"
      ],
      "metadata": {
        "id": "fWIUNb7B1hPw"
      }
    },
    {
      "cell_type": "code",
      "source": [
        "w, b = linear_model.parameters()\n",
        "w.shape, b.shape"
      ],
      "metadata": {
        "colab": {
          "base_uri": "https://localhost:8080/"
        },
        "id": "SQwX4fCu1h0Z",
        "outputId": "25833b89-7537-4089-cba4-1dc82d3a5d72"
      },
      "execution_count": null,
      "outputs": [
        {
          "output_type": "execute_result",
          "data": {
            "text/plain": [
              "(torch.Size([10, 784]), torch.Size([10]))"
            ]
          },
          "metadata": {},
          "execution_count": 234
        }
      ]
    },
    {
      "cell_type": "markdown",
      "metadata": {
        "id": "Kdj3FCZqOpam"
      },
      "source": [
        "We can then use the `SGD` class provided by fastai"
      ]
    },
    {
      "cell_type": "code",
      "execution_count": null,
      "metadata": {
        "id": "_PyUNHYkOsv2"
      },
      "outputs": [],
      "source": [
        "opt = SGD(linear_model.parameters(), lr)"
      ]
    },
    {
      "cell_type": "markdown",
      "source": [
        "And simplify our previous functions to be:"
      ],
      "metadata": {
        "id": "HJLmUncx1xeJ"
      }
    },
    {
      "cell_type": "code",
      "execution_count": null,
      "metadata": {
        "id": "QBcoM29xO3R6"
      },
      "outputs": [],
      "source": [
        "def train_epoch(model):\n",
        "    for xbatch, ybatch in dl:\n",
        "        calc_grad(xbatch, ybatch, model)\n",
        "        opt.step()\n",
        "        opt.zero_grad()"
      ]
    },
    {
      "cell_type": "code",
      "execution_count": null,
      "metadata": {
        "id": "iqMXm_CwO6SY"
      },
      "outputs": [],
      "source": [
        "def train_model(model, epochs):\n",
        "    for i in range(epochs):\n",
        "        train_epoch(model)\n",
        "        print(validate_epoch(model), end=' ')"
      ]
    },
    {
      "cell_type": "code",
      "execution_count": null,
      "metadata": {
        "colab": {
          "base_uri": "https://localhost:8080/"
        },
        "id": "2OkNpmtKO7C4",
        "outputId": "93b822ac-50ba-4187-ba11-3104fa9c309a"
      },
      "outputs": [
        {
          "output_type": "stream",
          "name": "stdout",
          "text": [
            "0.1381 0.368 0.5212 0.6048 0.6658 0.708 0.7376 0.7598 0.7765 0.7905 0.801 0.8105 0.8183 0.8265 0.8314 0.837 0.8413 0.8453 0.8495 0.852 "
          ]
        }
      ],
      "source": [
        "train_model(linear_model, 20)"
      ]
    },
    {
      "cell_type": "markdown",
      "metadata": {
        "id": "qGJAHMOoPVNf"
      },
      "source": [
        "We can also use fastai's `Learner.fit` which takes in a `DataLoaders` object"
      ]
    },
    {
      "cell_type": "code",
      "execution_count": null,
      "metadata": {
        "id": "bG9bErwiPQSd"
      },
      "outputs": [],
      "source": [
        "dls = DataLoaders(dl, test_dl)"
      ]
    },
    {
      "cell_type": "markdown",
      "metadata": {
        "id": "-fO5FhznPbWl"
      },
      "source": [
        "To create a `Learner` we need to pass in all the elements that we've created in this chapter: the `DataLoaders`, the model, the optimization function (which will be passed the parameters), the loss function, and optionally any metrics to print:"
      ]
    },
    {
      "cell_type": "code",
      "execution_count": null,
      "metadata": {
        "id": "TvUUoi23PkW0"
      },
      "outputs": [],
      "source": [
        "linear_model = nn.Linear(28 * 28, 10)\n",
        "learn = Learner(dls, linear_model, opt_func = SGD,\n",
        "                loss_func = cross_entropy_loss, metrics = batch_accuracy)"
      ]
    },
    {
      "cell_type": "code",
      "execution_count": null,
      "metadata": {
        "colab": {
          "base_uri": "https://localhost:8080/",
          "height": 677
        },
        "id": "4UL8pjp5PrNU",
        "outputId": "7390192e-179f-4f32-c5c8-dd9719e6d9db"
      },
      "outputs": [
        {
          "output_type": "display_data",
          "data": {
            "text/plain": [
              "<IPython.core.display.HTML object>"
            ],
            "text/html": [
              "\n",
              "<style>\n",
              "    /* Turns off some styling */\n",
              "    progress {\n",
              "        /* gets rid of default border in Firefox and Opera. */\n",
              "        border: none;\n",
              "        /* Needs to be in here for Safari polyfill so background images work as expected. */\n",
              "        background-size: auto;\n",
              "    }\n",
              "    .progress-bar-interrupted, .progress-bar-interrupted::-webkit-progress-bar {\n",
              "        background: #F44336;\n",
              "    }\n",
              "</style>\n"
            ]
          },
          "metadata": {}
        },
        {
          "output_type": "display_data",
          "data": {
            "text/plain": [
              "<IPython.core.display.HTML object>"
            ],
            "text/html": [
              "<table border=\"1\" class=\"dataframe\">\n",
              "  <thead>\n",
              "    <tr style=\"text-align: left;\">\n",
              "      <th>epoch</th>\n",
              "      <th>train_loss</th>\n",
              "      <th>valid_loss</th>\n",
              "      <th>batch_accuracy</th>\n",
              "      <th>time</th>\n",
              "    </tr>\n",
              "  </thead>\n",
              "  <tbody>\n",
              "    <tr>\n",
              "      <td>0</td>\n",
              "      <td>1.451393</td>\n",
              "      <td>1.984994</td>\n",
              "      <td>0.131000</td>\n",
              "      <td>00:02</td>\n",
              "    </tr>\n",
              "    <tr>\n",
              "      <td>1</td>\n",
              "      <td>1.080089</td>\n",
              "      <td>1.599484</td>\n",
              "      <td>0.382700</td>\n",
              "      <td>00:02</td>\n",
              "    </tr>\n",
              "    <tr>\n",
              "      <td>2</td>\n",
              "      <td>0.944222</td>\n",
              "      <td>1.323168</td>\n",
              "      <td>0.524600</td>\n",
              "      <td>00:02</td>\n",
              "    </tr>\n",
              "    <tr>\n",
              "      <td>3</td>\n",
              "      <td>0.859160</td>\n",
              "      <td>1.142235</td>\n",
              "      <td>0.611300</td>\n",
              "      <td>00:02</td>\n",
              "    </tr>\n",
              "    <tr>\n",
              "      <td>4</td>\n",
              "      <td>0.799193</td>\n",
              "      <td>1.016727</td>\n",
              "      <td>0.671400</td>\n",
              "      <td>00:02</td>\n",
              "    </tr>\n",
              "    <tr>\n",
              "      <td>5</td>\n",
              "      <td>0.754325</td>\n",
              "      <td>0.924877</td>\n",
              "      <td>0.708500</td>\n",
              "      <td>00:02</td>\n",
              "    </tr>\n",
              "    <tr>\n",
              "      <td>6</td>\n",
              "      <td>0.719321</td>\n",
              "      <td>0.854779</td>\n",
              "      <td>0.737300</td>\n",
              "      <td>00:02</td>\n",
              "    </tr>\n",
              "    <tr>\n",
              "      <td>7</td>\n",
              "      <td>0.691129</td>\n",
              "      <td>0.799497</td>\n",
              "      <td>0.759200</td>\n",
              "      <td>00:02</td>\n",
              "    </tr>\n",
              "    <tr>\n",
              "      <td>8</td>\n",
              "      <td>0.667852</td>\n",
              "      <td>0.754745</td>\n",
              "      <td>0.775100</td>\n",
              "      <td>00:02</td>\n",
              "    </tr>\n",
              "    <tr>\n",
              "      <td>9</td>\n",
              "      <td>0.648246</td>\n",
              "      <td>0.717744</td>\n",
              "      <td>0.790400</td>\n",
              "      <td>00:03</td>\n",
              "    </tr>\n",
              "    <tr>\n",
              "      <td>10</td>\n",
              "      <td>0.631462</td>\n",
              "      <td>0.686612</td>\n",
              "      <td>0.801900</td>\n",
              "      <td>00:02</td>\n",
              "    </tr>\n",
              "    <tr>\n",
              "      <td>11</td>\n",
              "      <td>0.616897</td>\n",
              "      <td>0.660032</td>\n",
              "      <td>0.810500</td>\n",
              "      <td>00:02</td>\n",
              "    </tr>\n",
              "    <tr>\n",
              "      <td>12</td>\n",
              "      <td>0.604112</td>\n",
              "      <td>0.637055</td>\n",
              "      <td>0.818700</td>\n",
              "      <td>00:02</td>\n",
              "    </tr>\n",
              "    <tr>\n",
              "      <td>13</td>\n",
              "      <td>0.592781</td>\n",
              "      <td>0.616981</td>\n",
              "      <td>0.825500</td>\n",
              "      <td>00:02</td>\n",
              "    </tr>\n",
              "    <tr>\n",
              "      <td>14</td>\n",
              "      <td>0.582651</td>\n",
              "      <td>0.599278</td>\n",
              "      <td>0.832500</td>\n",
              "      <td>00:02</td>\n",
              "    </tr>\n",
              "    <tr>\n",
              "      <td>15</td>\n",
              "      <td>0.573529</td>\n",
              "      <td>0.583539</td>\n",
              "      <td>0.838100</td>\n",
              "      <td>00:02</td>\n",
              "    </tr>\n",
              "    <tr>\n",
              "      <td>16</td>\n",
              "      <td>0.565258</td>\n",
              "      <td>0.569446</td>\n",
              "      <td>0.843000</td>\n",
              "      <td>00:02</td>\n",
              "    </tr>\n",
              "    <tr>\n",
              "      <td>17</td>\n",
              "      <td>0.557717</td>\n",
              "      <td>0.556746</td>\n",
              "      <td>0.846300</td>\n",
              "      <td>00:02</td>\n",
              "    </tr>\n",
              "    <tr>\n",
              "      <td>18</td>\n",
              "      <td>0.550805</td>\n",
              "      <td>0.545236</td>\n",
              "      <td>0.849900</td>\n",
              "      <td>00:02</td>\n",
              "    </tr>\n",
              "    <tr>\n",
              "      <td>19</td>\n",
              "      <td>0.544439</td>\n",
              "      <td>0.534750</td>\n",
              "      <td>0.852700</td>\n",
              "      <td>00:02</td>\n",
              "    </tr>\n",
              "  </tbody>\n",
              "</table>"
            ]
          },
          "metadata": {}
        }
      ],
      "source": [
        "learn.fit(20, lr=lr)"
      ]
    },
    {
      "cell_type": "markdown",
      "metadata": {
        "id": "3tSJMpOfP8Xf"
      },
      "source": [
        "# Adding Non-Linearity"
      ]
    },
    {
      "cell_type": "markdown",
      "source": [
        "So far we have a general procedure for optimizing the parameters of a function, and we have tried it out on a very boring function: a simple linear classifier. A linear classifier is very constrained in terms of what it can do. To make it a bit more complex (and able to handle more tasks), we need to add something nonlinear between two linear classifiers—this is what gives us a neural network."
      ],
      "metadata": {
        "id": "h4ExfZzc24sh"
      }
    },
    {
      "cell_type": "code",
      "execution_count": null,
      "metadata": {
        "id": "WEnQ24_9QTYY"
      },
      "outputs": [],
      "source": [
        "simple_net = nn.Sequential(\n",
        "    nn.Linear(28*28,120),\n",
        "    nn.ReLU(),\n",
        "    nn.Linear(120,10)\n",
        ")"
      ]
    },
    {
      "cell_type": "markdown",
      "metadata": {
        "id": "esVG0zhLQtT1"
      },
      "source": [
        "`nn.Sequential` creates a module that will call each of the listed layers or functions in turn.\n",
        "\n",
        "`nn.ReLU` is a PyTorch module that refers to the *rectified linear unit*  function (just replacing negative numbers with 0), and is the *non-linearity* or *activation function* that allows for multiple distinct layers.\n",
        "\n",
        "The basic idea is that by using more linear layers, we can have our model do more computation, and therefore model more complex functions. But there's no point just putting one linear layer directly after another one, because when we multiply things together and then add them up multiple times, that could be replaced by multiplying different things together and adding them up just once! That is to say, a series of any number of linear layers in a row can be replaced with a single linear layer with a different set of parameters.\n",
        "\n",
        "But if we put a nonlinear function between them, such as `max`, then this is no longer true. Now each linear layer is actually somewhat decoupled from the other ones, and can do its own useful work.\n",
        "\n",
        "Now we can recreate the `Learner` object with the new neural network."
      ]
    },
    {
      "cell_type": "code",
      "execution_count": null,
      "metadata": {
        "colab": {
          "base_uri": "https://localhost:8080/",
          "height": 1000
        },
        "id": "5zPcb_0tQyEz",
        "outputId": "e9fc3d74-3d6e-421d-a054-5fb8ab85f1d6"
      },
      "outputs": [
        {
          "output_type": "display_data",
          "data": {
            "text/plain": [
              "<IPython.core.display.HTML object>"
            ],
            "text/html": [
              "\n",
              "<style>\n",
              "    /* Turns off some styling */\n",
              "    progress {\n",
              "        /* gets rid of default border in Firefox and Opera. */\n",
              "        border: none;\n",
              "        /* Needs to be in here for Safari polyfill so background images work as expected. */\n",
              "        background-size: auto;\n",
              "    }\n",
              "    .progress-bar-interrupted, .progress-bar-interrupted::-webkit-progress-bar {\n",
              "        background: #F44336;\n",
              "    }\n",
              "</style>\n"
            ]
          },
          "metadata": {}
        },
        {
          "output_type": "display_data",
          "data": {
            "text/plain": [
              "<IPython.core.display.HTML object>"
            ],
            "text/html": [
              "<table border=\"1\" class=\"dataframe\">\n",
              "  <thead>\n",
              "    <tr style=\"text-align: left;\">\n",
              "      <th>epoch</th>\n",
              "      <th>train_loss</th>\n",
              "      <th>valid_loss</th>\n",
              "      <th>batch_accuracy</th>\n",
              "      <th>time</th>\n",
              "    </tr>\n",
              "  </thead>\n",
              "  <tbody>\n",
              "    <tr>\n",
              "      <td>0</td>\n",
              "      <td>2.143113</td>\n",
              "      <td>2.146945</td>\n",
              "      <td>0.191500</td>\n",
              "      <td>00:07</td>\n",
              "    </tr>\n",
              "    <tr>\n",
              "      <td>1</td>\n",
              "      <td>1.675615</td>\n",
              "      <td>2.010267</td>\n",
              "      <td>0.170800</td>\n",
              "      <td>00:05</td>\n",
              "    </tr>\n",
              "    <tr>\n",
              "      <td>2</td>\n",
              "      <td>1.246457</td>\n",
              "      <td>1.871180</td>\n",
              "      <td>0.198200</td>\n",
              "      <td>00:03</td>\n",
              "    </tr>\n",
              "    <tr>\n",
              "      <td>3</td>\n",
              "      <td>0.955639</td>\n",
              "      <td>1.706980</td>\n",
              "      <td>0.299600</td>\n",
              "      <td>00:03</td>\n",
              "    </tr>\n",
              "    <tr>\n",
              "      <td>4</td>\n",
              "      <td>0.780574</td>\n",
              "      <td>1.545822</td>\n",
              "      <td>0.376800</td>\n",
              "      <td>00:03</td>\n",
              "    </tr>\n",
              "    <tr>\n",
              "      <td>5</td>\n",
              "      <td>0.671338</td>\n",
              "      <td>1.409739</td>\n",
              "      <td>0.423900</td>\n",
              "      <td>00:03</td>\n",
              "    </tr>\n",
              "    <tr>\n",
              "      <td>6</td>\n",
              "      <td>0.598535</td>\n",
              "      <td>1.299825</td>\n",
              "      <td>0.458200</td>\n",
              "      <td>00:03</td>\n",
              "    </tr>\n",
              "    <tr>\n",
              "      <td>7</td>\n",
              "      <td>0.547054</td>\n",
              "      <td>1.210941</td>\n",
              "      <td>0.491300</td>\n",
              "      <td>00:03</td>\n",
              "    </tr>\n",
              "    <tr>\n",
              "      <td>8</td>\n",
              "      <td>0.508819</td>\n",
              "      <td>1.137637</td>\n",
              "      <td>0.520000</td>\n",
              "      <td>00:03</td>\n",
              "    </tr>\n",
              "    <tr>\n",
              "      <td>9</td>\n",
              "      <td>0.479227</td>\n",
              "      <td>1.076136</td>\n",
              "      <td>0.547700</td>\n",
              "      <td>00:03</td>\n",
              "    </tr>\n",
              "    <tr>\n",
              "      <td>10</td>\n",
              "      <td>0.455572</td>\n",
              "      <td>1.023609</td>\n",
              "      <td>0.572600</td>\n",
              "      <td>00:03</td>\n",
              "    </tr>\n",
              "    <tr>\n",
              "      <td>11</td>\n",
              "      <td>0.436203</td>\n",
              "      <td>0.978012</td>\n",
              "      <td>0.596600</td>\n",
              "      <td>00:03</td>\n",
              "    </tr>\n",
              "    <tr>\n",
              "      <td>12</td>\n",
              "      <td>0.419993</td>\n",
              "      <td>0.937948</td>\n",
              "      <td>0.613900</td>\n",
              "      <td>00:03</td>\n",
              "    </tr>\n",
              "    <tr>\n",
              "      <td>13</td>\n",
              "      <td>0.406257</td>\n",
              "      <td>0.902389</td>\n",
              "      <td>0.631200</td>\n",
              "      <td>00:03</td>\n",
              "    </tr>\n",
              "    <tr>\n",
              "      <td>14</td>\n",
              "      <td>0.394390</td>\n",
              "      <td>0.870632</td>\n",
              "      <td>0.644400</td>\n",
              "      <td>00:03</td>\n",
              "    </tr>\n",
              "    <tr>\n",
              "      <td>15</td>\n",
              "      <td>0.384027</td>\n",
              "      <td>0.842032</td>\n",
              "      <td>0.657600</td>\n",
              "      <td>00:03</td>\n",
              "    </tr>\n",
              "    <tr>\n",
              "      <td>16</td>\n",
              "      <td>0.374923</td>\n",
              "      <td>0.816116</td>\n",
              "      <td>0.670400</td>\n",
              "      <td>00:03</td>\n",
              "    </tr>\n",
              "    <tr>\n",
              "      <td>17</td>\n",
              "      <td>0.366875</td>\n",
              "      <td>0.792493</td>\n",
              "      <td>0.682600</td>\n",
              "      <td>00:03</td>\n",
              "    </tr>\n",
              "    <tr>\n",
              "      <td>18</td>\n",
              "      <td>0.359678</td>\n",
              "      <td>0.770895</td>\n",
              "      <td>0.692300</td>\n",
              "      <td>00:03</td>\n",
              "    </tr>\n",
              "    <tr>\n",
              "      <td>19</td>\n",
              "      <td>0.353210</td>\n",
              "      <td>0.751089</td>\n",
              "      <td>0.703700</td>\n",
              "      <td>00:03</td>\n",
              "    </tr>\n",
              "    <tr>\n",
              "      <td>20</td>\n",
              "      <td>0.347382</td>\n",
              "      <td>0.732829</td>\n",
              "      <td>0.713300</td>\n",
              "      <td>00:03</td>\n",
              "    </tr>\n",
              "    <tr>\n",
              "      <td>21</td>\n",
              "      <td>0.342102</td>\n",
              "      <td>0.715943</td>\n",
              "      <td>0.721300</td>\n",
              "      <td>00:03</td>\n",
              "    </tr>\n",
              "    <tr>\n",
              "      <td>22</td>\n",
              "      <td>0.337271</td>\n",
              "      <td>0.700304</td>\n",
              "      <td>0.728400</td>\n",
              "      <td>00:03</td>\n",
              "    </tr>\n",
              "    <tr>\n",
              "      <td>23</td>\n",
              "      <td>0.332852</td>\n",
              "      <td>0.685789</td>\n",
              "      <td>0.735200</td>\n",
              "      <td>00:03</td>\n",
              "    </tr>\n",
              "    <tr>\n",
              "      <td>24</td>\n",
              "      <td>0.328779</td>\n",
              "      <td>0.672254</td>\n",
              "      <td>0.740000</td>\n",
              "      <td>00:03</td>\n",
              "    </tr>\n",
              "    <tr>\n",
              "      <td>25</td>\n",
              "      <td>0.325037</td>\n",
              "      <td>0.659624</td>\n",
              "      <td>0.747100</td>\n",
              "      <td>00:03</td>\n",
              "    </tr>\n",
              "    <tr>\n",
              "      <td>26</td>\n",
              "      <td>0.321569</td>\n",
              "      <td>0.647778</td>\n",
              "      <td>0.752900</td>\n",
              "      <td>00:04</td>\n",
              "    </tr>\n",
              "    <tr>\n",
              "      <td>27</td>\n",
              "      <td>0.318372</td>\n",
              "      <td>0.636648</td>\n",
              "      <td>0.758600</td>\n",
              "      <td>00:03</td>\n",
              "    </tr>\n",
              "    <tr>\n",
              "      <td>28</td>\n",
              "      <td>0.315362</td>\n",
              "      <td>0.626194</td>\n",
              "      <td>0.763000</td>\n",
              "      <td>00:03</td>\n",
              "    </tr>\n",
              "    <tr>\n",
              "      <td>29</td>\n",
              "      <td>0.312566</td>\n",
              "      <td>0.616326</td>\n",
              "      <td>0.768900</td>\n",
              "      <td>00:03</td>\n",
              "    </tr>\n",
              "    <tr>\n",
              "      <td>30</td>\n",
              "      <td>0.309946</td>\n",
              "      <td>0.607017</td>\n",
              "      <td>0.773100</td>\n",
              "      <td>00:03</td>\n",
              "    </tr>\n",
              "    <tr>\n",
              "      <td>31</td>\n",
              "      <td>0.307483</td>\n",
              "      <td>0.598219</td>\n",
              "      <td>0.778600</td>\n",
              "      <td>00:03</td>\n",
              "    </tr>\n",
              "    <tr>\n",
              "      <td>32</td>\n",
              "      <td>0.305146</td>\n",
              "      <td>0.589884</td>\n",
              "      <td>0.781900</td>\n",
              "      <td>00:03</td>\n",
              "    </tr>\n",
              "    <tr>\n",
              "      <td>33</td>\n",
              "      <td>0.302952</td>\n",
              "      <td>0.581964</td>\n",
              "      <td>0.785800</td>\n",
              "      <td>00:03</td>\n",
              "    </tr>\n",
              "    <tr>\n",
              "      <td>34</td>\n",
              "      <td>0.300887</td>\n",
              "      <td>0.574440</td>\n",
              "      <td>0.790200</td>\n",
              "      <td>00:03</td>\n",
              "    </tr>\n",
              "    <tr>\n",
              "      <td>35</td>\n",
              "      <td>0.298906</td>\n",
              "      <td>0.567254</td>\n",
              "      <td>0.792900</td>\n",
              "      <td>00:03</td>\n",
              "    </tr>\n",
              "    <tr>\n",
              "      <td>36</td>\n",
              "      <td>0.297031</td>\n",
              "      <td>0.560388</td>\n",
              "      <td>0.795900</td>\n",
              "      <td>00:03</td>\n",
              "    </tr>\n",
              "    <tr>\n",
              "      <td>37</td>\n",
              "      <td>0.295269</td>\n",
              "      <td>0.553819</td>\n",
              "      <td>0.798900</td>\n",
              "      <td>00:03</td>\n",
              "    </tr>\n",
              "    <tr>\n",
              "      <td>38</td>\n",
              "      <td>0.293579</td>\n",
              "      <td>0.547549</td>\n",
              "      <td>0.801700</td>\n",
              "      <td>00:03</td>\n",
              "    </tr>\n",
              "    <tr>\n",
              "      <td>39</td>\n",
              "      <td>0.291956</td>\n",
              "      <td>0.541560</td>\n",
              "      <td>0.804400</td>\n",
              "      <td>00:03</td>\n",
              "    </tr>\n",
              "  </tbody>\n",
              "</table>"
            ]
          },
          "metadata": {}
        }
      ],
      "source": [
        "learn = Learner(dls, simple_net, opt_func = SGD,\n",
        "                loss_func = cross_entropy_loss, metrics = batch_accuracy)\n",
        "learn.fit(40, lr)"
      ]
    },
    {
      "cell_type": "markdown",
      "metadata": {
        "id": "7-zjJovDRISz"
      },
      "source": [
        "View accuracy as a graph"
      ]
    },
    {
      "cell_type": "code",
      "execution_count": null,
      "metadata": {
        "colab": {
          "base_uri": "https://localhost:8080/",
          "height": 265
        },
        "id": "65hzgN7QRJy0",
        "outputId": "9f20360c-cbfa-4024-f778-b1b484057b89"
      },
      "outputs": [
        {
          "output_type": "display_data",
          "data": {
            "text/plain": [
              "<Figure size 432x288 with 1 Axes>"
            ],
            "image/png": "[encoded data removed]"
          },
          "metadata": {
            "needs_background": "light"
          }
        }
      ],
      "source": [
        "plt.plot(L(learn.recorder.values).itemgot(2));"
      ]
    },
    {
      "cell_type": "markdown",
      "metadata": {
        "id": "8z47eL21RbYw"
      },
      "source": [
        "Viewing final accuracy"
      ]
    },
    {
      "cell_type": "code",
      "execution_count": null,
      "metadata": {
        "colab": {
          "base_uri": "https://localhost:8080/"
        },
        "id": "GaBp3JuCRcWa",
        "outputId": "8bb0fea0-ec00-40fe-b2ce-87d3b696bec6"
      },
      "outputs": [
        {
          "output_type": "execute_result",
          "data": {
            "text/plain": [
              "0.8044000267982483"
            ]
          },
          "metadata": {},
          "execution_count": 245
        }
      ],
      "source": [
        "learn.recorder.values[-1][2]"
      ]
    },
    {
      "cell_type": "markdown",
      "metadata": {
        "id": "M9OF9V_Ebi49"
      },
      "source": [
        "# Using resnet18"
      ]
    },
    {
      "cell_type": "markdown",
      "source": [
        "Resnet is an 18-layer model which we can use to see how fast our model can accurately model the validation set."
      ],
      "metadata": {
        "id": "6IFx8F44fj6S"
      }
    },
    {
      "cell_type": "code",
      "execution_count": null,
      "metadata": {
        "id": "tdBvSLcT5jIc"
      },
      "outputs": [],
      "source": [
        "dls = ImageDataLoaders.from_folder(path, train='training', valid='testing')\n",
        "\n"
      ]
    },
    {
      "cell_type": "code",
      "execution_count": null,
      "metadata": {
        "colab": {
          "base_uri": "https://localhost:8080/",
          "height": 81
        },
        "id": "5FVGhOWv5aIw",
        "outputId": "80214c33-e6f1-4112-bd69-c0448605b205"
      },
      "outputs": [
        {
          "output_type": "display_data",
          "data": {
            "text/plain": [
              "<IPython.core.display.HTML object>"
            ],
            "text/html": [
              "\n",
              "<style>\n",
              "    /* Turns off some styling */\n",
              "    progress {\n",
              "        /* gets rid of default border in Firefox and Opera. */\n",
              "        border: none;\n",
              "        /* Needs to be in here for Safari polyfill so background images work as expected. */\n",
              "        background-size: auto;\n",
              "    }\n",
              "    .progress-bar-interrupted, .progress-bar-interrupted::-webkit-progress-bar {\n",
              "        background: #F44336;\n",
              "    }\n",
              "</style>\n"
            ]
          },
          "metadata": {}
        },
        {
          "output_type": "display_data",
          "data": {
            "text/plain": [
              "<IPython.core.display.HTML object>"
            ],
            "text/html": [
              "<table border=\"1\" class=\"dataframe\">\n",
              "  <thead>\n",
              "    <tr style=\"text-align: left;\">\n",
              "      <th>epoch</th>\n",
              "      <th>train_loss</th>\n",
              "      <th>valid_loss</th>\n",
              "      <th>accuracy</th>\n",
              "      <th>time</th>\n",
              "    </tr>\n",
              "  </thead>\n",
              "  <tbody>\n",
              "    <tr>\n",
              "      <td>0</td>\n",
              "      <td>0.100438</td>\n",
              "      <td>0.045707</td>\n",
              "      <td>0.987100</td>\n",
              "      <td>14:51</td>\n",
              "    </tr>\n",
              "  </tbody>\n",
              "</table>"
            ]
          },
          "metadata": {}
        }
      ],
      "source": [
        "learn = vision_learner(dls, resnet18, pretrained=False, metrics=accuracy)\n",
        "learn.fit_one_cycle(1, 0.1)"
      ]
    },
    {
      "cell_type": "markdown",
      "source": [
        "After one epoch of training, it already achieves 98.7% accuracy O_O"
      ],
      "metadata": {
        "id": "39fNZEJzfsSj"
      }
    },
    {
      "cell_type": "markdown",
      "source": [
        "We can now plot the confusion matrix to see where it stumbled"
      ],
      "metadata": {
        "id": "SGawgUDGf0Je"
      }
    },
    {
      "cell_type": "code",
      "execution_count": null,
      "metadata": {
        "colab": {
          "base_uri": "https://localhost:8080/",
          "height": 311
        },
        "id": "WGY630tQ3E7t",
        "outputId": "0d60b961-7fd4-4f04-aa74-5ee290ce2b58"
      },
      "outputs": [
        {
          "output_type": "display_data",
          "data": {
            "text/plain": [
              "<IPython.core.display.HTML object>"
            ],
            "text/html": [
              "\n",
              "<style>\n",
              "    /* Turns off some styling */\n",
              "    progress {\n",
              "        /* gets rid of default border in Firefox and Opera. */\n",
              "        border: none;\n",
              "        /* Needs to be in here for Safari polyfill so background images work as expected. */\n",
              "        background-size: auto;\n",
              "    }\n",
              "    .progress-bar-interrupted, .progress-bar-interrupted::-webkit-progress-bar {\n",
              "        background: #F44336;\n",
              "    }\n",
              "</style>\n"
            ]
          },
          "metadata": {}
        },
        {
          "output_type": "display_data",
          "data": {
            "text/plain": [
              "<IPython.core.display.HTML object>"
            ],
            "text/html": [
              ""
            ]
          },
          "metadata": {}
        },
        {
          "output_type": "display_data",
          "data": {
            "text/plain": [
              "<IPython.core.display.HTML object>"
            ],
            "text/html": [
              "\n",
              "<style>\n",
              "    /* Turns off some styling */\n",
              "    progress {\n",
              "        /* gets rid of default border in Firefox and Opera. */\n",
              "        border: none;\n",
              "        /* Needs to be in here for Safari polyfill so background images work as expected. */\n",
              "        background-size: auto;\n",
              "    }\n",
              "    .progress-bar-interrupted, .progress-bar-interrupted::-webkit-progress-bar {\n",
              "        background: #F44336;\n",
              "    }\n",
              "</style>\n"
            ]
          },
          "metadata": {}
        },
        {
          "output_type": "display_data",
          "data": {
            "text/plain": [
              "<IPython.core.display.HTML object>"
            ],
            "text/html": [
              ""
            ]
          },
          "metadata": {}
        },
        {
          "output_type": "display_data",
          "data": {
            "text/plain": [
              "<Figure size 432x288 with 1 Axes>"
            ],
            "image/png": "[encoded data removed]"
          },
          "metadata": {
            "needs_background": "light"
          }
        }
      ],
      "source": [
        "interp = ClassificationInterpretation.from_learner(learn)\n",
        "interp.plot_confusion_matrix()"
      ]
    },
    {
      "cell_type": "markdown",
      "source": [
        "And we can also plot the top losses to see which images it messed up on (and perhaps change the label of in the actual dataset if we deem the label to be wrong)"
      ],
      "metadata": {
        "id": "y3JJn1TWf3Gp"
      }
    },
    {
      "cell_type": "code",
      "execution_count": null,
      "metadata": {
        "colab": {
          "base_uri": "https://localhost:8080/",
          "height": 206
        },
        "id": "7F6bxleQ6RUP",
        "outputId": "e8de6a7c-05bd-4ad2-c57d-c080e13bbf5e"
      },
      "outputs": [
        {
          "output_type": "display_data",
          "data": {
            "text/plain": [
              "<IPython.core.display.HTML object>"
            ],
            "text/html": [
              "\n",
              "<style>\n",
              "    /* Turns off some styling */\n",
              "    progress {\n",
              "        /* gets rid of default border in Firefox and Opera. */\n",
              "        border: none;\n",
              "        /* Needs to be in here for Safari polyfill so background images work as expected. */\n",
              "        background-size: auto;\n",
              "    }\n",
              "    .progress-bar-interrupted, .progress-bar-interrupted::-webkit-progress-bar {\n",
              "        background: #F44336;\n",
              "    }\n",
              "</style>\n"
            ]
          },
          "metadata": {}
        },
        {
          "output_type": "display_data",
          "data": {
            "text/plain": [
              "<IPython.core.display.HTML object>"
            ],
            "text/html": [
              ""
            ]
          },
          "metadata": {}
        },
        {
          "output_type": "display_data",
          "data": {
            "text/plain": [
              "<Figure size 1080x216 with 5 Axes>"
            ],
            "image/png": "[encoded data removed]"
          },
          "metadata": {
            "needs_background": "light"
          }
        }
      ],
      "source": [
        "interp.plot_top_losses(5, nrows=1)"
      ]
    },
    {
      "cell_type": "markdown",
      "source": [
        "You can see that the \"6\", \"5\", and \"9\" are examples of scuffed images"
      ],
      "metadata": {
        "id": "n0Yyw_eQg6QU"
      }
    }
  ],
  "metadata": {
    "colab": {
      "collapsed_sections": [],
      "name": "MNIST.ipynb",
      "provenance": []
    },
    "interpreter": {
      "hash": "11938c6bc6919ae2720b4d5011047913343b08a43b18698fd82dedb0d4417594"
    },
    "kernelspec": {
      "display_name": "Python 3.9.6 64-bit (system)",
      "language": "python",
      "name": "python3"
    },
    "language_info": {
      "codemirror_mode": {
        "name": "ipython",
        "version": 3
      },
      "file_extension": ".py",
      "mimetype": "text/x-python",
      "name": "python",
      "nbconvert_exporter": "python",
      "pygments_lexer": "ipython3",
      "version": "3.9.6"
    }
  },
  "nbformat": 4,
  "nbformat_minor": 0
}